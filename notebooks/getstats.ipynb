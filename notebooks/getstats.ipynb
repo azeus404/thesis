{
 "cells": [
  {
   "cell_type": "code",
   "execution_count": 5,
   "metadata": {},
   "outputs": [],
   "source": [
    "import os\n",
    "import PIL\n",
    "import numpy as np\n",
    "import pandas as pd\n",
    "import matplotlib.pyplot as plt\n",
    "\n",
    "from IPython.display import display, Image\n",
    "from IPython.core.display import HTML\n",
    "from keras.preprocessing.image import ImageDataGenerator,img_to_array,load_img\n",
    "from sklearn.model_selection import StratifiedKFold\n",
    " \n",
    "%matplotlib inline"
   ]
  },
  {
   "cell_type": "markdown",
   "metadata": {},
   "source": [
    "# Images info"
   ]
  },
  {
   "cell_type": "code",
   "execution_count": 6,
   "metadata": {},
   "outputs": [],
   "source": [
    "widths, heights = [], []\n",
    "width_min, width_max = np.inf, -np.inf\n",
    "height_min, height_max = np.inf, -np.inf"
   ]
  },
  {
   "cell_type": "code",
   "execution_count": 7,
   "metadata": {},
   "outputs": [],
   "source": [
    "train_path = '/home/labuser/deeplearning/thesis/datasets/processed/RGB/train'"
   ]
  },
  {
   "cell_type": "code",
   "execution_count": 8,
   "metadata": {},
   "outputs": [],
   "source": [
    "#classes\n",
    "classes = os.listdir('/home/labuser/deeplearning/thesis/datasets/processed/RGB/train')"
   ]
  },
  {
   "cell_type": "code",
   "execution_count": 9,
   "metadata": {},
   "outputs": [],
   "source": [
    "for classr in classes:\n",
    "    for filename in os.listdir(os.path.join(train_path,classr)):\n",
    "        image = PIL.Image.open(os.path.join(train_path,classr, filename))\n",
    "        widths.append(image.size[0]) # width\n",
    "        heights.append(image.size[1]) # height"
   ]
  },
  {
   "cell_type": "code",
   "execution_count": 10,
   "metadata": {},
   "outputs": [
    {
     "name": "stdout",
     "output_type": "stream",
     "text": [
      "Training data average (width, height):  (348.77126254622294, 388.5523859834478)\n",
      "Training data (minimum width, maximum width):  (128, 1024)\n",
      "Training data (minimum height, maximum height):  (241, 10049)\n",
      "Training data (STD of widths, STD of heights):  (137.97719472229835, 255.37403528633746)\n"
     ]
    }
   ],
   "source": [
    "print('Training data average (width, height): ', (np.mean(widths), np.mean(heights)))\n",
    "print('Training data (minimum width, maximum width): ', (np.min(widths), np.max(widths)))\n",
    "print('Training data (minimum height, maximum height): ', (np.min(heights), np.max(heights)))\n",
    "print('Training data (STD of widths, STD of heights): ', (np.std(widths), np.std(heights)))\n"
   ]
  },
  {
   "cell_type": "markdown",
   "metadata": {},
   "source": [
    "# Distribution of image properties"
   ]
  },
  {
   "cell_type": "code",
   "execution_count": 11,
   "metadata": {},
   "outputs": [
    {
     "data": {
      "image/png": "[encoded data removed]",
      "text/plain": [
       "<Figure size 864x576 with 2 Axes>"
      ]
     },
     "metadata": {
      "needs_background": "light"
     },
     "output_type": "display_data"
    }
   ],
   "source": [
    "fig, (ax1, ax2) = plt.subplots(2, figsize=(12, 8))\n",
    "fig.suptitle('Histograms of training image widths, heights')\n",
    "ax1.hist(widths, bins=100); ax1.set_xlabel('Width'); ax1.set_ylabel('No. of images')\n",
    "ax2.hist(heights, bins=100); ax2.set_xlabel('Height'); ax2.set_ylabel('No. of images')\n",
    "plt.show()"
   ]
  },
  {
   "cell_type": "markdown",
   "metadata": {},
   "source": [
    "# Approach 2"
   ]
  },
  {
   "cell_type": "code",
   "execution_count": 14,
   "metadata": {},
   "outputs": [],
   "source": [
    "classes = os.listdir('/home/labuser/deeplearning/thesis/datasets/processed/RGB/train')\n",
    "df1 = pd.DataFrame(columns=['id','class','img_path'])\n",
    "for classr in classes:\n",
    "    for item in os.listdir(os.path.join(train_path, classr)):\n",
    "        df1 = df1.append({'id':item,'class':classr,'img_path':os.path.join(train_path, classr,item)},ignore_index=True) "
   ]
  },
  {
   "cell_type": "code",
   "execution_count": 86,
   "metadata": {},
   "outputs": [
    {
     "data": {
      "text/html": [
       "<div>\n",
       "<style scoped>\n",
       "    .dataframe tbody tr th:only-of-type {\n",
       "        vertical-align: middle;\n",
       "    }\n",
       "\n",
       "    .dataframe tbody tr th {\n",
       "        vertical-align: top;\n",
       "    }\n",
       "\n",
       "    .dataframe thead th {\n",
       "        text-align: right;\n",
       "    }\n",
       "</style>\n",
       "<table border=\"1\" class=\"dataframe\">\n",
       "  <thead>\n",
       "    <tr style=\"text-align: right;\">\n",
       "      <th></th>\n",
       "      <th>id</th>\n",
       "      <th>class</th>\n",
       "      <th>img_path</th>\n",
       "    </tr>\n",
       "  </thead>\n",
       "  <tbody>\n",
       "    <tr>\n",
       "      <th>5674</th>\n",
       "      <td>62a17d21f3b0b8f3ebdd292dd53433a156889e5091cebe...</td>\n",
       "      <td>cerber</td>\n",
       "      <td>/home/labuser/deeplearning/thesis/datasets/pro...</td>\n",
       "    </tr>\n",
       "    <tr>\n",
       "      <th>5675</th>\n",
       "      <td>6b8c738ea8afe41fd5b5b3765cfe0e6055a57e8518af91...</td>\n",
       "      <td>cerber</td>\n",
       "      <td>/home/labuser/deeplearning/thesis/datasets/pro...</td>\n",
       "    </tr>\n",
       "    <tr>\n",
       "      <th>5676</th>\n",
       "      <td>8af42fd6aa4330b86ddc6f8367901bb80f307df115bf3f...</td>\n",
       "      <td>cerber</td>\n",
       "      <td>/home/labuser/deeplearning/thesis/datasets/pro...</td>\n",
       "    </tr>\n",
       "    <tr>\n",
       "      <th>5677</th>\n",
       "      <td>bd0d0db1bddc1ddfc9aa38611ed4d94976dcbdd18ef4b1...</td>\n",
       "      <td>cerber</td>\n",
       "      <td>/home/labuser/deeplearning/thesis/datasets/pro...</td>\n",
       "    </tr>\n",
       "    <tr>\n",
       "      <th>5678</th>\n",
       "      <td>a96b5c1f6f9358fe9d5235d4a430e2fea58a99a6b4fb63...</td>\n",
       "      <td>cerber</td>\n",
       "      <td>/home/labuser/deeplearning/thesis/datasets/pro...</td>\n",
       "    </tr>\n",
       "  </tbody>\n",
       "</table>\n",
       "</div>"
      ],
      "text/plain": [
       "                                                     id   class  \\\n",
       "5674  62a17d21f3b0b8f3ebdd292dd53433a156889e5091cebe...  cerber   \n",
       "5675  6b8c738ea8afe41fd5b5b3765cfe0e6055a57e8518af91...  cerber   \n",
       "5676  8af42fd6aa4330b86ddc6f8367901bb80f307df115bf3f...  cerber   \n",
       "5677  bd0d0db1bddc1ddfc9aa38611ed4d94976dcbdd18ef4b1...  cerber   \n",
       "5678  a96b5c1f6f9358fe9d5235d4a430e2fea58a99a6b4fb63...  cerber   \n",
       "\n",
       "                                               img_path  \n",
       "5674  /home/labuser/deeplearning/thesis/datasets/pro...  \n",
       "5675  /home/labuser/deeplearning/thesis/datasets/pro...  \n",
       "5676  /home/labuser/deeplearning/thesis/datasets/pro...  \n",
       "5677  /home/labuser/deeplearning/thesis/datasets/pro...  \n",
       "5678  /home/labuser/deeplearning/thesis/datasets/pro...  "
      ]
     },
     "execution_count": 86,
     "metadata": {},
     "output_type": "execute_result"
    }
   ],
   "source": [
    "df1.tail()"
   ]
  },
  {
   "cell_type": "code",
   "execution_count": 15,
   "metadata": {},
   "outputs": [],
   "source": [
    "train_data = df1\n",
    "Y = train_data[['class']]"
   ]
  },
  {
   "cell_type": "code",
   "execution_count": 18,
   "metadata": {},
   "outputs": [
    {
     "ename": "AttributeError",
     "evalue": "'DataFrame' object has no attribute 'unique'",
     "output_type": "error",
     "traceback": [
      "\u001b[0;31m---------------------------------------------------------------------------\u001b[0m",
      "\u001b[0;31mAttributeError\u001b[0m                            Traceback (most recent call last)",
      "\u001b[0;32m<ipython-input-18-cd429eecf39f>\u001b[0m in \u001b[0;36m<module>\u001b[0;34m\u001b[0m\n\u001b[0;32m----> 1\u001b[0;31m \u001b[0mY\u001b[0m\u001b[0;34m.\u001b[0m\u001b[0munique\u001b[0m\u001b[0;34m\u001b[0m\u001b[0;34m\u001b[0m\u001b[0m\n\u001b[0m",
      "\u001b[0;32m~/.local/share/virtualenvs/dataman-vjwH9nfk/lib/python3.6/site-packages/pandas/core/generic.py\u001b[0m in \u001b[0;36m__getattr__\u001b[0;34m(self, name)\u001b[0m\n\u001b[1;32m   5128\u001b[0m             \u001b[0;32mif\u001b[0m \u001b[0mself\u001b[0m\u001b[0;34m.\u001b[0m\u001b[0m_info_axis\u001b[0m\u001b[0;34m.\u001b[0m\u001b[0m_can_hold_identifiers_and_holds_name\u001b[0m\u001b[0;34m(\u001b[0m\u001b[0mname\u001b[0m\u001b[0;34m)\u001b[0m\u001b[0;34m:\u001b[0m\u001b[0;34m\u001b[0m\u001b[0;34m\u001b[0m\u001b[0m\n\u001b[1;32m   5129\u001b[0m                 \u001b[0;32mreturn\u001b[0m \u001b[0mself\u001b[0m\u001b[0;34m[\u001b[0m\u001b[0mname\u001b[0m\u001b[0;34m]\u001b[0m\u001b[0;34m\u001b[0m\u001b[0;34m\u001b[0m\u001b[0m\n\u001b[0;32m-> 5130\u001b[0;31m             \u001b[0;32mreturn\u001b[0m \u001b[0mobject\u001b[0m\u001b[0;34m.\u001b[0m\u001b[0m__getattribute__\u001b[0m\u001b[0;34m(\u001b[0m\u001b[0mself\u001b[0m\u001b[0;34m,\u001b[0m \u001b[0mname\u001b[0m\u001b[0;34m)\u001b[0m\u001b[0;34m\u001b[0m\u001b[0;34m\u001b[0m\u001b[0m\n\u001b[0m\u001b[1;32m   5131\u001b[0m \u001b[0;34m\u001b[0m\u001b[0m\n\u001b[1;32m   5132\u001b[0m     \u001b[0;32mdef\u001b[0m \u001b[0m__setattr__\u001b[0m\u001b[0;34m(\u001b[0m\u001b[0mself\u001b[0m\u001b[0;34m,\u001b[0m \u001b[0mname\u001b[0m\u001b[0;34m:\u001b[0m \u001b[0mstr\u001b[0m\u001b[0;34m,\u001b[0m \u001b[0mvalue\u001b[0m\u001b[0;34m)\u001b[0m \u001b[0;34m->\u001b[0m \u001b[0;32mNone\u001b[0m\u001b[0;34m:\u001b[0m\u001b[0;34m\u001b[0m\u001b[0;34m\u001b[0m\u001b[0m\n",
      "\u001b[0;31mAttributeError\u001b[0m: 'DataFrame' object has no attribute 'unique'"
     ]
    }
   ],
   "source": []
  },
  {
   "cell_type": "code",
   "execution_count": 87,
   "metadata": {},
   "outputs": [
    {
     "data": {
      "image/png": "[encoded data removed]",
      "text/plain": [
       "<Figure size 864x1800 with 1 Axes>"
      ]
     },
     "metadata": {
      "needs_background": "light"
     },
     "output_type": "display_data"
    }
   ],
   "source": [
    "ax=pd.value_counts(df1['class'],ascending=True).plot(kind='barh',title=\"Class Distribution\",figsize=(12,25))\n",
    "ax.set(xlabel=\"Images per class\", ylabel=\"Classes\")\n",
    "ax.xaxis.label.set_size(10)\n",
    "ax.yaxis.label.set_size(10)\n",
    "ax.title.set_size(60)\n",
    "plt.show()"
   ]
  },
  {
   "cell_type": "code",
   "execution_count": 88,
   "metadata": {},
   "outputs": [
    {
     "data": {
      "text/plain": [
       "(5679, 299, 299, 3)"
      ]
     },
     "execution_count": 88,
     "metadata": {},
     "output_type": "execute_result"
    }
   ],
   "source": [
    "img_pixel=np.array([img_to_array(load_img(img, target_size=(299, 299))) for img in df1['img_path'].values.tolist()])\n",
    "\n",
    "#samples in trainset (N, H,W,D)\n",
    "img_pixel.shape"
   ]
  },
  {
   "cell_type": "code",
   "execution_count": 89,
   "metadata": {},
   "outputs": [
    {
     "data": {
      "text/html": [
       "<div>\n",
       "<style scoped>\n",
       "    .dataframe tbody tr th:only-of-type {\n",
       "        vertical-align: middle;\n",
       "    }\n",
       "\n",
       "    .dataframe tbody tr th {\n",
       "        vertical-align: top;\n",
       "    }\n",
       "\n",
       "    .dataframe thead th {\n",
       "        text-align: right;\n",
       "    }\n",
       "</style>\n",
       "<table border=\"1\" class=\"dataframe\">\n",
       "  <thead>\n",
       "    <tr style=\"text-align: right;\">\n",
       "      <th></th>\n",
       "      <th>benign</th>\n",
       "      <th>cerber</th>\n",
       "      <th>crowti</th>\n",
       "      <th>gandcrab</th>\n",
       "      <th>genasom</th>\n",
       "      <th>locky</th>\n",
       "      <th>tescrypt</th>\n",
       "      <th>wannacrypt</th>\n",
       "    </tr>\n",
       "  </thead>\n",
       "  <tbody>\n",
       "    <tr>\n",
       "      <th>0</th>\n",
       "      <td>0</td>\n",
       "      <td>0</td>\n",
       "      <td>0</td>\n",
       "      <td>0</td>\n",
       "      <td>1</td>\n",
       "      <td>0</td>\n",
       "      <td>0</td>\n",
       "      <td>0</td>\n",
       "    </tr>\n",
       "    <tr>\n",
       "      <th>1</th>\n",
       "      <td>0</td>\n",
       "      <td>0</td>\n",
       "      <td>0</td>\n",
       "      <td>0</td>\n",
       "      <td>1</td>\n",
       "      <td>0</td>\n",
       "      <td>0</td>\n",
       "      <td>0</td>\n",
       "    </tr>\n",
       "    <tr>\n",
       "      <th>2</th>\n",
       "      <td>0</td>\n",
       "      <td>0</td>\n",
       "      <td>0</td>\n",
       "      <td>0</td>\n",
       "      <td>1</td>\n",
       "      <td>0</td>\n",
       "      <td>0</td>\n",
       "      <td>0</td>\n",
       "    </tr>\n",
       "    <tr>\n",
       "      <th>3</th>\n",
       "      <td>0</td>\n",
       "      <td>0</td>\n",
       "      <td>0</td>\n",
       "      <td>0</td>\n",
       "      <td>1</td>\n",
       "      <td>0</td>\n",
       "      <td>0</td>\n",
       "      <td>0</td>\n",
       "    </tr>\n",
       "    <tr>\n",
       "      <th>4</th>\n",
       "      <td>0</td>\n",
       "      <td>0</td>\n",
       "      <td>0</td>\n",
       "      <td>0</td>\n",
       "      <td>1</td>\n",
       "      <td>0</td>\n",
       "      <td>0</td>\n",
       "      <td>0</td>\n",
       "    </tr>\n",
       "  </tbody>\n",
       "</table>\n",
       "</div>"
      ],
      "text/plain": [
       "   benign  cerber  crowti  gandcrab  genasom  locky  tescrypt  wannacrypt\n",
       "0       0       0       0         0        1      0         0           0\n",
       "1       0       0       0         0        1      0         0           0\n",
       "2       0       0       0         0        1      0         0           0\n",
       "3       0       0       0         0        1      0         0           0\n",
       "4       0       0       0         0        1      0         0           0"
      ]
     },
     "execution_count": 89,
     "metadata": {},
     "output_type": "execute_result"
    }
   ],
   "source": [
    "#labeld encoding\n",
    "img_label=df1['class']\n",
    "img_label=pd.get_dummies(df1['class'])\n",
    "img_label.head()"
   ]
  },
  {
   "cell_type": "code",
   "execution_count": 90,
   "metadata": {},
   "outputs": [],
   "source": [
    "X=img_pixel\n",
    "y=img_label.values"
   ]
  },
  {
   "cell_type": "code",
   "execution_count": 91,
   "metadata": {},
   "outputs": [
    {
     "name": "stdout",
     "output_type": "stream",
     "text": [
      "(5679, 299, 299, 3)\n",
      "(5679, 8)\n"
     ]
    }
   ],
   "source": [
    "print(X.shape)\n",
    "print(y.shape)"
   ]
  },
  {
   "cell_type": "code",
   "execution_count": 92,
   "metadata": {},
   "outputs": [],
   "source": [
    "#https://www.kaggle.com/careyai/inceptionv3-full-pretrained-model-instructions\n",
    "train_datagen = ImageDataGenerator(samplewise_center=True, samplewise_std_normalization=True)\n",
    "test_datagen = ImageDataGenerator(samplewise_center=True, samplewise_std_normalization=True)"
   ]
  },
  {
   "cell_type": "code",
   "execution_count": null,
   "metadata": {},
   "outputs": [],
   "source": [
    "# default 80 20"
   ]
  },
  {
   "cell_type": "code",
   "execution_count": 93,
   "metadata": {},
   "outputs": [],
   "source": [
    "x_train, x_validation, y_train, y_validation = train_test_split(X, y, test_size=0.2, stratify=np.array(y), random_state=100)"
   ]
  },
  {
   "cell_type": "code",
   "execution_count": 94,
   "metadata": {},
   "outputs": [
    {
     "name": "stdout",
     "output_type": "stream",
     "text": [
      "x_train shape =  (4543, 299, 299, 3)\n",
      "x_validation shape =  (1136, 299, 299, 3)\n"
     ]
    }
   ],
   "source": [
    "print ('x_train shape = ', x_train.shape)\n",
    "print ('x_validation shape = ', x_validation.shape)"
   ]
  },
  {
   "cell_type": "code",
   "execution_count": 95,
   "metadata": {},
   "outputs": [
    {
     "ename": "AttributeError",
     "evalue": "'numpy.ndarray' object has no attribute 'value_counts'",
     "output_type": "error",
     "traceback": [
      "\u001b[0;31m---------------------------------------------------------------------------\u001b[0m",
      "\u001b[0;31mAttributeError\u001b[0m                            Traceback (most recent call last)",
      "\u001b[0;32m<ipython-input-95-b955b3c22195>\u001b[0m in \u001b[0;36m<module>\u001b[0;34m\u001b[0m\n\u001b[1;32m      1\u001b[0m \u001b[0;31m# the plot should show an equal percentage split for each class\u001b[0m\u001b[0;34m\u001b[0m\u001b[0;34m\u001b[0m\u001b[0;34m\u001b[0m\u001b[0m\n\u001b[0;32m----> 2\u001b[0;31m \u001b[0mdata\u001b[0m \u001b[0;34m=\u001b[0m \u001b[0my_train\u001b[0m\u001b[0;34m.\u001b[0m\u001b[0mvalue_counts\u001b[0m\u001b[0;34m(\u001b[0m\u001b[0;34m)\u001b[0m\u001b[0;34m.\u001b[0m\u001b[0msort_index\u001b[0m\u001b[0;34m(\u001b[0m\u001b[0;34m)\u001b[0m\u001b[0;34m.\u001b[0m\u001b[0mto_frame\u001b[0m\u001b[0;34m(\u001b[0m\u001b[0;34m)\u001b[0m   \u001b[0;31m# this creates the data frame with train numbers\u001b[0m\u001b[0;34m\u001b[0m\u001b[0;34m\u001b[0m\u001b[0m\n\u001b[0m\u001b[1;32m      3\u001b[0m \u001b[0mdata\u001b[0m\u001b[0;34m.\u001b[0m\u001b[0mcolumns\u001b[0m \u001b[0;34m=\u001b[0m \u001b[0;34m[\u001b[0m\u001b[0;34m'train'\u001b[0m\u001b[0;34m]\u001b[0m   \u001b[0;31m# give the column a name\u001b[0m\u001b[0;34m\u001b[0m\u001b[0;34m\u001b[0m\u001b[0m\n\u001b[1;32m      4\u001b[0m \u001b[0mdata\u001b[0m\u001b[0;34m[\u001b[0m\u001b[0;34m'validation'\u001b[0m\u001b[0;34m]\u001b[0m \u001b[0;34m=\u001b[0m \u001b[0my_validation\u001b[0m\u001b[0;34m.\u001b[0m\u001b[0mvalue_counts\u001b[0m\u001b[0;34m(\u001b[0m\u001b[0;34m)\u001b[0m\u001b[0;34m.\u001b[0m\u001b[0msort_index\u001b[0m\u001b[0;34m(\u001b[0m\u001b[0;34m)\u001b[0m\u001b[0;34m.\u001b[0m\u001b[0mto_frame\u001b[0m\u001b[0;34m(\u001b[0m\u001b[0;34m)\u001b[0m   \u001b[0;31m# add the validation numbers\u001b[0m\u001b[0;34m\u001b[0m\u001b[0;34m\u001b[0m\u001b[0m\n\u001b[1;32m      5\u001b[0m \u001b[0mnew_plot\u001b[0m \u001b[0;34m=\u001b[0m \u001b[0mdata\u001b[0m\u001b[0;34m[\u001b[0m\u001b[0;34m[\u001b[0m\u001b[0;34m'train'\u001b[0m\u001b[0;34m,\u001b[0m\u001b[0;34m'validation'\u001b[0m\u001b[0;34m]\u001b[0m\u001b[0;34m]\u001b[0m\u001b[0;34m.\u001b[0m\u001b[0msort_values\u001b[0m\u001b[0;34m(\u001b[0m\u001b[0;34m[\u001b[0m\u001b[0;34m'train'\u001b[0m\u001b[0;34m]\u001b[0m\u001b[0;34m+\u001b[0m\u001b[0;34m[\u001b[0m\u001b[0;34m'validation'\u001b[0m\u001b[0;34m]\u001b[0m\u001b[0;34m,\u001b[0m \u001b[0mascending\u001b[0m\u001b[0;34m=\u001b[0m\u001b[0;32mFalse\u001b[0m\u001b[0;34m)\u001b[0m   \u001b[0;31m# sort the data\u001b[0m\u001b[0;34m\u001b[0m\u001b[0;34m\u001b[0m\u001b[0m\n",
      "\u001b[0;31mAttributeError\u001b[0m: 'numpy.ndarray' object has no attribute 'value_counts'"
     ]
    }
   ],
   "source": [
    "# the plot should show an equal percentage split for each class\n",
    "data = y_train.value_counts().sort_index().to_frame()   # this creates the data frame with train numbers\n",
    "data.columns = ['train']   # give the column a name\n",
    "data['validation'] = y_validation.value_counts().sort_index().to_frame()   # add the validation numbers\n",
    "new_plot = data[['train','validation']].sort_values(['train']+['validation'], ascending=False)   # sort the data\n",
    "new_plot.plot(kind='bar', stacked=True)\n",
    "plt.show()"
   ]
  },
  {
   "cell_type": "code",
   "execution_count": null,
   "metadata": {},
   "outputs": [],
   "source": []
  },
  {
   "cell_type": "markdown",
   "metadata": {},
   "source": [
    "# K-fold crossvalidation"
   ]
  },
  {
   "cell_type": "markdown",
   "metadata": {},
   "source": [
    "dus anders dan de navieve aanpak door random hold out methode van 20%"
   ]
  },
  {
   "cell_type": "code",
   "execution_count": null,
   "metadata": {},
   "outputs": [],
   "source": [
    "from sklearn.model_selection import KFold"
   ]
  },
  {
   "cell_type": "markdown",
   "metadata": {},
   "source": [
    "https://machinelearningmastery.com/k-fold-cross-validation/\n",
    "K=10 between 5 and 10"
   ]
  },
  {
   "cell_type": "code",
   "execution_count": 96,
   "metadata": {},
   "outputs": [
    {
     "name": "stdout",
     "output_type": "stream",
     "text": [
      "TRAIN: [ 568  569  570 ... 5676 5677 5678] TEST: [  0   1   2   3   4   5   6   7   8   9  10  11  12  13  14  15  16  17\n",
      "  18  19  20  21  22  23  24  25  26  27  28  29  30  31  32  33  34  35\n",
      "  36  37  38  39  40  41  42  43  44  45  46  47  48  49  50  51  52  53\n",
      "  54  55  56  57  58  59  60  61  62  63  64  65  66  67  68  69  70  71\n",
      "  72  73  74  75  76  77  78  79  80  81  82  83  84  85  86  87  88  89\n",
      "  90  91  92  93  94  95  96  97  98  99 100 101 102 103 104 105 106 107\n",
      " 108 109 110 111 112 113 114 115 116 117 118 119 120 121 122 123 124 125\n",
      " 126 127 128 129 130 131 132 133 134 135 136 137 138 139 140 141 142 143\n",
      " 144 145 146 147 148 149 150 151 152 153 154 155 156 157 158 159 160 161\n",
      " 162 163 164 165 166 167 168 169 170 171 172 173 174 175 176 177 178 179\n",
      " 180 181 182 183 184 185 186 187 188 189 190 191 192 193 194 195 196 197\n",
      " 198 199 200 201 202 203 204 205 206 207 208 209 210 211 212 213 214 215\n",
      " 216 217 218 219 220 221 222 223 224 225 226 227 228 229 230 231 232 233\n",
      " 234 235 236 237 238 239 240 241 242 243 244 245 246 247 248 249 250 251\n",
      " 252 253 254 255 256 257 258 259 260 261 262 263 264 265 266 267 268 269\n",
      " 270 271 272 273 274 275 276 277 278 279 280 281 282 283 284 285 286 287\n",
      " 288 289 290 291 292 293 294 295 296 297 298 299 300 301 302 303 304 305\n",
      " 306 307 308 309 310 311 312 313 314 315 316 317 318 319 320 321 322 323\n",
      " 324 325 326 327 328 329 330 331 332 333 334 335 336 337 338 339 340 341\n",
      " 342 343 344 345 346 347 348 349 350 351 352 353 354 355 356 357 358 359\n",
      " 360 361 362 363 364 365 366 367 368 369 370 371 372 373 374 375 376 377\n",
      " 378 379 380 381 382 383 384 385 386 387 388 389 390 391 392 393 394 395\n",
      " 396 397 398 399 400 401 402 403 404 405 406 407 408 409 410 411 412 413\n",
      " 414 415 416 417 418 419 420 421 422 423 424 425 426 427 428 429 430 431\n",
      " 432 433 434 435 436 437 438 439 440 441 442 443 444 445 446 447 448 449\n",
      " 450 451 452 453 454 455 456 457 458 459 460 461 462 463 464 465 466 467\n",
      " 468 469 470 471 472 473 474 475 476 477 478 479 480 481 482 483 484 485\n",
      " 486 487 488 489 490 491 492 493 494 495 496 497 498 499 500 501 502 503\n",
      " 504 505 506 507 508 509 510 511 512 513 514 515 516 517 518 519 520 521\n",
      " 522 523 524 525 526 527 528 529 530 531 532 533 534 535 536 537 538 539\n",
      " 540 541 542 543 544 545 546 547 548 549 550 551 552 553 554 555 556 557\n",
      " 558 559 560 561 562 563 564 565 566 567]\n",
      "TRAIN: [   0    1    2 ... 5676 5677 5678] TEST: [ 568  569  570  571  572  573  574  575  576  577  578  579  580  581\n",
      "  582  583  584  585  586  587  588  589  590  591  592  593  594  595\n",
      "  596  597  598  599  600  601  602  603  604  605  606  607  608  609\n",
      "  610  611  612  613  614  615  616  617  618  619  620  621  622  623\n",
      "  624  625  626  627  628  629  630  631  632  633  634  635  636  637\n",
      "  638  639  640  641  642  643  644  645  646  647  648  649  650  651\n",
      "  652  653  654  655  656  657  658  659  660  661  662  663  664  665\n",
      "  666  667  668  669  670  671  672  673  674  675  676  677  678  679\n",
      "  680  681  682  683  684  685  686  687  688  689  690  691  692  693\n",
      "  694  695  696  697  698  699  700  701  702  703  704  705  706  707\n",
      "  708  709  710  711  712  713  714  715  716  717  718  719  720  721\n",
      "  722  723  724  725  726  727  728  729  730  731  732  733  734  735\n",
      "  736  737  738  739  740  741  742  743  744  745  746  747  748  749\n",
      "  750  751  752  753  754  755  756  757  758  759  760  761  762  763\n",
      "  764  765  766  767  768  769  770  771  772  773  774  775  776  777\n",
      "  778  779  780  781  782  783  784  785  786  787  788  789  790  791\n",
      "  792  793  794  795  796  797  798  799  800  801  802  803  804  805\n",
      "  806  807  808  809  810  811  812  813  814  815  816  817  818  819\n",
      "  820  821  822  823  824  825  826  827  828  829  830  831  832  833\n",
      "  834  835  836  837  838  839  840  841  842  843  844  845  846  847\n",
      "  848  849  850  851  852  853  854  855  856  857  858  859  860  861\n",
      "  862  863  864  865  866  867  868  869  870  871  872  873  874  875\n",
      "  876  877  878  879  880  881  882  883  884  885  886  887  888  889\n",
      "  890  891  892  893  894  895  896  897  898  899  900  901  902  903\n",
      "  904  905  906  907  908  909  910  911  912  913  914  915  916  917\n",
      "  918  919  920  921  922  923  924  925  926  927  928  929  930  931\n",
      "  932  933  934  935  936  937  938  939  940  941  942  943  944  945\n",
      "  946  947  948  949  950  951  952  953  954  955  956  957  958  959\n",
      "  960  961  962  963  964  965  966  967  968  969  970  971  972  973\n",
      "  974  975  976  977  978  979  980  981  982  983  984  985  986  987\n",
      "  988  989  990  991  992  993  994  995  996  997  998  999 1000 1001\n",
      " 1002 1003 1004 1005 1006 1007 1008 1009 1010 1011 1012 1013 1014 1015\n",
      " 1016 1017 1018 1019 1020 1021 1022 1023 1024 1025 1026 1027 1028 1029\n",
      " 1030 1031 1032 1033 1034 1035 1036 1037 1038 1039 1040 1041 1042 1043\n",
      " 1044 1045 1046 1047 1048 1049 1050 1051 1052 1053 1054 1055 1056 1057\n",
      " 1058 1059 1060 1061 1062 1063 1064 1065 1066 1067 1068 1069 1070 1071\n",
      " 1072 1073 1074 1075 1076 1077 1078 1079 1080 1081 1082 1083 1084 1085\n",
      " 1086 1087 1088 1089 1090 1091 1092 1093 1094 1095 1096 1097 1098 1099\n",
      " 1100 1101 1102 1103 1104 1105 1106 1107 1108 1109 1110 1111 1112 1113\n",
      " 1114 1115 1116 1117 1118 1119 1120 1121 1122 1123 1124 1125 1126 1127\n",
      " 1128 1129 1130 1131 1132 1133 1134 1135]\n",
      "TRAIN: [   0    1    2 ... 5676 5677 5678] TEST: [1136 1137 1138 1139 1140 1141 1142 1143 1144 1145 1146 1147 1148 1149\n",
      " 1150 1151 1152 1153 1154 1155 1156 1157 1158 1159 1160 1161 1162 1163\n",
      " 1164 1165 1166 1167 1168 1169 1170 1171 1172 1173 1174 1175 1176 1177\n",
      " 1178 1179 1180 1181 1182 1183 1184 1185 1186 1187 1188 1189 1190 1191\n",
      " 1192 1193 1194 1195 1196 1197 1198 1199 1200 1201 1202 1203 1204 1205\n",
      " 1206 1207 1208 1209 1210 1211 1212 1213 1214 1215 1216 1217 1218 1219\n",
      " 1220 1221 1222 1223 1224 1225 1226 1227 1228 1229 1230 1231 1232 1233\n",
      " 1234 1235 1236 1237 1238 1239 1240 1241 1242 1243 1244 1245 1246 1247\n",
      " 1248 1249 1250 1251 1252 1253 1254 1255 1256 1257 1258 1259 1260 1261\n",
      " 1262 1263 1264 1265 1266 1267 1268 1269 1270 1271 1272 1273 1274 1275\n",
      " 1276 1277 1278 1279 1280 1281 1282 1283 1284 1285 1286 1287 1288 1289\n",
      " 1290 1291 1292 1293 1294 1295 1296 1297 1298 1299 1300 1301 1302 1303\n",
      " 1304 1305 1306 1307 1308 1309 1310 1311 1312 1313 1314 1315 1316 1317\n",
      " 1318 1319 1320 1321 1322 1323 1324 1325 1326 1327 1328 1329 1330 1331\n",
      " 1332 1333 1334 1335 1336 1337 1338 1339 1340 1341 1342 1343 1344 1345\n",
      " 1346 1347 1348 1349 1350 1351 1352 1353 1354 1355 1356 1357 1358 1359\n",
      " 1360 1361 1362 1363 1364 1365 1366 1367 1368 1369 1370 1371 1372 1373\n",
      " 1374 1375 1376 1377 1378 1379 1380 1381 1382 1383 1384 1385 1386 1387\n",
      " 1388 1389 1390 1391 1392 1393 1394 1395 1396 1397 1398 1399 1400 1401\n",
      " 1402 1403 1404 1405 1406 1407 1408 1409 1410 1411 1412 1413 1414 1415\n",
      " 1416 1417 1418 1419 1420 1421 1422 1423 1424 1425 1426 1427 1428 1429\n",
      " 1430 1431 1432 1433 1434 1435 1436 1437 1438 1439 1440 1441 1442 1443\n",
      " 1444 1445 1446 1447 1448 1449 1450 1451 1452 1453 1454 1455 1456 1457\n",
      " 1458 1459 1460 1461 1462 1463 1464 1465 1466 1467 1468 1469 1470 1471\n",
      " 1472 1473 1474 1475 1476 1477 1478 1479 1480 1481 1482 1483 1484 1485\n",
      " 1486 1487 1488 1489 1490 1491 1492 1493 1494 1495 1496 1497 1498 1499\n",
      " 1500 1501 1502 1503 1504 1505 1506 1507 1508 1509 1510 1511 1512 1513\n",
      " 1514 1515 1516 1517 1518 1519 1520 1521 1522 1523 1524 1525 1526 1527\n",
      " 1528 1529 1530 1531 1532 1533 1534 1535 1536 1537 1538 1539 1540 1541\n",
      " 1542 1543 1544 1545 1546 1547 1548 1549 1550 1551 1552 1553 1554 1555\n",
      " 1556 1557 1558 1559 1560 1561 1562 1563 1564 1565 1566 1567 1568 1569\n",
      " 1570 1571 1572 1573 1574 1575 1576 1577 1578 1579 1580 1581 1582 1583\n",
      " 1584 1585 1586 1587 1588 1589 1590 1591 1592 1593 1594 1595 1596 1597\n",
      " 1598 1599 1600 1601 1602 1603 1604 1605 1606 1607 1608 1609 1610 1611\n",
      " 1612 1613 1614 1615 1616 1617 1618 1619 1620 1621 1622 1623 1624 1625\n",
      " 1626 1627 1628 1629 1630 1631 1632 1633 1634 1635 1636 1637 1638 1639\n",
      " 1640 1641 1642 1643 1644 1645 1646 1647 1648 1649 1650 1651 1652 1653\n",
      " 1654 1655 1656 1657 1658 1659 1660 1661 1662 1663 1664 1665 1666 1667\n",
      " 1668 1669 1670 1671 1672 1673 1674 1675 1676 1677 1678 1679 1680 1681\n",
      " 1682 1683 1684 1685 1686 1687 1688 1689 1690 1691 1692 1693 1694 1695\n",
      " 1696 1697 1698 1699 1700 1701 1702 1703]\n",
      "TRAIN: [   0    1    2 ... 5676 5677 5678] TEST: [1704 1705 1706 1707 1708 1709 1710 1711 1712 1713 1714 1715 1716 1717\n",
      " 1718 1719 1720 1721 1722 1723 1724 1725 1726 1727 1728 1729 1730 1731\n",
      " 1732 1733 1734 1735 1736 1737 1738 1739 1740 1741 1742 1743 1744 1745\n",
      " 1746 1747 1748 1749 1750 1751 1752 1753 1754 1755 1756 1757 1758 1759\n",
      " 1760 1761 1762 1763 1764 1765 1766 1767 1768 1769 1770 1771 1772 1773\n",
      " 1774 1775 1776 1777 1778 1779 1780 1781 1782 1783 1784 1785 1786 1787\n",
      " 1788 1789 1790 1791 1792 1793 1794 1795 1796 1797 1798 1799 1800 1801\n",
      " 1802 1803 1804 1805 1806 1807 1808 1809 1810 1811 1812 1813 1814 1815\n",
      " 1816 1817 1818 1819 1820 1821 1822 1823 1824 1825 1826 1827 1828 1829\n",
      " 1830 1831 1832 1833 1834 1835 1836 1837 1838 1839 1840 1841 1842 1843\n",
      " 1844 1845 1846 1847 1848 1849 1850 1851 1852 1853 1854 1855 1856 1857\n",
      " 1858 1859 1860 1861 1862 1863 1864 1865 1866 1867 1868 1869 1870 1871\n",
      " 1872 1873 1874 1875 1876 1877 1878 1879 1880 1881 1882 1883 1884 1885\n",
      " 1886 1887 1888 1889 1890 1891 1892 1893 1894 1895 1896 1897 1898 1899\n",
      " 1900 1901 1902 1903 1904 1905 1906 1907 1908 1909 1910 1911 1912 1913\n",
      " 1914 1915 1916 1917 1918 1919 1920 1921 1922 1923 1924 1925 1926 1927\n",
      " 1928 1929 1930 1931 1932 1933 1934 1935 1936 1937 1938 1939 1940 1941\n",
      " 1942 1943 1944 1945 1946 1947 1948 1949 1950 1951 1952 1953 1954 1955\n",
      " 1956 1957 1958 1959 1960 1961 1962 1963 1964 1965 1966 1967 1968 1969\n",
      " 1970 1971 1972 1973 1974 1975 1976 1977 1978 1979 1980 1981 1982 1983\n",
      " 1984 1985 1986 1987 1988 1989 1990 1991 1992 1993 1994 1995 1996 1997\n",
      " 1998 1999 2000 2001 2002 2003 2004 2005 2006 2007 2008 2009 2010 2011\n",
      " 2012 2013 2014 2015 2016 2017 2018 2019 2020 2021 2022 2023 2024 2025\n",
      " 2026 2027 2028 2029 2030 2031 2032 2033 2034 2035 2036 2037 2038 2039\n",
      " 2040 2041 2042 2043 2044 2045 2046 2047 2048 2049 2050 2051 2052 2053\n",
      " 2054 2055 2056 2057 2058 2059 2060 2061 2062 2063 2064 2065 2066 2067\n",
      " 2068 2069 2070 2071 2072 2073 2074 2075 2076 2077 2078 2079 2080 2081\n",
      " 2082 2083 2084 2085 2086 2087 2088 2089 2090 2091 2092 2093 2094 2095\n",
      " 2096 2097 2098 2099 2100 2101 2102 2103 2104 2105 2106 2107 2108 2109\n",
      " 2110 2111 2112 2113 2114 2115 2116 2117 2118 2119 2120 2121 2122 2123\n",
      " 2124 2125 2126 2127 2128 2129 2130 2131 2132 2133 2134 2135 2136 2137\n",
      " 2138 2139 2140 2141 2142 2143 2144 2145 2146 2147 2148 2149 2150 2151\n",
      " 2152 2153 2154 2155 2156 2157 2158 2159 2160 2161 2162 2163 2164 2165\n",
      " 2166 2167 2168 2169 2170 2171 2172 2173 2174 2175 2176 2177 2178 2179\n",
      " 2180 2181 2182 2183 2184 2185 2186 2187 2188 2189 2190 2191 2192 2193\n",
      " 2194 2195 2196 2197 2198 2199 2200 2201 2202 2203 2204 2205 2206 2207\n",
      " 2208 2209 2210 2211 2212 2213 2214 2215 2216 2217 2218 2219 2220 2221\n",
      " 2222 2223 2224 2225 2226 2227 2228 2229 2230 2231 2232 2233 2234 2235\n",
      " 2236 2237 2238 2239 2240 2241 2242 2243 2244 2245 2246 2247 2248 2249\n",
      " 2250 2251 2252 2253 2254 2255 2256 2257 2258 2259 2260 2261 2262 2263\n",
      " 2264 2265 2266 2267 2268 2269 2270 2271]\n",
      "TRAIN: [   0    1    2 ... 5676 5677 5678] TEST: [2272 2273 2274 2275 2276 2277 2278 2279 2280 2281 2282 2283 2284 2285\n",
      " 2286 2287 2288 2289 2290 2291 2292 2293 2294 2295 2296 2297 2298 2299\n",
      " 2300 2301 2302 2303 2304 2305 2306 2307 2308 2309 2310 2311 2312 2313\n",
      " 2314 2315 2316 2317 2318 2319 2320 2321 2322 2323 2324 2325 2326 2327\n",
      " 2328 2329 2330 2331 2332 2333 2334 2335 2336 2337 2338 2339 2340 2341\n",
      " 2342 2343 2344 2345 2346 2347 2348 2349 2350 2351 2352 2353 2354 2355\n",
      " 2356 2357 2358 2359 2360 2361 2362 2363 2364 2365 2366 2367 2368 2369\n",
      " 2370 2371 2372 2373 2374 2375 2376 2377 2378 2379 2380 2381 2382 2383\n",
      " 2384 2385 2386 2387 2388 2389 2390 2391 2392 2393 2394 2395 2396 2397\n",
      " 2398 2399 2400 2401 2402 2403 2404 2405 2406 2407 2408 2409 2410 2411\n",
      " 2412 2413 2414 2415 2416 2417 2418 2419 2420 2421 2422 2423 2424 2425\n",
      " 2426 2427 2428 2429 2430 2431 2432 2433 2434 2435 2436 2437 2438 2439\n",
      " 2440 2441 2442 2443 2444 2445 2446 2447 2448 2449 2450 2451 2452 2453\n",
      " 2454 2455 2456 2457 2458 2459 2460 2461 2462 2463 2464 2465 2466 2467\n",
      " 2468 2469 2470 2471 2472 2473 2474 2475 2476 2477 2478 2479 2480 2481\n",
      " 2482 2483 2484 2485 2486 2487 2488 2489 2490 2491 2492 2493 2494 2495\n",
      " 2496 2497 2498 2499 2500 2501 2502 2503 2504 2505 2506 2507 2508 2509\n",
      " 2510 2511 2512 2513 2514 2515 2516 2517 2518 2519 2520 2521 2522 2523\n",
      " 2524 2525 2526 2527 2528 2529 2530 2531 2532 2533 2534 2535 2536 2537\n",
      " 2538 2539 2540 2541 2542 2543 2544 2545 2546 2547 2548 2549 2550 2551\n",
      " 2552 2553 2554 2555 2556 2557 2558 2559 2560 2561 2562 2563 2564 2565\n",
      " 2566 2567 2568 2569 2570 2571 2572 2573 2574 2575 2576 2577 2578 2579\n",
      " 2580 2581 2582 2583 2584 2585 2586 2587 2588 2589 2590 2591 2592 2593\n",
      " 2594 2595 2596 2597 2598 2599 2600 2601 2602 2603 2604 2605 2606 2607\n",
      " 2608 2609 2610 2611 2612 2613 2614 2615 2616 2617 2618 2619 2620 2621\n",
      " 2622 2623 2624 2625 2626 2627 2628 2629 2630 2631 2632 2633 2634 2635\n",
      " 2636 2637 2638 2639 2640 2641 2642 2643 2644 2645 2646 2647 2648 2649\n",
      " 2650 2651 2652 2653 2654 2655 2656 2657 2658 2659 2660 2661 2662 2663\n",
      " 2664 2665 2666 2667 2668 2669 2670 2671 2672 2673 2674 2675 2676 2677\n",
      " 2678 2679 2680 2681 2682 2683 2684 2685 2686 2687 2688 2689 2690 2691\n",
      " 2692 2693 2694 2695 2696 2697 2698 2699 2700 2701 2702 2703 2704 2705\n",
      " 2706 2707 2708 2709 2710 2711 2712 2713 2714 2715 2716 2717 2718 2719\n",
      " 2720 2721 2722 2723 2724 2725 2726 2727 2728 2729 2730 2731 2732 2733\n",
      " 2734 2735 2736 2737 2738 2739 2740 2741 2742 2743 2744 2745 2746 2747\n",
      " 2748 2749 2750 2751 2752 2753 2754 2755 2756 2757 2758 2759 2760 2761\n",
      " 2762 2763 2764 2765 2766 2767 2768 2769 2770 2771 2772 2773 2774 2775\n",
      " 2776 2777 2778 2779 2780 2781 2782 2783 2784 2785 2786 2787 2788 2789\n",
      " 2790 2791 2792 2793 2794 2795 2796 2797 2798 2799 2800 2801 2802 2803\n",
      " 2804 2805 2806 2807 2808 2809 2810 2811 2812 2813 2814 2815 2816 2817\n",
      " 2818 2819 2820 2821 2822 2823 2824 2825 2826 2827 2828 2829 2830 2831\n",
      " 2832 2833 2834 2835 2836 2837 2838 2839]\n",
      "TRAIN: [   0    1    2 ... 5676 5677 5678] TEST: [2840 2841 2842 2843 2844 2845 2846 2847 2848 2849 2850 2851 2852 2853\n",
      " 2854 2855 2856 2857 2858 2859 2860 2861 2862 2863 2864 2865 2866 2867\n",
      " 2868 2869 2870 2871 2872 2873 2874 2875 2876 2877 2878 2879 2880 2881\n",
      " 2882 2883 2884 2885 2886 2887 2888 2889 2890 2891 2892 2893 2894 2895\n",
      " 2896 2897 2898 2899 2900 2901 2902 2903 2904 2905 2906 2907 2908 2909\n",
      " 2910 2911 2912 2913 2914 2915 2916 2917 2918 2919 2920 2921 2922 2923\n",
      " 2924 2925 2926 2927 2928 2929 2930 2931 2932 2933 2934 2935 2936 2937\n",
      " 2938 2939 2940 2941 2942 2943 2944 2945 2946 2947 2948 2949 2950 2951\n",
      " 2952 2953 2954 2955 2956 2957 2958 2959 2960 2961 2962 2963 2964 2965\n",
      " 2966 2967 2968 2969 2970 2971 2972 2973 2974 2975 2976 2977 2978 2979\n",
      " 2980 2981 2982 2983 2984 2985 2986 2987 2988 2989 2990 2991 2992 2993\n",
      " 2994 2995 2996 2997 2998 2999 3000 3001 3002 3003 3004 3005 3006 3007\n",
      " 3008 3009 3010 3011 3012 3013 3014 3015 3016 3017 3018 3019 3020 3021\n",
      " 3022 3023 3024 3025 3026 3027 3028 3029 3030 3031 3032 3033 3034 3035\n",
      " 3036 3037 3038 3039 3040 3041 3042 3043 3044 3045 3046 3047 3048 3049\n",
      " 3050 3051 3052 3053 3054 3055 3056 3057 3058 3059 3060 3061 3062 3063\n",
      " 3064 3065 3066 3067 3068 3069 3070 3071 3072 3073 3074 3075 3076 3077\n",
      " 3078 3079 3080 3081 3082 3083 3084 3085 3086 3087 3088 3089 3090 3091\n",
      " 3092 3093 3094 3095 3096 3097 3098 3099 3100 3101 3102 3103 3104 3105\n",
      " 3106 3107 3108 3109 3110 3111 3112 3113 3114 3115 3116 3117 3118 3119\n",
      " 3120 3121 3122 3123 3124 3125 3126 3127 3128 3129 3130 3131 3132 3133\n",
      " 3134 3135 3136 3137 3138 3139 3140 3141 3142 3143 3144 3145 3146 3147\n",
      " 3148 3149 3150 3151 3152 3153 3154 3155 3156 3157 3158 3159 3160 3161\n",
      " 3162 3163 3164 3165 3166 3167 3168 3169 3170 3171 3172 3173 3174 3175\n",
      " 3176 3177 3178 3179 3180 3181 3182 3183 3184 3185 3186 3187 3188 3189\n",
      " 3190 3191 3192 3193 3194 3195 3196 3197 3198 3199 3200 3201 3202 3203\n",
      " 3204 3205 3206 3207 3208 3209 3210 3211 3212 3213 3214 3215 3216 3217\n",
      " 3218 3219 3220 3221 3222 3223 3224 3225 3226 3227 3228 3229 3230 3231\n",
      " 3232 3233 3234 3235 3236 3237 3238 3239 3240 3241 3242 3243 3244 3245\n",
      " 3246 3247 3248 3249 3250 3251 3252 3253 3254 3255 3256 3257 3258 3259\n",
      " 3260 3261 3262 3263 3264 3265 3266 3267 3268 3269 3270 3271 3272 3273\n",
      " 3274 3275 3276 3277 3278 3279 3280 3281 3282 3283 3284 3285 3286 3287\n",
      " 3288 3289 3290 3291 3292 3293 3294 3295 3296 3297 3298 3299 3300 3301\n",
      " 3302 3303 3304 3305 3306 3307 3308 3309 3310 3311 3312 3313 3314 3315\n",
      " 3316 3317 3318 3319 3320 3321 3322 3323 3324 3325 3326 3327 3328 3329\n",
      " 3330 3331 3332 3333 3334 3335 3336 3337 3338 3339 3340 3341 3342 3343\n",
      " 3344 3345 3346 3347 3348 3349 3350 3351 3352 3353 3354 3355 3356 3357\n",
      " 3358 3359 3360 3361 3362 3363 3364 3365 3366 3367 3368 3369 3370 3371\n",
      " 3372 3373 3374 3375 3376 3377 3378 3379 3380 3381 3382 3383 3384 3385\n",
      " 3386 3387 3388 3389 3390 3391 3392 3393 3394 3395 3396 3397 3398 3399\n",
      " 3400 3401 3402 3403 3404 3405 3406 3407]\n",
      "TRAIN: [   0    1    2 ... 5676 5677 5678] TEST: [3408 3409 3410 3411 3412 3413 3414 3415 3416 3417 3418 3419 3420 3421\n",
      " 3422 3423 3424 3425 3426 3427 3428 3429 3430 3431 3432 3433 3434 3435\n",
      " 3436 3437 3438 3439 3440 3441 3442 3443 3444 3445 3446 3447 3448 3449\n",
      " 3450 3451 3452 3453 3454 3455 3456 3457 3458 3459 3460 3461 3462 3463\n",
      " 3464 3465 3466 3467 3468 3469 3470 3471 3472 3473 3474 3475 3476 3477\n",
      " 3478 3479 3480 3481 3482 3483 3484 3485 3486 3487 3488 3489 3490 3491\n",
      " 3492 3493 3494 3495 3496 3497 3498 3499 3500 3501 3502 3503 3504 3505\n",
      " 3506 3507 3508 3509 3510 3511 3512 3513 3514 3515 3516 3517 3518 3519\n",
      " 3520 3521 3522 3523 3524 3525 3526 3527 3528 3529 3530 3531 3532 3533\n",
      " 3534 3535 3536 3537 3538 3539 3540 3541 3542 3543 3544 3545 3546 3547\n",
      " 3548 3549 3550 3551 3552 3553 3554 3555 3556 3557 3558 3559 3560 3561\n",
      " 3562 3563 3564 3565 3566 3567 3568 3569 3570 3571 3572 3573 3574 3575\n",
      " 3576 3577 3578 3579 3580 3581 3582 3583 3584 3585 3586 3587 3588 3589\n",
      " 3590 3591 3592 3593 3594 3595 3596 3597 3598 3599 3600 3601 3602 3603\n",
      " 3604 3605 3606 3607 3608 3609 3610 3611 3612 3613 3614 3615 3616 3617\n",
      " 3618 3619 3620 3621 3622 3623 3624 3625 3626 3627 3628 3629 3630 3631\n",
      " 3632 3633 3634 3635 3636 3637 3638 3639 3640 3641 3642 3643 3644 3645\n",
      " 3646 3647 3648 3649 3650 3651 3652 3653 3654 3655 3656 3657 3658 3659\n",
      " 3660 3661 3662 3663 3664 3665 3666 3667 3668 3669 3670 3671 3672 3673\n",
      " 3674 3675 3676 3677 3678 3679 3680 3681 3682 3683 3684 3685 3686 3687\n",
      " 3688 3689 3690 3691 3692 3693 3694 3695 3696 3697 3698 3699 3700 3701\n",
      " 3702 3703 3704 3705 3706 3707 3708 3709 3710 3711 3712 3713 3714 3715\n",
      " 3716 3717 3718 3719 3720 3721 3722 3723 3724 3725 3726 3727 3728 3729\n",
      " 3730 3731 3732 3733 3734 3735 3736 3737 3738 3739 3740 3741 3742 3743\n",
      " 3744 3745 3746 3747 3748 3749 3750 3751 3752 3753 3754 3755 3756 3757\n",
      " 3758 3759 3760 3761 3762 3763 3764 3765 3766 3767 3768 3769 3770 3771\n",
      " 3772 3773 3774 3775 3776 3777 3778 3779 3780 3781 3782 3783 3784 3785\n",
      " 3786 3787 3788 3789 3790 3791 3792 3793 3794 3795 3796 3797 3798 3799\n",
      " 3800 3801 3802 3803 3804 3805 3806 3807 3808 3809 3810 3811 3812 3813\n",
      " 3814 3815 3816 3817 3818 3819 3820 3821 3822 3823 3824 3825 3826 3827\n",
      " 3828 3829 3830 3831 3832 3833 3834 3835 3836 3837 3838 3839 3840 3841\n",
      " 3842 3843 3844 3845 3846 3847 3848 3849 3850 3851 3852 3853 3854 3855\n",
      " 3856 3857 3858 3859 3860 3861 3862 3863 3864 3865 3866 3867 3868 3869\n",
      " 3870 3871 3872 3873 3874 3875 3876 3877 3878 3879 3880 3881 3882 3883\n",
      " 3884 3885 3886 3887 3888 3889 3890 3891 3892 3893 3894 3895 3896 3897\n",
      " 3898 3899 3900 3901 3902 3903 3904 3905 3906 3907 3908 3909 3910 3911\n",
      " 3912 3913 3914 3915 3916 3917 3918 3919 3920 3921 3922 3923 3924 3925\n",
      " 3926 3927 3928 3929 3930 3931 3932 3933 3934 3935 3936 3937 3938 3939\n",
      " 3940 3941 3942 3943 3944 3945 3946 3947 3948 3949 3950 3951 3952 3953\n",
      " 3954 3955 3956 3957 3958 3959 3960 3961 3962 3963 3964 3965 3966 3967\n",
      " 3968 3969 3970 3971 3972 3973 3974 3975]\n",
      "TRAIN: [   0    1    2 ... 5676 5677 5678] TEST: [3976 3977 3978 3979 3980 3981 3982 3983 3984 3985 3986 3987 3988 3989\n",
      " 3990 3991 3992 3993 3994 3995 3996 3997 3998 3999 4000 4001 4002 4003\n",
      " 4004 4005 4006 4007 4008 4009 4010 4011 4012 4013 4014 4015 4016 4017\n",
      " 4018 4019 4020 4021 4022 4023 4024 4025 4026 4027 4028 4029 4030 4031\n",
      " 4032 4033 4034 4035 4036 4037 4038 4039 4040 4041 4042 4043 4044 4045\n",
      " 4046 4047 4048 4049 4050 4051 4052 4053 4054 4055 4056 4057 4058 4059\n",
      " 4060 4061 4062 4063 4064 4065 4066 4067 4068 4069 4070 4071 4072 4073\n",
      " 4074 4075 4076 4077 4078 4079 4080 4081 4082 4083 4084 4085 4086 4087\n",
      " 4088 4089 4090 4091 4092 4093 4094 4095 4096 4097 4098 4099 4100 4101\n",
      " 4102 4103 4104 4105 4106 4107 4108 4109 4110 4111 4112 4113 4114 4115\n",
      " 4116 4117 4118 4119 4120 4121 4122 4123 4124 4125 4126 4127 4128 4129\n",
      " 4130 4131 4132 4133 4134 4135 4136 4137 4138 4139 4140 4141 4142 4143\n",
      " 4144 4145 4146 4147 4148 4149 4150 4151 4152 4153 4154 4155 4156 4157\n",
      " 4158 4159 4160 4161 4162 4163 4164 4165 4166 4167 4168 4169 4170 4171\n",
      " 4172 4173 4174 4175 4176 4177 4178 4179 4180 4181 4182 4183 4184 4185\n",
      " 4186 4187 4188 4189 4190 4191 4192 4193 4194 4195 4196 4197 4198 4199\n",
      " 4200 4201 4202 4203 4204 4205 4206 4207 4208 4209 4210 4211 4212 4213\n",
      " 4214 4215 4216 4217 4218 4219 4220 4221 4222 4223 4224 4225 4226 4227\n",
      " 4228 4229 4230 4231 4232 4233 4234 4235 4236 4237 4238 4239 4240 4241\n",
      " 4242 4243 4244 4245 4246 4247 4248 4249 4250 4251 4252 4253 4254 4255\n",
      " 4256 4257 4258 4259 4260 4261 4262 4263 4264 4265 4266 4267 4268 4269\n",
      " 4270 4271 4272 4273 4274 4275 4276 4277 4278 4279 4280 4281 4282 4283\n",
      " 4284 4285 4286 4287 4288 4289 4290 4291 4292 4293 4294 4295 4296 4297\n",
      " 4298 4299 4300 4301 4302 4303 4304 4305 4306 4307 4308 4309 4310 4311\n",
      " 4312 4313 4314 4315 4316 4317 4318 4319 4320 4321 4322 4323 4324 4325\n",
      " 4326 4327 4328 4329 4330 4331 4332 4333 4334 4335 4336 4337 4338 4339\n",
      " 4340 4341 4342 4343 4344 4345 4346 4347 4348 4349 4350 4351 4352 4353\n",
      " 4354 4355 4356 4357 4358 4359 4360 4361 4362 4363 4364 4365 4366 4367\n",
      " 4368 4369 4370 4371 4372 4373 4374 4375 4376 4377 4378 4379 4380 4381\n",
      " 4382 4383 4384 4385 4386 4387 4388 4389 4390 4391 4392 4393 4394 4395\n",
      " 4396 4397 4398 4399 4400 4401 4402 4403 4404 4405 4406 4407 4408 4409\n",
      " 4410 4411 4412 4413 4414 4415 4416 4417 4418 4419 4420 4421 4422 4423\n",
      " 4424 4425 4426 4427 4428 4429 4430 4431 4432 4433 4434 4435 4436 4437\n",
      " 4438 4439 4440 4441 4442 4443 4444 4445 4446 4447 4448 4449 4450 4451\n",
      " 4452 4453 4454 4455 4456 4457 4458 4459 4460 4461 4462 4463 4464 4465\n",
      " 4466 4467 4468 4469 4470 4471 4472 4473 4474 4475 4476 4477 4478 4479\n",
      " 4480 4481 4482 4483 4484 4485 4486 4487 4488 4489 4490 4491 4492 4493\n",
      " 4494 4495 4496 4497 4498 4499 4500 4501 4502 4503 4504 4505 4506 4507\n",
      " 4508 4509 4510 4511 4512 4513 4514 4515 4516 4517 4518 4519 4520 4521\n",
      " 4522 4523 4524 4525 4526 4527 4528 4529 4530 4531 4532 4533 4534 4535\n",
      " 4536 4537 4538 4539 4540 4541 4542 4543]\n",
      "TRAIN: [   0    1    2 ... 5676 5677 5678] TEST: [4544 4545 4546 4547 4548 4549 4550 4551 4552 4553 4554 4555 4556 4557\n",
      " 4558 4559 4560 4561 4562 4563 4564 4565 4566 4567 4568 4569 4570 4571\n",
      " 4572 4573 4574 4575 4576 4577 4578 4579 4580 4581 4582 4583 4584 4585\n",
      " 4586 4587 4588 4589 4590 4591 4592 4593 4594 4595 4596 4597 4598 4599\n",
      " 4600 4601 4602 4603 4604 4605 4606 4607 4608 4609 4610 4611 4612 4613\n",
      " 4614 4615 4616 4617 4618 4619 4620 4621 4622 4623 4624 4625 4626 4627\n",
      " 4628 4629 4630 4631 4632 4633 4634 4635 4636 4637 4638 4639 4640 4641\n",
      " 4642 4643 4644 4645 4646 4647 4648 4649 4650 4651 4652 4653 4654 4655\n",
      " 4656 4657 4658 4659 4660 4661 4662 4663 4664 4665 4666 4667 4668 4669\n",
      " 4670 4671 4672 4673 4674 4675 4676 4677 4678 4679 4680 4681 4682 4683\n",
      " 4684 4685 4686 4687 4688 4689 4690 4691 4692 4693 4694 4695 4696 4697\n",
      " 4698 4699 4700 4701 4702 4703 4704 4705 4706 4707 4708 4709 4710 4711\n",
      " 4712 4713 4714 4715 4716 4717 4718 4719 4720 4721 4722 4723 4724 4725\n",
      " 4726 4727 4728 4729 4730 4731 4732 4733 4734 4735 4736 4737 4738 4739\n",
      " 4740 4741 4742 4743 4744 4745 4746 4747 4748 4749 4750 4751 4752 4753\n",
      " 4754 4755 4756 4757 4758 4759 4760 4761 4762 4763 4764 4765 4766 4767\n",
      " 4768 4769 4770 4771 4772 4773 4774 4775 4776 4777 4778 4779 4780 4781\n",
      " 4782 4783 4784 4785 4786 4787 4788 4789 4790 4791 4792 4793 4794 4795\n",
      " 4796 4797 4798 4799 4800 4801 4802 4803 4804 4805 4806 4807 4808 4809\n",
      " 4810 4811 4812 4813 4814 4815 4816 4817 4818 4819 4820 4821 4822 4823\n",
      " 4824 4825 4826 4827 4828 4829 4830 4831 4832 4833 4834 4835 4836 4837\n",
      " 4838 4839 4840 4841 4842 4843 4844 4845 4846 4847 4848 4849 4850 4851\n",
      " 4852 4853 4854 4855 4856 4857 4858 4859 4860 4861 4862 4863 4864 4865\n",
      " 4866 4867 4868 4869 4870 4871 4872 4873 4874 4875 4876 4877 4878 4879\n",
      " 4880 4881 4882 4883 4884 4885 4886 4887 4888 4889 4890 4891 4892 4893\n",
      " 4894 4895 4896 4897 4898 4899 4900 4901 4902 4903 4904 4905 4906 4907\n",
      " 4908 4909 4910 4911 4912 4913 4914 4915 4916 4917 4918 4919 4920 4921\n",
      " 4922 4923 4924 4925 4926 4927 4928 4929 4930 4931 4932 4933 4934 4935\n",
      " 4936 4937 4938 4939 4940 4941 4942 4943 4944 4945 4946 4947 4948 4949\n",
      " 4950 4951 4952 4953 4954 4955 4956 4957 4958 4959 4960 4961 4962 4963\n",
      " 4964 4965 4966 4967 4968 4969 4970 4971 4972 4973 4974 4975 4976 4977\n",
      " 4978 4979 4980 4981 4982 4983 4984 4985 4986 4987 4988 4989 4990 4991\n",
      " 4992 4993 4994 4995 4996 4997 4998 4999 5000 5001 5002 5003 5004 5005\n",
      " 5006 5007 5008 5009 5010 5011 5012 5013 5014 5015 5016 5017 5018 5019\n",
      " 5020 5021 5022 5023 5024 5025 5026 5027 5028 5029 5030 5031 5032 5033\n",
      " 5034 5035 5036 5037 5038 5039 5040 5041 5042 5043 5044 5045 5046 5047\n",
      " 5048 5049 5050 5051 5052 5053 5054 5055 5056 5057 5058 5059 5060 5061\n",
      " 5062 5063 5064 5065 5066 5067 5068 5069 5070 5071 5072 5073 5074 5075\n",
      " 5076 5077 5078 5079 5080 5081 5082 5083 5084 5085 5086 5087 5088 5089\n",
      " 5090 5091 5092 5093 5094 5095 5096 5097 5098 5099 5100 5101 5102 5103\n",
      " 5104 5105 5106 5107 5108 5109 5110 5111]\n",
      "TRAIN: [   0    1    2 ... 5109 5110 5111] TEST: [5112 5113 5114 5115 5116 5117 5118 5119 5120 5121 5122 5123 5124 5125\n",
      " 5126 5127 5128 5129 5130 5131 5132 5133 5134 5135 5136 5137 5138 5139\n",
      " 5140 5141 5142 5143 5144 5145 5146 5147 5148 5149 5150 5151 5152 5153\n",
      " 5154 5155 5156 5157 5158 5159 5160 5161 5162 5163 5164 5165 5166 5167\n",
      " 5168 5169 5170 5171 5172 5173 5174 5175 5176 5177 5178 5179 5180 5181\n",
      " 5182 5183 5184 5185 5186 5187 5188 5189 5190 5191 5192 5193 5194 5195\n",
      " 5196 5197 5198 5199 5200 5201 5202 5203 5204 5205 5206 5207 5208 5209\n",
      " 5210 5211 5212 5213 5214 5215 5216 5217 5218 5219 5220 5221 5222 5223\n",
      " 5224 5225 5226 5227 5228 5229 5230 5231 5232 5233 5234 5235 5236 5237\n",
      " 5238 5239 5240 5241 5242 5243 5244 5245 5246 5247 5248 5249 5250 5251\n",
      " 5252 5253 5254 5255 5256 5257 5258 5259 5260 5261 5262 5263 5264 5265\n",
      " 5266 5267 5268 5269 5270 5271 5272 5273 5274 5275 5276 5277 5278 5279\n",
      " 5280 5281 5282 5283 5284 5285 5286 5287 5288 5289 5290 5291 5292 5293\n",
      " 5294 5295 5296 5297 5298 5299 5300 5301 5302 5303 5304 5305 5306 5307\n",
      " 5308 5309 5310 5311 5312 5313 5314 5315 5316 5317 5318 5319 5320 5321\n",
      " 5322 5323 5324 5325 5326 5327 5328 5329 5330 5331 5332 5333 5334 5335\n",
      " 5336 5337 5338 5339 5340 5341 5342 5343 5344 5345 5346 5347 5348 5349\n",
      " 5350 5351 5352 5353 5354 5355 5356 5357 5358 5359 5360 5361 5362 5363\n",
      " 5364 5365 5366 5367 5368 5369 5370 5371 5372 5373 5374 5375 5376 5377\n",
      " 5378 5379 5380 5381 5382 5383 5384 5385 5386 5387 5388 5389 5390 5391\n",
      " 5392 5393 5394 5395 5396 5397 5398 5399 5400 5401 5402 5403 5404 5405\n",
      " 5406 5407 5408 5409 5410 5411 5412 5413 5414 5415 5416 5417 5418 5419\n",
      " 5420 5421 5422 5423 5424 5425 5426 5427 5428 5429 5430 5431 5432 5433\n",
      " 5434 5435 5436 5437 5438 5439 5440 5441 5442 5443 5444 5445 5446 5447\n",
      " 5448 5449 5450 5451 5452 5453 5454 5455 5456 5457 5458 5459 5460 5461\n",
      " 5462 5463 5464 5465 5466 5467 5468 5469 5470 5471 5472 5473 5474 5475\n",
      " 5476 5477 5478 5479 5480 5481 5482 5483 5484 5485 5486 5487 5488 5489\n",
      " 5490 5491 5492 5493 5494 5495 5496 5497 5498 5499 5500 5501 5502 5503\n",
      " 5504 5505 5506 5507 5508 5509 5510 5511 5512 5513 5514 5515 5516 5517\n",
      " 5518 5519 5520 5521 5522 5523 5524 5525 5526 5527 5528 5529 5530 5531\n",
      " 5532 5533 5534 5535 5536 5537 5538 5539 5540 5541 5542 5543 5544 5545\n",
      " 5546 5547 5548 5549 5550 5551 5552 5553 5554 5555 5556 5557 5558 5559\n",
      " 5560 5561 5562 5563 5564 5565 5566 5567 5568 5569 5570 5571 5572 5573\n",
      " 5574 5575 5576 5577 5578 5579 5580 5581 5582 5583 5584 5585 5586 5587\n",
      " 5588 5589 5590 5591 5592 5593 5594 5595 5596 5597 5598 5599 5600 5601\n",
      " 5602 5603 5604 5605 5606 5607 5608 5609 5610 5611 5612 5613 5614 5615\n",
      " 5616 5617 5618 5619 5620 5621 5622 5623 5624 5625 5626 5627 5628 5629\n",
      " 5630 5631 5632 5633 5634 5635 5636 5637 5638 5639 5640 5641 5642 5643\n",
      " 5644 5645 5646 5647 5648 5649 5650 5651 5652 5653 5654 5655 5656 5657\n",
      " 5658 5659 5660 5661 5662 5663 5664 5665 5666 5667 5668 5669 5670 5671\n",
      " 5672 5673 5674 5675 5676 5677 5678]\n"
     ]
    }
   ],
   "source": [
    "kfold = KFold(n_splits=10)\n",
    "for train_index, test_index in kfold.split(X):\n",
    "     print(\"TRAIN:\", train_index, \"TEST:\", test_index)\n",
    "#X_train, X_test = X[train_index], X[test_index]\n",
    "#y_train, y_test = y[train_index], y[test_index]"
   ]
  },
  {
   "cell_type": "markdown",
   "metadata": {},
   "source": [
    "# Stratified K-fold"
   ]
  },
  {
   "cell_type": "markdown",
   "metadata": {},
   "source": [
    "Classweight option?"
   ]
  },
  {
   "cell_type": "code",
   "execution_count": 105,
   "metadata": {},
   "outputs": [],
   "source": [
    "from sklearn.model_selection import StratifiedKFold# Instantiate the cross validator"
   ]
  },
  {
   "cell_type": "code",
   "execution_count": 109,
   "metadata": {},
   "outputs": [
    {
     "ename": "ValueError",
     "evalue": "Supported target types are: ('binary', 'multiclass'). Got 'multilabel-indicator' instead.",
     "output_type": "error",
     "traceback": [
      "\u001b[0;31m---------------------------------------------------------------------------\u001b[0m",
      "\u001b[0;31mValueError\u001b[0m                                Traceback (most recent call last)",
      "\u001b[0;32m<ipython-input-109-68aac2cdae8a>\u001b[0m in \u001b[0;36m<module>\u001b[0;34m\u001b[0m\n\u001b[1;32m      1\u001b[0m \u001b[0mskf\u001b[0m \u001b[0;34m=\u001b[0m \u001b[0mStratifiedKFold\u001b[0m\u001b[0;34m(\u001b[0m\u001b[0mn_splits\u001b[0m\u001b[0;34m=\u001b[0m\u001b[0;36m10\u001b[0m\u001b[0;34m,\u001b[0m \u001b[0mshuffle\u001b[0m\u001b[0;34m=\u001b[0m\u001b[0;32mTrue\u001b[0m\u001b[0;34m)\u001b[0m\u001b[0;31m# Loop through the indices the split() method returns\u001b[0m\u001b[0;34m\u001b[0m\u001b[0;34m\u001b[0m\u001b[0m\n\u001b[0;32m----> 2\u001b[0;31m \u001b[0;32mfor\u001b[0m \u001b[0mindex\u001b[0m\u001b[0;34m,\u001b[0m \u001b[0;34m(\u001b[0m\u001b[0mtrain_indices\u001b[0m\u001b[0;34m,\u001b[0m \u001b[0mval_indices\u001b[0m\u001b[0;34m)\u001b[0m \u001b[0;32min\u001b[0m \u001b[0menumerate\u001b[0m\u001b[0;34m(\u001b[0m\u001b[0mskf\u001b[0m\u001b[0;34m.\u001b[0m\u001b[0msplit\u001b[0m\u001b[0;34m(\u001b[0m\u001b[0mX\u001b[0m\u001b[0;34m,\u001b[0m \u001b[0my\u001b[0m\u001b[0;34m)\u001b[0m\u001b[0;34m)\u001b[0m\u001b[0;34m:\u001b[0m\u001b[0;34m\u001b[0m\u001b[0;34m\u001b[0m\u001b[0m\n\u001b[0m\u001b[1;32m      3\u001b[0m     \u001b[0mprint\u001b[0m\u001b[0;34m(\u001b[0m\u001b[0;34m\"Training on fold \"\u001b[0m \u001b[0;34m+\u001b[0m \u001b[0mstr\u001b[0m\u001b[0;34m(\u001b[0m\u001b[0mindex\u001b[0m\u001b[0;34m+\u001b[0m\u001b[0;36m1\u001b[0m\u001b[0;34m)\u001b[0m \u001b[0;34m+\u001b[0m \u001b[0;34m\"/10...\"\u001b[0m\u001b[0;34m)\u001b[0m    \u001b[0;31m# Generate batches from indices\u001b[0m\u001b[0;34m\u001b[0m\u001b[0;34m\u001b[0m\u001b[0m\n\u001b[1;32m      4\u001b[0m     \u001b[0mxtrain\u001b[0m\u001b[0;34m,\u001b[0m \u001b[0mxval\u001b[0m \u001b[0;34m=\u001b[0m \u001b[0mX\u001b[0m\u001b[0;34m[\u001b[0m\u001b[0mtrain_indices\u001b[0m\u001b[0;34m]\u001b[0m\u001b[0;34m,\u001b[0m \u001b[0mX\u001b[0m\u001b[0;34m[\u001b[0m\u001b[0mval_indices\u001b[0m\u001b[0;34m]\u001b[0m\u001b[0;34m\u001b[0m\u001b[0;34m\u001b[0m\u001b[0m\n\u001b[1;32m      5\u001b[0m     \u001b[0mytrain\u001b[0m\u001b[0;34m,\u001b[0m \u001b[0myval\u001b[0m \u001b[0;34m=\u001b[0m \u001b[0my\u001b[0m\u001b[0;34m[\u001b[0m\u001b[0mtrain_indices\u001b[0m\u001b[0;34m]\u001b[0m\u001b[0;34m,\u001b[0m \u001b[0my\u001b[0m\u001b[0;34m[\u001b[0m\u001b[0mval_indices\u001b[0m\u001b[0;34m]\u001b[0m\u001b[0;34m\u001b[0m\u001b[0;34m\u001b[0m\u001b[0m\n",
      "\u001b[0;32m~/.local/share/virtualenvs/dataman-vjwH9nfk/lib/python3.6/site-packages/sklearn/model_selection/_split.py\u001b[0m in \u001b[0;36msplit\u001b[0;34m(self, X, y, groups)\u001b[0m\n\u001b[1;32m    334\u001b[0m                 .format(self.n_splits, n_samples))\n\u001b[1;32m    335\u001b[0m \u001b[0;34m\u001b[0m\u001b[0m\n\u001b[0;32m--> 336\u001b[0;31m         \u001b[0;32mfor\u001b[0m \u001b[0mtrain\u001b[0m\u001b[0;34m,\u001b[0m \u001b[0mtest\u001b[0m \u001b[0;32min\u001b[0m \u001b[0msuper\u001b[0m\u001b[0;34m(\u001b[0m\u001b[0;34m)\u001b[0m\u001b[0;34m.\u001b[0m\u001b[0msplit\u001b[0m\u001b[0;34m(\u001b[0m\u001b[0mX\u001b[0m\u001b[0;34m,\u001b[0m \u001b[0my\u001b[0m\u001b[0;34m,\u001b[0m \u001b[0mgroups\u001b[0m\u001b[0;34m)\u001b[0m\u001b[0;34m:\u001b[0m\u001b[0;34m\u001b[0m\u001b[0;34m\u001b[0m\u001b[0m\n\u001b[0m\u001b[1;32m    337\u001b[0m             \u001b[0;32myield\u001b[0m \u001b[0mtrain\u001b[0m\u001b[0;34m,\u001b[0m \u001b[0mtest\u001b[0m\u001b[0;34m\u001b[0m\u001b[0;34m\u001b[0m\u001b[0m\n\u001b[1;32m    338\u001b[0m \u001b[0;34m\u001b[0m\u001b[0m\n",
      "\u001b[0;32m~/.local/share/virtualenvs/dataman-vjwH9nfk/lib/python3.6/site-packages/sklearn/model_selection/_split.py\u001b[0m in \u001b[0;36msplit\u001b[0;34m(self, X, y, groups)\u001b[0m\n\u001b[1;32m     78\u001b[0m         \u001b[0mX\u001b[0m\u001b[0;34m,\u001b[0m \u001b[0my\u001b[0m\u001b[0;34m,\u001b[0m \u001b[0mgroups\u001b[0m \u001b[0;34m=\u001b[0m \u001b[0mindexable\u001b[0m\u001b[0;34m(\u001b[0m\u001b[0mX\u001b[0m\u001b[0;34m,\u001b[0m \u001b[0my\u001b[0m\u001b[0;34m,\u001b[0m \u001b[0mgroups\u001b[0m\u001b[0;34m)\u001b[0m\u001b[0;34m\u001b[0m\u001b[0;34m\u001b[0m\u001b[0m\n\u001b[1;32m     79\u001b[0m         \u001b[0mindices\u001b[0m \u001b[0;34m=\u001b[0m \u001b[0mnp\u001b[0m\u001b[0;34m.\u001b[0m\u001b[0marange\u001b[0m\u001b[0;34m(\u001b[0m\u001b[0m_num_samples\u001b[0m\u001b[0;34m(\u001b[0m\u001b[0mX\u001b[0m\u001b[0;34m)\u001b[0m\u001b[0;34m)\u001b[0m\u001b[0;34m\u001b[0m\u001b[0;34m\u001b[0m\u001b[0m\n\u001b[0;32m---> 80\u001b[0;31m         \u001b[0;32mfor\u001b[0m \u001b[0mtest_index\u001b[0m \u001b[0;32min\u001b[0m \u001b[0mself\u001b[0m\u001b[0;34m.\u001b[0m\u001b[0m_iter_test_masks\u001b[0m\u001b[0;34m(\u001b[0m\u001b[0mX\u001b[0m\u001b[0;34m,\u001b[0m \u001b[0my\u001b[0m\u001b[0;34m,\u001b[0m \u001b[0mgroups\u001b[0m\u001b[0;34m)\u001b[0m\u001b[0;34m:\u001b[0m\u001b[0;34m\u001b[0m\u001b[0;34m\u001b[0m\u001b[0m\n\u001b[0m\u001b[1;32m     81\u001b[0m             \u001b[0mtrain_index\u001b[0m \u001b[0;34m=\u001b[0m \u001b[0mindices\u001b[0m\u001b[0;34m[\u001b[0m\u001b[0mnp\u001b[0m\u001b[0;34m.\u001b[0m\u001b[0mlogical_not\u001b[0m\u001b[0;34m(\u001b[0m\u001b[0mtest_index\u001b[0m\u001b[0;34m)\u001b[0m\u001b[0;34m]\u001b[0m\u001b[0;34m\u001b[0m\u001b[0;34m\u001b[0m\u001b[0m\n\u001b[1;32m     82\u001b[0m             \u001b[0mtest_index\u001b[0m \u001b[0;34m=\u001b[0m \u001b[0mindices\u001b[0m\u001b[0;34m[\u001b[0m\u001b[0mtest_index\u001b[0m\u001b[0;34m]\u001b[0m\u001b[0;34m\u001b[0m\u001b[0;34m\u001b[0m\u001b[0m\n",
      "\u001b[0;32m~/.local/share/virtualenvs/dataman-vjwH9nfk/lib/python3.6/site-packages/sklearn/model_selection/_split.py\u001b[0m in \u001b[0;36m_iter_test_masks\u001b[0;34m(self, X, y, groups)\u001b[0m\n\u001b[1;32m    695\u001b[0m \u001b[0;34m\u001b[0m\u001b[0m\n\u001b[1;32m    696\u001b[0m     \u001b[0;32mdef\u001b[0m \u001b[0m_iter_test_masks\u001b[0m\u001b[0;34m(\u001b[0m\u001b[0mself\u001b[0m\u001b[0;34m,\u001b[0m \u001b[0mX\u001b[0m\u001b[0;34m,\u001b[0m \u001b[0my\u001b[0m\u001b[0;34m=\u001b[0m\u001b[0;32mNone\u001b[0m\u001b[0;34m,\u001b[0m \u001b[0mgroups\u001b[0m\u001b[0;34m=\u001b[0m\u001b[0;32mNone\u001b[0m\u001b[0;34m)\u001b[0m\u001b[0;34m:\u001b[0m\u001b[0;34m\u001b[0m\u001b[0;34m\u001b[0m\u001b[0m\n\u001b[0;32m--> 697\u001b[0;31m         \u001b[0mtest_folds\u001b[0m \u001b[0;34m=\u001b[0m \u001b[0mself\u001b[0m\u001b[0;34m.\u001b[0m\u001b[0m_make_test_folds\u001b[0m\u001b[0;34m(\u001b[0m\u001b[0mX\u001b[0m\u001b[0;34m,\u001b[0m \u001b[0my\u001b[0m\u001b[0;34m)\u001b[0m\u001b[0;34m\u001b[0m\u001b[0;34m\u001b[0m\u001b[0m\n\u001b[0m\u001b[1;32m    698\u001b[0m         \u001b[0;32mfor\u001b[0m \u001b[0mi\u001b[0m \u001b[0;32min\u001b[0m \u001b[0mrange\u001b[0m\u001b[0;34m(\u001b[0m\u001b[0mself\u001b[0m\u001b[0;34m.\u001b[0m\u001b[0mn_splits\u001b[0m\u001b[0;34m)\u001b[0m\u001b[0;34m:\u001b[0m\u001b[0;34m\u001b[0m\u001b[0;34m\u001b[0m\u001b[0m\n\u001b[1;32m    699\u001b[0m             \u001b[0;32myield\u001b[0m \u001b[0mtest_folds\u001b[0m \u001b[0;34m==\u001b[0m \u001b[0mi\u001b[0m\u001b[0;34m\u001b[0m\u001b[0;34m\u001b[0m\u001b[0m\n",
      "\u001b[0;32m~/.local/share/virtualenvs/dataman-vjwH9nfk/lib/python3.6/site-packages/sklearn/model_selection/_split.py\u001b[0m in \u001b[0;36m_make_test_folds\u001b[0;34m(self, X, y)\u001b[0m\n\u001b[1;32m    649\u001b[0m             raise ValueError(\n\u001b[1;32m    650\u001b[0m                 'Supported target types are: {}. Got {!r} instead.'.format(\n\u001b[0;32m--> 651\u001b[0;31m                     allowed_target_types, type_of_target_y))\n\u001b[0m\u001b[1;32m    652\u001b[0m \u001b[0;34m\u001b[0m\u001b[0m\n\u001b[1;32m    653\u001b[0m         \u001b[0my\u001b[0m \u001b[0;34m=\u001b[0m \u001b[0mcolumn_or_1d\u001b[0m\u001b[0;34m(\u001b[0m\u001b[0my\u001b[0m\u001b[0;34m)\u001b[0m\u001b[0;34m\u001b[0m\u001b[0;34m\u001b[0m\u001b[0m\n",
      "\u001b[0;31mValueError\u001b[0m: Supported target types are: ('binary', 'multiclass'). Got 'multilabel-indicator' instead."
     ]
    }
   ],
   "source": [
    "skf = StratifiedKFold(n_splits=10, shuffle=True)# Loop through the indices the split() method returns\n",
    "for index, (train_indices, val_indices) in enumerate(skf.split(X, y)):\n",
    "    print(\"Training on fold \" + str(index+1) + \"/10...\")    # Generate batches from indices\n",
    "    xtrain, xval = X[train_indices], X[val_indices]\n",
    "    ytrain, yval = y[train_indices], y[val_indices]"
   ]
  },
  {
   "cell_type": "markdown",
   "metadata": {},
   "source": [
    "# Default 80% 20% split no shuffle methode"
   ]
  },
  {
   "cell_type": "code",
   "execution_count": 99,
   "metadata": {},
   "outputs": [],
   "source": [
    "\n",
    "from sklearn.model_selection import train_test_split\n",
    "X_train,X_test,y_train,y_test=train_test_split(X,y,test_size=0.2)"
   ]
  },
  {
   "cell_type": "code",
   "execution_count": 100,
   "metadata": {},
   "outputs": [],
   "source": [
    "training_set=train_datagen.flow(X_train,y=y_train,batch_size=32)\n",
    "testing_set=test_datagen.flow(X_test,y=y_test,batch_size=32)"
   ]
  },
  {
   "cell_type": "code",
   "execution_count": null,
   "metadata": {},
   "outputs": [],
   "source": []
  },
  {
   "cell_type": "code",
   "execution_count": null,
   "metadata": {},
   "outputs": [],
   "source": []
  }
 ],
 "metadata": {
  "kernelspec": {
   "display_name": "Python 3",
   "language": "python",
   "name": "python3"
  },
  "language_info": {
   "codemirror_mode": {
    "name": "ipython",
    "version": 3
   },
   "file_extension": ".py",
   "mimetype": "text/x-python",
   "name": "python",
   "nbconvert_exporter": "python",
   "pygments_lexer": "ipython3",
   "version": "3.6.9"
  }
 },
 "nbformat": 4,
 "nbformat_minor": 4
}
