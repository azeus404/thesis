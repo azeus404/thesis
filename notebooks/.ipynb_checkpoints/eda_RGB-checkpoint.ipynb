{
 "cells": [
  {
   "cell_type": "markdown",
   "metadata": {},
   "source": [
    "# Chapter 3 - EDA on VT dataset - RGB\n",
    "19-08-2020 \n",
    "This notebook descibes the pre-processing and processing activities that have been taken on our dataset including the final sample selection. . \\ \n",
    "masterdata location: /home/labuser/deeplearning/thesis/datasets/masterdata \\\n"
   ]
  },
  {
   "cell_type": "code",
   "execution_count": 1,
   "metadata": {},
   "outputs": [],
   "source": [
    "import pandas as pd\n",
    "import seaborn as sns\n",
    "import os\n",
    "from matplotlib import pyplot as plt\n",
    "import numpy as np\n",
    "# fuzz is used to compare TWO strings https://towardsdatascience.com/how-to-do-fuzzy-matching-in-python-pandas-dataframe-6ce3025834a6\n",
    "from fuzzywuzzy import fuzz\n",
    "# process is used to compare a string to MULTIPLE other strings\n",
    "from fuzzywuzzy import process\n",
    "import shutil\n",
    "from IPython.display import Image\n",
    "from PIL import Image\n",
    "%matplotlib inline"
   ]
  },
  {
   "cell_type": "markdown",
   "metadata": {},
   "source": [
    "# Proposed approach"
   ]
  },
  {
   "cell_type": "markdown",
   "metadata": {},
   "source": [
    "The image below shows the proposed approach as descibed in chapter 3."
   ]
  },
  {
   "cell_type": "code",
   "execution_count": 8,
   "metadata": {},
   "outputs": [
    {
     "data": {
      "image/png": "[encoded data removed]",
      "text/plain": [
       "<PIL.PngImagePlugin.PngImageFile image mode=RGBA size=451x133 at 0x7F238D0BB358>"
      ]
     },
     "execution_count": 8,
     "metadata": {},
     "output_type": "execute_result"
    },
    {
     "data": {
      "text/plain": [
       "<Figure size 1080x576 with 0 Axes>"
      ]
     },
     "metadata": {},
     "output_type": "display_data"
    }
   ],
   "source": [
    "plt.figure(figsize=(15,8))\n",
    "Image.open(os.path.join(os.getcwd(),'approach 1.png'))\n"
   ]
  },
  {
   "cell_type": "markdown",
   "metadata": {},
   "source": [
    "# Part 1 - Parsing and pre-processing "
   ]
  },
  {
   "cell_type": "markdown",
   "metadata": {},
   "source": [
    "We parssed all the data recieved form VT."
   ]
  },
  {
   "cell_type": "code",
   "execution_count": 3,
   "metadata": {},
   "outputs": [],
   "source": [
    "# Raw data from masterdataset\n",
    "df = pd.read_pickle('/home/labuser/deeplearning/thesis/datamanagement/dataman/parsed.pkl')"
   ]
  },
  {
   "cell_type": "code",
   "execution_count": 4,
   "metadata": {},
   "outputs": [
    {
     "data": {
      "text/plain": [
       "path    347307\n",
       "dtype: int64"
      ]
     },
     "execution_count": 4,
     "metadata": {},
     "output_type": "execute_result"
    }
   ],
   "source": [
    "# total samples recieved from VT = 347307\n",
    "df.count()"
   ]
  },
  {
   "cell_type": "code",
   "execution_count": 5,
   "metadata": {},
   "outputs": [
    {
     "data": {
      "text/html": [
       "<div>\n",
       "<style scoped>\n",
       "    .dataframe tbody tr th:only-of-type {\n",
       "        vertical-align: middle;\n",
       "    }\n",
       "\n",
       "    .dataframe tbody tr th {\n",
       "        vertical-align: top;\n",
       "    }\n",
       "\n",
       "    .dataframe thead th {\n",
       "        text-align: right;\n",
       "    }\n",
       "</style>\n",
       "<table border=\"1\" class=\"dataframe\">\n",
       "  <thead>\n",
       "    <tr style=\"text-align: right;\">\n",
       "      <th></th>\n",
       "      <th>path</th>\n",
       "    </tr>\n",
       "  </thead>\n",
       "  <tbody>\n",
       "    <tr>\n",
       "      <th>0</th>\n",
       "      <td>/home/labuser/deeplearning/thesis/datasets/mas...</td>\n",
       "    </tr>\n",
       "    <tr>\n",
       "      <th>1</th>\n",
       "      <td>/home/labuser/deeplearning/thesis/datasets/mas...</td>\n",
       "    </tr>\n",
       "    <tr>\n",
       "      <th>2</th>\n",
       "      <td>/home/labuser/deeplearning/thesis/datasets/mas...</td>\n",
       "    </tr>\n",
       "    <tr>\n",
       "      <th>3</th>\n",
       "      <td>/home/labuser/deeplearning/thesis/datasets/mas...</td>\n",
       "    </tr>\n",
       "    <tr>\n",
       "      <th>4</th>\n",
       "      <td>/home/labuser/deeplearning/thesis/datasets/mas...</td>\n",
       "    </tr>\n",
       "    <tr>\n",
       "      <th>...</th>\n",
       "      <td>...</td>\n",
       "    </tr>\n",
       "    <tr>\n",
       "      <th>347302</th>\n",
       "      <td>/home/labuser/deeplearning/thesis/datasets/mas...</td>\n",
       "    </tr>\n",
       "    <tr>\n",
       "      <th>347303</th>\n",
       "      <td>/home/labuser/deeplearning/thesis/datasets/mas...</td>\n",
       "    </tr>\n",
       "    <tr>\n",
       "      <th>347304</th>\n",
       "      <td>/home/labuser/deeplearning/thesis/datasets/mas...</td>\n",
       "    </tr>\n",
       "    <tr>\n",
       "      <th>347305</th>\n",
       "      <td>/home/labuser/deeplearning/thesis/datasets/mas...</td>\n",
       "    </tr>\n",
       "    <tr>\n",
       "      <th>347306</th>\n",
       "      <td>/home/labuser/deeplearning/thesis/datasets/mas...</td>\n",
       "    </tr>\n",
       "  </tbody>\n",
       "</table>\n",
       "<p>347307 rows × 1 columns</p>\n",
       "</div>"
      ],
      "text/plain": [
       "                                                     path\n",
       "0       /home/labuser/deeplearning/thesis/datasets/mas...\n",
       "1       /home/labuser/deeplearning/thesis/datasets/mas...\n",
       "2       /home/labuser/deeplearning/thesis/datasets/mas...\n",
       "3       /home/labuser/deeplearning/thesis/datasets/mas...\n",
       "4       /home/labuser/deeplearning/thesis/datasets/mas...\n",
       "...                                                   ...\n",
       "347302  /home/labuser/deeplearning/thesis/datasets/mas...\n",
       "347303  /home/labuser/deeplearning/thesis/datasets/mas...\n",
       "347304  /home/labuser/deeplearning/thesis/datasets/mas...\n",
       "347305  /home/labuser/deeplearning/thesis/datasets/mas...\n",
       "347306  /home/labuser/deeplearning/thesis/datasets/mas...\n",
       "\n",
       "[347307 rows x 1 columns]"
      ]
     },
     "execution_count": 5,
     "metadata": {},
     "output_type": "execute_result"
    }
   ],
   "source": [
    "df"
   ]
  },
  {
   "cell_type": "markdown",
   "metadata": {},
   "source": [
    "## Pre-processed data \n",
    "We selected samples that where detected by the Microsoft scanner as ground truth - 282650\\\n",
    "and fixed typos in the labels like:\n",
    "'grandcrab', 'gandcrab'\n",
    "'firecerb', 'cerber'\n",
    "'critroni','critoni'\n"
   ]
  },
  {
   "cell_type": "code",
   "execution_count": 6,
   "metadata": {},
   "outputs": [
    {
     "data": {
      "text/plain": [
       "0         /home/labuser/deeplearning/thesis/datasets/mas...\n",
       "1         /home/labuser/deeplearning/thesis/datasets/mas...\n",
       "2         /home/labuser/deeplearning/thesis/datasets/mas...\n",
       "3         /home/labuser/deeplearning/thesis/datasets/mas...\n",
       "4         /home/labuser/deeplearning/thesis/datasets/mas...\n",
       "                                ...                        \n",
       "347302    /home/labuser/deeplearning/thesis/datasets/mas...\n",
       "347303    /home/labuser/deeplearning/thesis/datasets/mas...\n",
       "347304    /home/labuser/deeplearning/thesis/datasets/mas...\n",
       "347305    /home/labuser/deeplearning/thesis/datasets/mas...\n",
       "347306    /home/labuser/deeplearning/thesis/datasets/mas...\n",
       "Name: path, Length: 347307, dtype: object"
      ]
     },
     "execution_count": 6,
     "metadata": {},
     "output_type": "execute_result"
    }
   ],
   "source": [
    "df['path']"
   ]
  },
  {
   "cell_type": "code",
   "execution_count": 7,
   "metadata": {},
   "outputs": [],
   "source": [
    "df = pd.read_pickle('/home/labuser/deeplearning/thesis/datamanagement/dataman/preprocessed.pkl')"
   ]
  },
  {
   "cell_type": "code",
   "execution_count": 8,
   "metadata": {},
   "outputs": [
    {
     "data": {
      "text/plain": [
       "0         True\n",
       "1         True\n",
       "2         True\n",
       "3         True\n",
       "4         True\n",
       "          ... \n",
       "282645    True\n",
       "282646    True\n",
       "282647    True\n",
       "282648    True\n",
       "282649    True\n",
       "Name: scanner, Length: 282650, dtype: bool"
      ]
     },
     "execution_count": 8,
     "metadata": {},
     "output_type": "execute_result"
    }
   ],
   "source": [
    "df['scanner'] == 'Microsoft'"
   ]
  },
  {
   "cell_type": "code",
   "execution_count": 9,
   "metadata": {},
   "outputs": [
    {
     "data": {
      "text/plain": [
       "0                         worm:win32/agent\n",
       "1          trojandownloader:win32/upatre.a\n",
       "2                      worm:win32/mira!rfn\n",
       "3                trojan:win32/wacatac.b!ml\n",
       "4                         worm:win32/agent\n",
       "                        ...               \n",
       "282645               trojan:win32/occamy.c\n",
       "282646             pua:win32/downloadguide\n",
       "282647                virus:win32/neshta.a\n",
       "282648          trojan:win32/fuerboos.e!cl\n",
       "282649    trojandropper:win32/miniduke!rfn\n",
       "Name: result, Length: 282650, dtype: object"
      ]
     },
     "execution_count": 9,
     "metadata": {},
     "output_type": "execute_result"
    }
   ],
   "source": [
    "df.result"
   ]
  },
  {
   "cell_type": "markdown",
   "metadata": {},
   "source": [
    "### Check for data entry errors - "
   ]
  },
  {
   "cell_type": "code",
   "execution_count": 10,
   "metadata": {},
   "outputs": [
    {
     "data": {
      "text/plain": [
       "['adware:win32/addlyrics',\n",
       " 'adware:win32/adpeak',\n",
       " 'adware:win32/adposhel',\n",
       " 'adware:win32/adposhel.a',\n",
       " 'adware:win32/adposhel.s!mtb',\n",
       " 'adware:win32/adrotator',\n",
       " 'adware:win32/bettersurf',\n",
       " 'adware:win32/clariagain',\n",
       " 'adware:win32/clickpotato',\n",
       " 'adware:win32/eorezo',\n",
       " 'adware:win32/hebogo',\n",
       " 'adware:win32/hotbar',\n",
       " 'adware:win32/kuaiba.a',\n",
       " 'adware:win32/lollipop',\n",
       " 'adware:win32/newdotnet',\n",
       " 'adware:win32/oxypump.a',\n",
       " 'adware:win32/oxypumper.sb',\n",
       " 'adware:win32/qjwmonkey.a!msr',\n",
       " 'adware:win32/ubar',\n",
       " 'adware:win32/webcake']"
      ]
     },
     "execution_count": 10,
     "metadata": {},
     "output_type": "execute_result"
    }
   ],
   "source": [
    "unique_label = df.result.unique().tolist()\n",
    "sorted(unique_label)[:20]"
   ]
  },
  {
   "cell_type": "code",
   "execution_count": 11,
   "metadata": {},
   "outputs": [],
   "source": [
    "#Create tuples of label names, matched label names, and the score\n",
    "score_sort = [(x,) + i\n",
    "             for x in unique_label \n",
    "             for i in process.extract(x, unique_label, scorer=fuzz.token_sort_ratio)]"
   ]
  },
  {
   "cell_type": "code",
   "execution_count": 12,
   "metadata": {},
   "outputs": [
    {
     "data": {
      "text/html": [
       "<div>\n",
       "<style scoped>\n",
       "    .dataframe tbody tr th:only-of-type {\n",
       "        vertical-align: middle;\n",
       "    }\n",
       "\n",
       "    .dataframe tbody tr th {\n",
       "        vertical-align: top;\n",
       "    }\n",
       "\n",
       "    .dataframe thead th {\n",
       "        text-align: right;\n",
       "    }\n",
       "</style>\n",
       "<table border=\"1\" class=\"dataframe\">\n",
       "  <thead>\n",
       "    <tr style=\"text-align: right;\">\n",
       "      <th></th>\n",
       "      <th>label_sort</th>\n",
       "      <th>match_sort</th>\n",
       "      <th>score_sort</th>\n",
       "    </tr>\n",
       "  </thead>\n",
       "  <tbody>\n",
       "    <tr>\n",
       "      <th>0</th>\n",
       "      <td>worm:win32/agent</td>\n",
       "      <td>worm:win32/agent</td>\n",
       "      <td>100</td>\n",
       "    </tr>\n",
       "    <tr>\n",
       "      <th>1</th>\n",
       "      <td>worm:win32/agent</td>\n",
       "      <td>worm:win32/bagle</td>\n",
       "      <td>88</td>\n",
       "    </tr>\n",
       "    <tr>\n",
       "      <th>2</th>\n",
       "      <td>worm:win32/agent</td>\n",
       "      <td>worm:win32/agentp!rfn</td>\n",
       "      <td>86</td>\n",
       "    </tr>\n",
       "    <tr>\n",
       "      <th>3</th>\n",
       "      <td>worm:win32/agent</td>\n",
       "      <td>worm:win32/gate.a</td>\n",
       "      <td>85</td>\n",
       "    </tr>\n",
       "    <tr>\n",
       "      <th>4</th>\n",
       "      <td>worm:win32/agent</td>\n",
       "      <td>worm:win32/ainslot</td>\n",
       "      <td>82</td>\n",
       "    </tr>\n",
       "  </tbody>\n",
       "</table>\n",
       "</div>"
      ],
      "text/plain": [
       "         label_sort             match_sort  score_sort\n",
       "0  worm:win32/agent       worm:win32/agent         100\n",
       "1  worm:win32/agent       worm:win32/bagle          88\n",
       "2  worm:win32/agent  worm:win32/agentp!rfn          86\n",
       "3  worm:win32/agent      worm:win32/gate.a          85\n",
       "4  worm:win32/agent     worm:win32/ainslot          82"
      ]
     },
     "execution_count": 12,
     "metadata": {},
     "output_type": "execute_result"
    }
   ],
   "source": [
    "similarity_sort = pd.DataFrame(score_sort, columns=['label_sort','match_sort','score_sort'])\n",
    "similarity_sort.head()"
   ]
  },
  {
   "cell_type": "code",
   "execution_count": 12,
   "metadata": {},
   "outputs": [],
   "source": [
    "#This file contains no duplicates samples\n",
    "df = pd.read_pickle('/home/labuser/deeplearning/thesis/datamanagement/dataman/preprocessed_1.pkl')"
   ]
  },
  {
   "cell_type": "code",
   "execution_count": 14,
   "metadata": {},
   "outputs": [
    {
     "data": {
      "text/plain": [
       "192282"
      ]
     },
     "execution_count": 14,
     "metadata": {},
     "output_type": "execute_result"
    }
   ],
   "source": [
    "df['filehash'].count()"
   ]
  },
  {
   "cell_type": "code",
   "execution_count": 15,
   "metadata": {},
   "outputs": [
    {
     "data": {
      "text/plain": [
       "label                    result                     \n",
       "adware:win32/adposhel    adware:win32/adposhel          312\n",
       "                         adware:win32/adposhel.a         20\n",
       "                         adware:win32/adposhel.s!mtb      5\n",
       "adware:win32/adrotator   adware:win32/adrotator           1\n",
       "adware:win32/bettersurf  adware:win32/bettersurf          4\n",
       "                                                       ... \n",
       "worm:win32/ypaul         worm:win32/ypaul                 1\n",
       "worm:win32/yuner         worm:win32/yuner.a              66\n",
       "                         worm:win32/yuner!rfn             1\n",
       "worm:win64/boychi        worm:win64/boychi.a!sys          1\n",
       "worm:winnt/lurka         worm:winnt/lurka.a               3\n",
       "Name: result, Length: 3255, dtype: int64"
      ]
     },
     "execution_count": 15,
     "metadata": {},
     "output_type": "execute_result"
    }
   ],
   "source": [
    "df['result'].groupby(df['label']).value_counts()"
   ]
  },
  {
   "cell_type": "code",
   "execution_count": 16,
   "metadata": {},
   "outputs": [],
   "source": [
    "#split label in type and variant\n",
    "df[['type','variant']] = df.label.str.split(\"/\",expand=True,)"
   ]
  },
  {
   "cell_type": "markdown",
   "metadata": {},
   "source": [
    "### Malware types in dataset "
   ]
  },
  {
   "cell_type": "markdown",
   "metadata": {},
   "source": [
    "We have a list of malware types"
   ]
  },
  {
   "cell_type": "code",
   "execution_count": 17,
   "metadata": {},
   "outputs": [
    {
     "data": {
      "text/plain": [
       "virus:win32               54344\n",
       "trojan:win32              44551\n",
       "worm:win32                21353\n",
       "trojandropper:win32       14915\n",
       "backdoor:win32            11446\n",
       "trojandownloader:win32    10259\n",
       "ransom:win32               7446\n",
       "pua:win32                  6221\n",
       "softwarebundler:win32      5288\n",
       "backdoor:msil              4151\n",
       "Name: type, dtype: int64"
      ]
     },
     "execution_count": 17,
     "metadata": {},
     "output_type": "execute_result"
    }
   ],
   "source": [
    "df['type'].value_counts().head(10)"
   ]
  },
  {
   "cell_type": "markdown",
   "metadata": {},
   "source": [
    "This figure shows distribution of malware types by sample count in our dataset between 2017 and 2020."
   ]
  },
  {
   "cell_type": "code",
   "execution_count": 21,
   "metadata": {},
   "outputs": [
    {
     "data": {
      "image/png": "[encoded data removed]",
      "text/plain": [
       "<Figure size 720x360 with 1 Axes>"
      ]
     },
     "metadata": {
      "needs_background": "light"
     },
     "output_type": "display_data"
    }
   ],
   "source": [
    "#Frequency plot \n",
    "plt.figure(figsize=(10,5))\n",
    "chart = sns.countplot(x='type', data=df, order = df['type'].value_counts().head(10).index, palette='Set1')\n",
    "chart.set_title(\"Ransomware research dataset - Top 10 malware types\")\n",
    "chart.set_xticklabels(chart.get_xticklabels(),rotation=45,horizontalalignment='right')\n",
    "plt.xlabel(\"Malware type\")\n",
    "plt.ylabel(\"Number of Samples\")\n",
    "plt.tight_layout()\n",
    "plt.savefig('Total_Malware_in_VTdataset.png')\n",
    "plt.show()\n"
   ]
  },
  {
   "cell_type": "markdown",
   "metadata": {},
   "source": [
    "We have a list of all malware types"
   ]
  },
  {
   "cell_type": "code",
   "execution_count": 25,
   "metadata": {},
   "outputs": [
    {
     "data": {
      "text/plain": [
       "virus:win32/nabucur              25865\n",
       "trojandropper:win32/gepys         7369\n",
       "trojandownloader:win32/upatre     6209\n",
       "trojan:win32/wacatac              6186\n",
       "virus:win32/hematite              5112\n",
       "                                 ...  \n",
       "hacktool:win32/passwordfox           1\n",
       "pws:win32/irex                       1\n",
       "trojan:win32/bladi                   1\n",
       "trojan:win32/ceatrg                  1\n",
       "backdoor:msil/baldr                  1\n",
       "Name: label, Length: 1733, dtype: int64"
      ]
     },
     "execution_count": 25,
     "metadata": {},
     "output_type": "execute_result"
    }
   ],
   "source": [
    "df['label'].value_counts()"
   ]
  },
  {
   "cell_type": "markdown",
   "metadata": {},
   "source": [
    "We added a fix to remove not found samples due to poor data quality"
   ]
  },
  {
   "cell_type": "code",
   "execution_count": 26,
   "metadata": {},
   "outputs": [],
   "source": [
    "dfa = pd.read_pickle('/home/labuser/deeplearning/thesis/datamanagement/dataman/preprocessed_1.pkl') #192.282\n",
    "# Added FIX Remove not found samples due to poor data quality\n"
   ]
  },
  {
   "cell_type": "code",
   "execution_count": 27,
   "metadata": {},
   "outputs": [
    {
     "name": "stdout",
     "output_type": "stream",
     "text": [
      "After clean up 174830 samples left\n"
     ]
    }
   ],
   "source": [
    "df = pd.read_pickle('/home/labuser/deeplearning/thesis/datamanagement/dataman/preprocessed_2.pkl') \n",
    "print(\"After clean up {0} samples left\".format(df.filehash.count()))"
   ]
  },
  {
   "cell_type": "markdown",
   "metadata": {},
   "source": [
    "# PART 2 - Select ransomware samples"
   ]
  },
  {
   "cell_type": "code",
   "execution_count": 9,
   "metadata": {},
   "outputs": [],
   "source": [
    "df = pd.read_pickle('/home/labuser/deeplearning/thesis/datamanagement/dataman/preprocessed_2.pkl') \n"
   ]
  },
  {
   "cell_type": "code",
   "execution_count": 29,
   "metadata": {},
   "outputs": [],
   "source": [
    "# Select only ransomware samples - 7266\n",
    "ransomware = df[df[\"result\"].str.contains(\"Ransom:Win32\",case=False,regex=False)]\n"
   ]
  },
  {
   "cell_type": "code",
   "execution_count": 30,
   "metadata": {
    "scrolled": true
   },
   "outputs": [
    {
     "data": {
      "text/plain": [
       "0"
      ]
     },
     "execution_count": 30,
     "metadata": {},
     "output_type": "execute_result"
    }
   ],
   "source": [
    "#Sanity check duplicate filehashes need to be removed should be zero!!\n",
    "ransomware['filehash'][ransomware.duplicated('filehash')].count()"
   ]
  },
  {
   "cell_type": "markdown",
   "metadata": {},
   "source": [
    "## Part 2.1 - Select unique ransomware families in dataset"
   ]
  },
  {
   "cell_type": "code",
   "execution_count": 31,
   "metadata": {},
   "outputs": [],
   "source": [
    "# else remove duplicates filehashes\n",
    "#ransomware.drop_duplicates(subset =\"filehash\",keep = False, inplace = True) "
   ]
  },
  {
   "cell_type": "code",
   "execution_count": 32,
   "metadata": {},
   "outputs": [
    {
     "data": {
      "text/plain": [
       "array(['ransom:win32/tescrypt', 'ransom:win32/gandcrab',\n",
       "       'ransom:win32/locky', 'ransom:win32/crowti',\n",
       "       'ransom:win32/wannacrypt', 'ransom:win32/milicry',\n",
       "       'ransom:win32/teerac', 'ransom:win32/sagecrypt',\n",
       "       'ransom:win32/cerber', 'ransom:win32/genasom',\n",
       "       'ransom:win32/dotranos', 'ransom:win32/molock',\n",
       "       'ransom:win32/wyhymyz', 'ransom:win32/enestaller',\n",
       "       'ransom:win32/dharma', 'ransom:win32/cryakl',\n",
       "       'ransom:win32/troldesh', 'ransom:win32/rantest',\n",
       "       'ransom:win32/haperlock', 'ransom:win32/tovicrypt',\n",
       "       'ransom:win32/petya', 'ransom:win32/spora',\n",
       "       'ransom:win32/enestedel', 'ransom:win32/filecryptor',\n",
       "       'ransom:win32/sodinokibi', 'ransom:win32/dmalocker',\n",
       "       'ransom:win32/tobfy', 'ransom:win32/somhoveran',\n",
       "       'ransom:win32/higuniel', 'ransom:win32/wadhrama',\n",
       "       'ransom:win32/rackcrypt', 'ransom:win32/crysis',\n",
       "       'ransom:win32/jaffrans', 'ransom:win32/cryptomole',\n",
       "       'ransom:win32/nemreq', 'ransom:win32/bosloki',\n",
       "       'ransom:win32/pottieq', 'ransom:win32/stampado',\n",
       "       'ransom:win32/cryak', 'ransom:win32/shade',\n",
       "       'ransom:win32/hydracrypt', 'ransom:win32/dircrypt',\n",
       "       'ransom:win32/bucbi', 'ransom:win32/natasa', 'ransom:win32/ergop',\n",
       "       'ransom:win32/weenloc', 'ransom:win32/loktrom',\n",
       "       'ransom:win32/urausy', 'ransom:win32/bisquitache',\n",
       "       'ransom:win32/nasan', 'ransom:win32/cryptolempiz',\n",
       "       'ransom:win32/kisucrypt', 'ransom:win32/critoni'], dtype=object)"
      ]
     },
     "execution_count": 32,
     "metadata": {},
     "output_type": "execute_result"
    }
   ],
   "source": [
    "ransomware['label'].unique()"
   ]
  },
  {
   "cell_type": "code",
   "execution_count": 33,
   "metadata": {},
   "outputs": [
    {
     "name": "stdout",
     "output_type": "stream",
     "text": [
      "There are 53 families present in the dataset\n"
     ]
    }
   ],
   "source": [
    "a = ransomware['label'].unique() #53 ransomware families!!\n",
    "print('There are {0} families present in the dataset'.format(str(len(a))))"
   ]
  },
  {
   "cell_type": "code",
   "execution_count": 34,
   "metadata": {},
   "outputs": [
    {
     "data": {
      "text/plain": [
       "<pandas.core.groupby.generic.SeriesGroupBy object at 0x7f4c84833588>"
      ]
     },
     "execution_count": 34,
     "metadata": {},
     "output_type": "execute_result"
    }
   ],
   "source": [
    "ransomware['label'].groupby(ransomware['filesizeKB'])"
   ]
  },
  {
   "cell_type": "code",
   "execution_count": 35,
   "metadata": {},
   "outputs": [
    {
     "name": "stdout",
     "output_type": "stream",
     "text": [
      "There are 6190 samples in the top 10 based on sample count\n"
     ]
    }
   ],
   "source": [
    "#Sanity check  6190 ransomware samples in top 10\n",
    "print('There are {0} samples in the top 10 based on sample count'.format(sum(ransomware['label'].value_counts().sort_values(ascending=False).head(10))))\n"
   ]
  },
  {
   "cell_type": "code",
   "execution_count": 37,
   "metadata": {},
   "outputs": [
    {
     "data": {
      "image/png": "[encoded data removed]",
      "text/plain": [
       "<Figure size 720x360 with 1 Axes>"
      ]
     },
     "metadata": {
      "needs_background": "light"
     },
     "output_type": "display_data"
    }
   ],
   "source": [
    "#final frequency plot top 10 Ransomware families - log scale\n",
    "plt.figure(figsize=(10,5))\n",
    "chart = sns.countplot(x='label', data=ransomware, order = ransomware['label'].value_counts().index, palette='Set1')\n",
    "chart.set_title(\"Ransomware research dataset - Ransomware families (logbase base- 10)\")\n",
    "chart.set_xticklabels(chart.get_xticklabels(),rotation=45,horizontalalignment='right')\n",
    "chart.set(yscale=\"log\")\n",
    "plt.xlabel(\"Ransomware family\")\n",
    "plt.ylabel(\"Number of Samples\")\n",
    "plt.tight_layout()\n",
    "plt.savefig('Total_ransomware_in_VTdataset.png')\n",
    "plt.show()"
   ]
  },
  {
   "cell_type": "markdown",
   "metadata": {},
   "source": [
    "# Part 3 -  Processing - binary2image\n",
    "We convert the binary to image using the python binary2image.py script on '/home/labuser/deeplearning/thesis/dataset/interim' folder\n",
    "\n",
    "The software was found on https://github.com/ncarkaci/binary-to-imagehttps://github.com/ncarkaci/binary-to-image\n",
    "\n",
    "\n"
   ]
  },
  {
   "cell_type": "code",
   "execution_count": 38,
   "metadata": {},
   "outputs": [],
   "source": [
    "# /home/labuser/deeplearning/thesis/solutions/binary-to-image/python3 binary2image.py\n",
    "# /home/labuser/deeplearning/thesis/datamanagement/dataman/python3 imagesize.py\n",
    "# add benign data"
   ]
  },
  {
   "cell_type": "code",
   "execution_count": 10,
   "metadata": {},
   "outputs": [
    {
     "data": {
      "image/png": "[encoded data removed]",
      "text/plain": [
       "<PIL.PngImagePlugin.PngImageFile image mode=RGBA size=451x104 at 0x7F238D0BBD68>"
      ]
     },
     "execution_count": 10,
     "metadata": {},
     "output_type": "execute_result"
    },
    {
     "data": {
      "text/plain": [
       "<Figure size 1080x576 with 0 Axes>"
      ]
     },
     "metadata": {},
     "output_type": "display_data"
    }
   ],
   "source": [
    "plt.figure(figsize=(15,8))\n",
    "Image.open(os.path.join(os.getcwd(),'conversion 1.png'))"
   ]
  },
  {
   "cell_type": "markdown",
   "metadata": {},
   "source": [
    "After the conversion we collect the image size by running the python imagesize.py script"
   ]
  },
  {
   "cell_type": "code",
   "execution_count": 39,
   "metadata": {},
   "outputs": [
    {
     "data": {
      "text/plain": [
       "7326"
      ]
     },
     "execution_count": 39,
     "metadata": {},
     "output_type": "execute_result"
    }
   ],
   "source": [
    "ransomware = pd.read_pickle('/home/labuser/deeplearning/thesis/datamanagement/dataman/images_size.pkl')\n",
    "ransomware['path'].count()"
   ]
  },
  {
   "cell_type": "markdown",
   "metadata": {},
   "source": [
    "# Part 4 - Select images "
   ]
  },
  {
   "cell_type": "markdown",
   "metadata": {},
   "source": [
    "We selected images based on their size to get maximum features for the CNN and optimum number of samples by family \\\n"
   ]
  },
  {
   "cell_type": "code",
   "execution_count": 14,
   "metadata": {},
   "outputs": [],
   "source": [
    "ransomware = pd.read_pickle('/home/labuser/deeplearning/thesis/datamanagement/dataman/images_size.pkl')"
   ]
  },
  {
   "cell_type": "code",
   "execution_count": 15,
   "metadata": {},
   "outputs": [
    {
     "name": "stdout",
     "output_type": "stream",
     "text": [
      "Training data average (width, height):  (321.2055692055692, 374.3024843024843)\n",
      "Training data (minimum width, maximum width):  (32, 1024)\n",
      "Training data (minimum height, maximum height):  (2, 10049)\n",
      "Training data (STD of widths, STD of heights):  (155.75548380752028, 238.43001701382158)\n"
     ]
    }
   ],
   "source": [
    "print('Training data average (width, height): ', (np.mean(ransomware['imagesize_w']), np.mean(ransomware['imagesize_h'])))\n",
    "print('Training data (minimum width, maximum width): ', (np.min(ransomware['imagesize_w']), np.max(ransomware['imagesize_w'])))\n",
    "print('Training data (minimum height, maximum height): ', (np.min(ransomware['imagesize_h']), np.max(ransomware['imagesize_h'])))\n",
    "print('Training data (STD of widths, STD of heights): ', (np.std(ransomware['imagesize_w']), np.std(ransomware['imagesize_h'])))"
   ]
  },
  {
   "cell_type": "code",
   "execution_count": 16,
   "metadata": {},
   "outputs": [
    {
     "data": {
      "text/plain": [
       "<Figure size 720x360 with 0 Axes>"
      ]
     },
     "metadata": {},
     "output_type": "display_data"
    },
    {
     "data": {
      "image/png": "[encoded data removed]",
      "text/plain": [
       "<Figure size 864x576 with 2 Axes>"
      ]
     },
     "metadata": {
      "needs_background": "light"
     },
     "output_type": "display_data"
    }
   ],
   "source": [
    "plt.figure(figsize=(10,5))\n",
    "fig, (ax1, ax2) = plt.subplots(2, figsize=(12, 8))\n",
    "fig.suptitle('Histograms of training image widths and heights')\n",
    "ax1.hist(ransomware['imagesize_w'], bins=100)\n",
    "ax1.set_xlabel('Width') \n",
    "ax1.set_ylabel('Number of images')\n",
    "ax2.hist(ransomware['imagesize_h'], bins=100) \n",
    "ax2.set_xlabel('Height')\n",
    "ax2.set_ylabel('Number of images')\n",
    "plt.tight_layout()\n",
    "plt.savefig('Malware_image_size_VTdataset.png')\n",
    "plt.show()"
   ]
  },
  {
   "cell_type": "code",
   "execution_count": 44,
   "metadata": {},
   "outputs": [
    {
     "data": {
      "text/plain": [
       "384     3277\n",
       "256     2120\n",
       "512      560\n",
       "128      559\n",
       "64       326\n",
       "32       308\n",
       "1024     109\n",
       "768       67\n",
       "Name: imagesize_w, dtype: int64"
      ]
     },
     "execution_count": 44,
     "metadata": {},
     "output_type": "execute_result"
    }
   ],
   "source": [
    "ransomware['imagesize_w'].value_counts()"
   ]
  },
  {
   "cell_type": "code",
   "execution_count": 45,
   "metadata": {},
   "outputs": [
    {
     "data": {
      "text/plain": [
       "342    134\n",
       "292    130\n",
       "320    127\n",
       "324    122\n",
       "286    116\n",
       "      ... \n",
       "26       1\n",
       "34       1\n",
       "62       1\n",
       "66       1\n",
       "8        1\n",
       "Name: imagesize_h, Length: 560, dtype: int64"
      ]
     },
     "execution_count": 45,
     "metadata": {},
     "output_type": "execute_result"
    }
   ],
   "source": [
    "ransomware['imagesize_h'].value_counts()"
   ]
  },
  {
   "cell_type": "code",
   "execution_count": 47,
   "metadata": {},
   "outputs": [
    {
     "data": {
      "text/plain": [
       "0       761705.555556\n",
       "1       761705.555556\n",
       "2       968954.063604\n",
       "3       968954.063604\n",
       "4       968954.063604\n",
       "            ...      \n",
       "7321    699525.510204\n",
       "7322    699525.510204\n",
       "7323    695974.619289\n",
       "7324    217630.158730\n",
       "7325    923279.461279\n",
       "Name: imagesize_h, Length: 7326, dtype: float64"
      ]
     },
     "execution_count": 47,
     "metadata": {},
     "output_type": "execute_result"
    }
   ],
   "source": []
  },
  {
   "cell_type": "markdown",
   "metadata": {},
   "source": [
    "### File sizes ransomware "
   ]
  },
  {
   "cell_type": "markdown",
   "metadata": {},
   "source": [
    "We check the file size of images."
   ]
  },
  {
   "cell_type": "code",
   "execution_count": 129,
   "metadata": {},
   "outputs": [
    {
     "name": "stdout",
     "output_type": "stream",
     "text": [
      "Training data average file size:  317098.24215124216\n",
      "Training data (minimum and maximum):  (237, 29194448)\n",
      "Training data (STD):  531018.2178847467\n"
     ]
    }
   ],
   "source": [
    "ransomware['filesize'] #no in bytes!!\n",
    "print('Training data average file size: ', (np.mean(ransomware['filesize'])))\n",
    "print('Training data (minimum and maximum): ', (np.min(ransomware['filesize']), np.max(ransomware['filesize'])))\n",
    "print('Training data (STD): ', (np.std(ransomware['filesize'])))"
   ]
  },
  {
   "cell_type": "code",
   "execution_count": 43,
   "metadata": {},
   "outputs": [
    {
     "data": {
      "image/png": "[encoded data removed]",
      "text/plain": [
       "<Figure size 720x360 with 1 Axes>"
      ]
     },
     "metadata": {
      "needs_background": "light"
     },
     "output_type": "display_data"
    }
   ],
   "source": [
    "plt.figure(figsize=(10,5))\n",
    "plt.hist(ransomware['filesize'], bins=100)\n",
    "plt.xlabel('File size in bytes')\n",
    "plt.ylabel('Number of images')\n",
    "plt.savefig('Ransomware_image_filesize_VTdataset.png')\n",
    "plt.show()"
   ]
  },
  {
   "cell_type": "code",
   "execution_count": null,
   "metadata": {},
   "outputs": [],
   "source": []
  },
  {
   "cell_type": "markdown",
   "metadata": {},
   "source": [
    "### Smallest samples"
   ]
  },
  {
   "cell_type": "code",
   "execution_count": 104,
   "metadata": {},
   "outputs": [
    {
     "data": {
      "text/html": [
       "<div>\n",
       "<style scoped>\n",
       "    .dataframe tbody tr th:only-of-type {\n",
       "        vertical-align: middle;\n",
       "    }\n",
       "\n",
       "    .dataframe tbody tr th {\n",
       "        vertical-align: top;\n",
       "    }\n",
       "\n",
       "    .dataframe thead th {\n",
       "        text-align: right;\n",
       "    }\n",
       "</style>\n",
       "<table border=\"1\" class=\"dataframe\">\n",
       "  <thead>\n",
       "    <tr style=\"text-align: right;\">\n",
       "      <th></th>\n",
       "      <th>path</th>\n",
       "      <th>label</th>\n",
       "      <th>imagesize_w</th>\n",
       "      <th>imagesize_h</th>\n",
       "      <th>filesize</th>\n",
       "    </tr>\n",
       "  </thead>\n",
       "  <tbody>\n",
       "    <tr>\n",
       "      <th>2234</th>\n",
       "      <td>/home/labuser/deeplearning/thesis/datasets/int...</td>\n",
       "      <td>benign</td>\n",
       "      <td>32</td>\n",
       "      <td>2</td>\n",
       "      <td>239</td>\n",
       "    </tr>\n",
       "    <tr>\n",
       "      <th>2546</th>\n",
       "      <td>/home/labuser/deeplearning/thesis/datasets/int...</td>\n",
       "      <td>benign</td>\n",
       "      <td>32</td>\n",
       "      <td>2</td>\n",
       "      <td>241</td>\n",
       "    </tr>\n",
       "    <tr>\n",
       "      <th>2629</th>\n",
       "      <td>/home/labuser/deeplearning/thesis/datasets/int...</td>\n",
       "      <td>benign</td>\n",
       "      <td>32</td>\n",
       "      <td>2</td>\n",
       "      <td>240</td>\n",
       "    </tr>\n",
       "    <tr>\n",
       "      <th>2716</th>\n",
       "      <td>/home/labuser/deeplearning/thesis/datasets/int...</td>\n",
       "      <td>benign</td>\n",
       "      <td>32</td>\n",
       "      <td>2</td>\n",
       "      <td>244</td>\n",
       "    </tr>\n",
       "    <tr>\n",
       "      <th>2722</th>\n",
       "      <td>/home/labuser/deeplearning/thesis/datasets/int...</td>\n",
       "      <td>benign</td>\n",
       "      <td>32</td>\n",
       "      <td>2</td>\n",
       "      <td>238</td>\n",
       "    </tr>\n",
       "    <tr>\n",
       "      <th>2726</th>\n",
       "      <td>/home/labuser/deeplearning/thesis/datasets/int...</td>\n",
       "      <td>benign</td>\n",
       "      <td>32</td>\n",
       "      <td>2</td>\n",
       "      <td>237</td>\n",
       "    </tr>\n",
       "    <tr>\n",
       "      <th>2771</th>\n",
       "      <td>/home/labuser/deeplearning/thesis/datasets/int...</td>\n",
       "      <td>benign</td>\n",
       "      <td>32</td>\n",
       "      <td>2</td>\n",
       "      <td>251</td>\n",
       "    </tr>\n",
       "    <tr>\n",
       "      <th>2865</th>\n",
       "      <td>/home/labuser/deeplearning/thesis/datasets/int...</td>\n",
       "      <td>benign</td>\n",
       "      <td>32</td>\n",
       "      <td>2</td>\n",
       "      <td>237</td>\n",
       "    </tr>\n",
       "  </tbody>\n",
       "</table>\n",
       "</div>"
      ],
      "text/plain": [
       "                                                   path   label  imagesize_w  \\\n",
       "2234  /home/labuser/deeplearning/thesis/datasets/int...  benign           32   \n",
       "2546  /home/labuser/deeplearning/thesis/datasets/int...  benign           32   \n",
       "2629  /home/labuser/deeplearning/thesis/datasets/int...  benign           32   \n",
       "2716  /home/labuser/deeplearning/thesis/datasets/int...  benign           32   \n",
       "2722  /home/labuser/deeplearning/thesis/datasets/int...  benign           32   \n",
       "2726  /home/labuser/deeplearning/thesis/datasets/int...  benign           32   \n",
       "2771  /home/labuser/deeplearning/thesis/datasets/int...  benign           32   \n",
       "2865  /home/labuser/deeplearning/thesis/datasets/int...  benign           32   \n",
       "\n",
       "      imagesize_h  filesize  \n",
       "2234            2       239  \n",
       "2546            2       241  \n",
       "2629            2       240  \n",
       "2716            2       244  \n",
       "2722            2       238  \n",
       "2726            2       237  \n",
       "2771            2       251  \n",
       "2865            2       237  "
      ]
     },
     "execution_count": 104,
     "metadata": {},
     "output_type": "execute_result"
    }
   ],
   "source": [
    "ransomware ['imagesize_h'].min()\n",
    "ransomware[ransomware['imagesize_h'] == 2] # 2 benign samples"
   ]
  },
  {
   "cell_type": "code",
   "execution_count": 105,
   "metadata": {},
   "outputs": [
    {
     "data": {
      "text/plain": [
       "32"
      ]
     },
     "execution_count": 105,
     "metadata": {},
     "output_type": "execute_result"
    }
   ],
   "source": [
    "#smallest width\n",
    "ransomware ['imagesize_w'].min()"
   ]
  },
  {
   "cell_type": "code",
   "execution_count": 158,
   "metadata": {},
   "outputs": [
    {
     "ename": "SyntaxError",
     "evalue": "unexpected EOF while parsing (<ipython-input-158-052dafec8da4>, line 8)",
     "output_type": "error",
     "traceback": [
      "\u001b[0;36m  File \u001b[0;32m\"<ipython-input-158-052dafec8da4>\"\u001b[0;36m, line \u001b[0;32m8\u001b[0m\n\u001b[0;31m    # features.std()\u001b[0m\n\u001b[0m                    ^\u001b[0m\n\u001b[0;31mSyntaxError\u001b[0m\u001b[0;31m:\u001b[0m unexpected EOF while parsing\n"
     ]
    }
   ],
   "source": [
    "#calulate dimensions - features size (Saxe and Chen, 2018)\n",
    "ransomware['features'] = ransomware ['imagesize_w'] * ransomware ['imagesize_h'] * 3\n",
    "ransomware['ratio'] = ransomware ['imagesize_w'] / int(ransomware ['imagesize_w']\n",
    "# features.min()\n",
    "# features.max()\n",
    "# features.mean()\n",
    "# features.mode()\n",
    "# features.std()\n"
   ]
  },
  {
   "cell_type": "code",
   "execution_count": 9,
   "metadata": {},
   "outputs": [
    {
     "data": {
      "image/png": "[encoded data removed]",
      "text/plain": [
       "<Figure size 432x288 with 2 Axes>"
      ]
     },
     "metadata": {
      "needs_background": "light"
     },
     "output_type": "display_data"
    }
   ],
   "source": [
    "#Images size \n",
    "sns.heatmap(ransomware.corr(), annot=True, cmap=\"YlGnBu\")\n",
    "plt.show()"
   ]
  },
  {
   "cell_type": "code",
   "execution_count": 10,
   "metadata": {},
   "outputs": [
    {
     "name": "stdout",
     "output_type": "stream",
     "text": [
      "Features 150528\n"
     ]
    },
    {
     "data": {
      "text/html": [
       "<div>\n",
       "<style scoped>\n",
       "    .dataframe tbody tr th:only-of-type {\n",
       "        vertical-align: middle;\n",
       "    }\n",
       "\n",
       "    .dataframe tbody tr th {\n",
       "        vertical-align: top;\n",
       "    }\n",
       "\n",
       "    .dataframe thead th {\n",
       "        text-align: right;\n",
       "    }\n",
       "</style>\n",
       "<table border=\"1\" class=\"dataframe\">\n",
       "  <thead>\n",
       "    <tr style=\"text-align: right;\">\n",
       "      <th></th>\n",
       "      <th>path</th>\n",
       "      <th>label</th>\n",
       "      <th>imagesize_w</th>\n",
       "      <th>imagesize_h</th>\n",
       "      <th>filesize</th>\n",
       "    </tr>\n",
       "  </thead>\n",
       "  <tbody>\n",
       "    <tr>\n",
       "      <th>2</th>\n",
       "      <td>/home/labuser/deeplearning/thesis/datasets/int...</td>\n",
       "      <td>dharma</td>\n",
       "      <td>384</td>\n",
       "      <td>283</td>\n",
       "      <td>221442</td>\n",
       "    </tr>\n",
       "    <tr>\n",
       "      <th>3</th>\n",
       "      <td>/home/labuser/deeplearning/thesis/datasets/int...</td>\n",
       "      <td>dharma</td>\n",
       "      <td>384</td>\n",
       "      <td>283</td>\n",
       "      <td>221441</td>\n",
       "    </tr>\n",
       "    <tr>\n",
       "      <th>4</th>\n",
       "      <td>/home/labuser/deeplearning/thesis/datasets/int...</td>\n",
       "      <td>dharma</td>\n",
       "      <td>384</td>\n",
       "      <td>283</td>\n",
       "      <td>221443</td>\n",
       "    </tr>\n",
       "    <tr>\n",
       "      <th>5</th>\n",
       "      <td>/home/labuser/deeplearning/thesis/datasets/int...</td>\n",
       "      <td>dharma</td>\n",
       "      <td>384</td>\n",
       "      <td>283</td>\n",
       "      <td>221442</td>\n",
       "    </tr>\n",
       "    <tr>\n",
       "      <th>6</th>\n",
       "      <td>/home/labuser/deeplearning/thesis/datasets/int...</td>\n",
       "      <td>shade</td>\n",
       "      <td>512</td>\n",
       "      <td>635</td>\n",
       "      <td>968182</td>\n",
       "    </tr>\n",
       "    <tr>\n",
       "      <th>...</th>\n",
       "      <td>...</td>\n",
       "      <td>...</td>\n",
       "      <td>...</td>\n",
       "      <td>...</td>\n",
       "      <td>...</td>\n",
       "    </tr>\n",
       "    <tr>\n",
       "      <th>7312</th>\n",
       "      <td>/home/labuser/deeplearning/thesis/datasets/int...</td>\n",
       "      <td>spora</td>\n",
       "      <td>256</td>\n",
       "      <td>274</td>\n",
       "      <td>163539</td>\n",
       "    </tr>\n",
       "    <tr>\n",
       "      <th>7315</th>\n",
       "      <td>/home/labuser/deeplearning/thesis/datasets/int...</td>\n",
       "      <td>petya</td>\n",
       "      <td>256</td>\n",
       "      <td>342</td>\n",
       "      <td>195683</td>\n",
       "    </tr>\n",
       "    <tr>\n",
       "      <th>7320</th>\n",
       "      <td>/home/labuser/deeplearning/thesis/datasets/int...</td>\n",
       "      <td>petya</td>\n",
       "      <td>384</td>\n",
       "      <td>356</td>\n",
       "      <td>266019</td>\n",
       "    </tr>\n",
       "    <tr>\n",
       "      <th>7324</th>\n",
       "      <td>/home/labuser/deeplearning/thesis/datasets/int...</td>\n",
       "      <td>rackcrypt</td>\n",
       "      <td>1024</td>\n",
       "      <td>1260</td>\n",
       "      <td>3792011</td>\n",
       "    </tr>\n",
       "    <tr>\n",
       "      <th>7325</th>\n",
       "      <td>/home/labuser/deeplearning/thesis/datasets/int...</td>\n",
       "      <td>hydracrypt</td>\n",
       "      <td>384</td>\n",
       "      <td>297</td>\n",
       "      <td>335682</td>\n",
       "    </tr>\n",
       "  </tbody>\n",
       "</table>\n",
       "<p>6133 rows × 5 columns</p>\n",
       "</div>"
      ],
      "text/plain": [
       "                                                   path       label  \\\n",
       "2     /home/labuser/deeplearning/thesis/datasets/int...      dharma   \n",
       "3     /home/labuser/deeplearning/thesis/datasets/int...      dharma   \n",
       "4     /home/labuser/deeplearning/thesis/datasets/int...      dharma   \n",
       "5     /home/labuser/deeplearning/thesis/datasets/int...      dharma   \n",
       "6     /home/labuser/deeplearning/thesis/datasets/int...       shade   \n",
       "...                                                 ...         ...   \n",
       "7312  /home/labuser/deeplearning/thesis/datasets/int...       spora   \n",
       "7315  /home/labuser/deeplearning/thesis/datasets/int...       petya   \n",
       "7320  /home/labuser/deeplearning/thesis/datasets/int...       petya   \n",
       "7324  /home/labuser/deeplearning/thesis/datasets/int...   rackcrypt   \n",
       "7325  /home/labuser/deeplearning/thesis/datasets/int...  hydracrypt   \n",
       "\n",
       "      imagesize_w  imagesize_h  filesize  \n",
       "2             384          283    221442  \n",
       "3             384          283    221441  \n",
       "4             384          283    221443  \n",
       "5             384          283    221442  \n",
       "6             512          635    968182  \n",
       "...           ...          ...       ...  \n",
       "7312          256          274    163539  \n",
       "7315          256          342    195683  \n",
       "7320          384          356    266019  \n",
       "7324         1024         1260   3792011  \n",
       "7325          384          297    335682  \n",
       "\n",
       "[6133 rows x 5 columns]"
      ]
     },
     "execution_count": 10,
     "metadata": {},
     "output_type": "execute_result"
    }
   ],
   "source": [
    "print('Features {}'.format(224*224*3)) # maximum features minimum of 224x224\n",
    "ransomware[(ransomware ['imagesize_w'] >= 224) & (ransomware['imagesize_h'] >= 224)]# Default CNN input 224x224x3 = 6133 \n"
   ]
  },
  {
   "cell_type": "code",
   "execution_count": 11,
   "metadata": {},
   "outputs": [
    {
     "name": "stdout",
     "output_type": "stream",
     "text": [
      "Features 40992\n"
     ]
    },
    {
     "data": {
      "text/html": [
       "<div>\n",
       "<style scoped>\n",
       "    .dataframe tbody tr th:only-of-type {\n",
       "        vertical-align: middle;\n",
       "    }\n",
       "\n",
       "    .dataframe tbody tr th {\n",
       "        vertical-align: top;\n",
       "    }\n",
       "\n",
       "    .dataframe thead th {\n",
       "        text-align: right;\n",
       "    }\n",
       "</style>\n",
       "<table border=\"1\" class=\"dataframe\">\n",
       "  <thead>\n",
       "    <tr style=\"text-align: right;\">\n",
       "      <th></th>\n",
       "      <th>path</th>\n",
       "      <th>label</th>\n",
       "      <th>imagesize_w</th>\n",
       "      <th>imagesize_h</th>\n",
       "      <th>filesize</th>\n",
       "    </tr>\n",
       "  </thead>\n",
       "  <tbody>\n",
       "    <tr>\n",
       "      <th>0</th>\n",
       "      <td>/home/labuser/deeplearning/thesis/datasets/int...</td>\n",
       "      <td>nasan</td>\n",
       "      <td>128</td>\n",
       "      <td>360</td>\n",
       "      <td>107778</td>\n",
       "    </tr>\n",
       "    <tr>\n",
       "      <th>1</th>\n",
       "      <td>/home/labuser/deeplearning/thesis/datasets/int...</td>\n",
       "      <td>nasan</td>\n",
       "      <td>128</td>\n",
       "      <td>360</td>\n",
       "      <td>107760</td>\n",
       "    </tr>\n",
       "    <tr>\n",
       "      <th>2</th>\n",
       "      <td>/home/labuser/deeplearning/thesis/datasets/int...</td>\n",
       "      <td>dharma</td>\n",
       "      <td>384</td>\n",
       "      <td>283</td>\n",
       "      <td>221442</td>\n",
       "    </tr>\n",
       "    <tr>\n",
       "      <th>3</th>\n",
       "      <td>/home/labuser/deeplearning/thesis/datasets/int...</td>\n",
       "      <td>dharma</td>\n",
       "      <td>384</td>\n",
       "      <td>283</td>\n",
       "      <td>221441</td>\n",
       "    </tr>\n",
       "    <tr>\n",
       "      <th>4</th>\n",
       "      <td>/home/labuser/deeplearning/thesis/datasets/int...</td>\n",
       "      <td>dharma</td>\n",
       "      <td>384</td>\n",
       "      <td>283</td>\n",
       "      <td>221443</td>\n",
       "    </tr>\n",
       "    <tr>\n",
       "      <th>...</th>\n",
       "      <td>...</td>\n",
       "      <td>...</td>\n",
       "      <td>...</td>\n",
       "      <td>...</td>\n",
       "      <td>...</td>\n",
       "    </tr>\n",
       "    <tr>\n",
       "      <th>7321</th>\n",
       "      <td>/home/labuser/deeplearning/thesis/datasets/int...</td>\n",
       "      <td>petya</td>\n",
       "      <td>128</td>\n",
       "      <td>392</td>\n",
       "      <td>115002</td>\n",
       "    </tr>\n",
       "    <tr>\n",
       "      <th>7322</th>\n",
       "      <td>/home/labuser/deeplearning/thesis/datasets/int...</td>\n",
       "      <td>petya</td>\n",
       "      <td>128</td>\n",
       "      <td>392</td>\n",
       "      <td>115038</td>\n",
       "    </tr>\n",
       "    <tr>\n",
       "      <th>7323</th>\n",
       "      <td>/home/labuser/deeplearning/thesis/datasets/int...</td>\n",
       "      <td>petya</td>\n",
       "      <td>128</td>\n",
       "      <td>394</td>\n",
       "      <td>114981</td>\n",
       "    </tr>\n",
       "    <tr>\n",
       "      <th>7324</th>\n",
       "      <td>/home/labuser/deeplearning/thesis/datasets/int...</td>\n",
       "      <td>rackcrypt</td>\n",
       "      <td>1024</td>\n",
       "      <td>1260</td>\n",
       "      <td>3792011</td>\n",
       "    </tr>\n",
       "    <tr>\n",
       "      <th>7325</th>\n",
       "      <td>/home/labuser/deeplearning/thesis/datasets/int...</td>\n",
       "      <td>hydracrypt</td>\n",
       "      <td>384</td>\n",
       "      <td>297</td>\n",
       "      <td>335682</td>\n",
       "    </tr>\n",
       "  </tbody>\n",
       "</table>\n",
       "<p>6692 rows × 5 columns</p>\n",
       "</div>"
      ],
      "text/plain": [
       "                                                   path       label  \\\n",
       "0     /home/labuser/deeplearning/thesis/datasets/int...       nasan   \n",
       "1     /home/labuser/deeplearning/thesis/datasets/int...       nasan   \n",
       "2     /home/labuser/deeplearning/thesis/datasets/int...      dharma   \n",
       "3     /home/labuser/deeplearning/thesis/datasets/int...      dharma   \n",
       "4     /home/labuser/deeplearning/thesis/datasets/int...      dharma   \n",
       "...                                                 ...         ...   \n",
       "7321  /home/labuser/deeplearning/thesis/datasets/int...       petya   \n",
       "7322  /home/labuser/deeplearning/thesis/datasets/int...       petya   \n",
       "7323  /home/labuser/deeplearning/thesis/datasets/int...       petya   \n",
       "7324  /home/labuser/deeplearning/thesis/datasets/int...   rackcrypt   \n",
       "7325  /home/labuser/deeplearning/thesis/datasets/int...  hydracrypt   \n",
       "\n",
       "      imagesize_w  imagesize_h  filesize  \n",
       "0             128          360    107778  \n",
       "1             128          360    107760  \n",
       "2             384          283    221442  \n",
       "3             384          283    221441  \n",
       "4             384          283    221443  \n",
       "...           ...          ...       ...  \n",
       "7321          128          392    115002  \n",
       "7322          128          392    115038  \n",
       "7323          128          394    114981  \n",
       "7324         1024         1260   3792011  \n",
       "7325          384          297    335682  \n",
       "\n",
       "[6692 rows x 5 columns]"
      ]
     },
     "execution_count": 11,
     "metadata": {},
     "output_type": "execute_result"
    }
   ],
   "source": [
    "print('Features {}'.format(112*122*3)) # features 224/2\n",
    "ransomware[(ransomware ['imagesize_w'] >= 112) & (ransomware['imagesize_h'] >= 112)]# CNN input 112x112x3 == 6692"
   ]
  },
  {
   "cell_type": "code",
   "execution_count": null,
   "metadata": {},
   "outputs": [],
   "source": []
  },
  {
   "cell_type": "code",
   "execution_count": 12,
   "metadata": {},
   "outputs": [
    {
     "name": "stdout",
     "output_type": "stream",
     "text": [
      "Features 49152\n"
     ]
    },
    {
     "data": {
      "text/html": [
       "<div>\n",
       "<style scoped>\n",
       "    .dataframe tbody tr th:only-of-type {\n",
       "        vertical-align: middle;\n",
       "    }\n",
       "\n",
       "    .dataframe tbody tr th {\n",
       "        vertical-align: top;\n",
       "    }\n",
       "\n",
       "    .dataframe thead th {\n",
       "        text-align: right;\n",
       "    }\n",
       "</style>\n",
       "<table border=\"1\" class=\"dataframe\">\n",
       "  <thead>\n",
       "    <tr style=\"text-align: right;\">\n",
       "      <th></th>\n",
       "      <th>path</th>\n",
       "      <th>label</th>\n",
       "      <th>imagesize_w</th>\n",
       "      <th>imagesize_h</th>\n",
       "      <th>filesize</th>\n",
       "    </tr>\n",
       "  </thead>\n",
       "  <tbody>\n",
       "    <tr>\n",
       "      <th>2</th>\n",
       "      <td>/home/labuser/deeplearning/thesis/datasets/int...</td>\n",
       "      <td>dharma</td>\n",
       "      <td>384</td>\n",
       "      <td>283</td>\n",
       "      <td>221442</td>\n",
       "    </tr>\n",
       "    <tr>\n",
       "      <th>3</th>\n",
       "      <td>/home/labuser/deeplearning/thesis/datasets/int...</td>\n",
       "      <td>dharma</td>\n",
       "      <td>384</td>\n",
       "      <td>283</td>\n",
       "      <td>221441</td>\n",
       "    </tr>\n",
       "    <tr>\n",
       "      <th>4</th>\n",
       "      <td>/home/labuser/deeplearning/thesis/datasets/int...</td>\n",
       "      <td>dharma</td>\n",
       "      <td>384</td>\n",
       "      <td>283</td>\n",
       "      <td>221443</td>\n",
       "    </tr>\n",
       "    <tr>\n",
       "      <th>5</th>\n",
       "      <td>/home/labuser/deeplearning/thesis/datasets/int...</td>\n",
       "      <td>dharma</td>\n",
       "      <td>384</td>\n",
       "      <td>283</td>\n",
       "      <td>221442</td>\n",
       "    </tr>\n",
       "    <tr>\n",
       "      <th>6</th>\n",
       "      <td>/home/labuser/deeplearning/thesis/datasets/int...</td>\n",
       "      <td>shade</td>\n",
       "      <td>512</td>\n",
       "      <td>635</td>\n",
       "      <td>968182</td>\n",
       "    </tr>\n",
       "    <tr>\n",
       "      <th>...</th>\n",
       "      <td>...</td>\n",
       "      <td>...</td>\n",
       "      <td>...</td>\n",
       "      <td>...</td>\n",
       "      <td>...</td>\n",
       "    </tr>\n",
       "    <tr>\n",
       "      <th>7312</th>\n",
       "      <td>/home/labuser/deeplearning/thesis/datasets/int...</td>\n",
       "      <td>spora</td>\n",
       "      <td>256</td>\n",
       "      <td>274</td>\n",
       "      <td>163539</td>\n",
       "    </tr>\n",
       "    <tr>\n",
       "      <th>7315</th>\n",
       "      <td>/home/labuser/deeplearning/thesis/datasets/int...</td>\n",
       "      <td>petya</td>\n",
       "      <td>256</td>\n",
       "      <td>342</td>\n",
       "      <td>195683</td>\n",
       "    </tr>\n",
       "    <tr>\n",
       "      <th>7320</th>\n",
       "      <td>/home/labuser/deeplearning/thesis/datasets/int...</td>\n",
       "      <td>petya</td>\n",
       "      <td>384</td>\n",
       "      <td>356</td>\n",
       "      <td>266019</td>\n",
       "    </tr>\n",
       "    <tr>\n",
       "      <th>7324</th>\n",
       "      <td>/home/labuser/deeplearning/thesis/datasets/int...</td>\n",
       "      <td>rackcrypt</td>\n",
       "      <td>1024</td>\n",
       "      <td>1260</td>\n",
       "      <td>3792011</td>\n",
       "    </tr>\n",
       "    <tr>\n",
       "      <th>7325</th>\n",
       "      <td>/home/labuser/deeplearning/thesis/datasets/int...</td>\n",
       "      <td>hydracrypt</td>\n",
       "      <td>384</td>\n",
       "      <td>297</td>\n",
       "      <td>335682</td>\n",
       "    </tr>\n",
       "  </tbody>\n",
       "</table>\n",
       "<p>6133 rows × 5 columns</p>\n",
       "</div>"
      ],
      "text/plain": [
       "                                                   path       label  \\\n",
       "2     /home/labuser/deeplearning/thesis/datasets/int...      dharma   \n",
       "3     /home/labuser/deeplearning/thesis/datasets/int...      dharma   \n",
       "4     /home/labuser/deeplearning/thesis/datasets/int...      dharma   \n",
       "5     /home/labuser/deeplearning/thesis/datasets/int...      dharma   \n",
       "6     /home/labuser/deeplearning/thesis/datasets/int...       shade   \n",
       "...                                                 ...         ...   \n",
       "7312  /home/labuser/deeplearning/thesis/datasets/int...       spora   \n",
       "7315  /home/labuser/deeplearning/thesis/datasets/int...       petya   \n",
       "7320  /home/labuser/deeplearning/thesis/datasets/int...       petya   \n",
       "7324  /home/labuser/deeplearning/thesis/datasets/int...   rackcrypt   \n",
       "7325  /home/labuser/deeplearning/thesis/datasets/int...  hydracrypt   \n",
       "\n",
       "      imagesize_w  imagesize_h  filesize  \n",
       "2             384          283    221442  \n",
       "3             384          283    221441  \n",
       "4             384          283    221443  \n",
       "5             384          283    221442  \n",
       "6             512          635    968182  \n",
       "...           ...          ...       ...  \n",
       "7312          256          274    163539  \n",
       "7315          256          342    195683  \n",
       "7320          384          356    266019  \n",
       "7324         1024         1260   3792011  \n",
       "7325          384          297    335682  \n",
       "\n",
       "[6133 rows x 5 columns]"
      ]
     },
     "execution_count": 12,
     "metadata": {},
     "output_type": "execute_result"
    }
   ],
   "source": [
    "#Selection on minimum images size 128 x 128 x 3 Results in no Benign samples in the dataset == 7018\n",
    "print('Features {}'.format(128*128*3))\n",
    "ransomware[(ransomware ['imagesize_w'] > 128) & (ransomware['imagesize_h'] > 128)]"
   ]
  },
  {
   "cell_type": "code",
   "execution_count": 13,
   "metadata": {},
   "outputs": [
    {
     "name": "stdout",
     "output_type": "stream",
     "text": [
      "Features 12288\n"
     ]
    },
    {
     "data": {
      "text/html": [
       "<div>\n",
       "<style scoped>\n",
       "    .dataframe tbody tr th:only-of-type {\n",
       "        vertical-align: middle;\n",
       "    }\n",
       "\n",
       "    .dataframe tbody tr th {\n",
       "        vertical-align: top;\n",
       "    }\n",
       "\n",
       "    .dataframe thead th {\n",
       "        text-align: right;\n",
       "    }\n",
       "</style>\n",
       "<table border=\"1\" class=\"dataframe\">\n",
       "  <thead>\n",
       "    <tr style=\"text-align: right;\">\n",
       "      <th></th>\n",
       "      <th>path</th>\n",
       "      <th>label</th>\n",
       "      <th>imagesize_w</th>\n",
       "      <th>imagesize_h</th>\n",
       "      <th>filesize</th>\n",
       "    </tr>\n",
       "  </thead>\n",
       "  <tbody>\n",
       "    <tr>\n",
       "      <th>0</th>\n",
       "      <td>/home/labuser/deeplearning/thesis/datasets/int...</td>\n",
       "      <td>nasan</td>\n",
       "      <td>128</td>\n",
       "      <td>360</td>\n",
       "      <td>107778</td>\n",
       "    </tr>\n",
       "    <tr>\n",
       "      <th>1</th>\n",
       "      <td>/home/labuser/deeplearning/thesis/datasets/int...</td>\n",
       "      <td>nasan</td>\n",
       "      <td>128</td>\n",
       "      <td>360</td>\n",
       "      <td>107760</td>\n",
       "    </tr>\n",
       "    <tr>\n",
       "      <th>2</th>\n",
       "      <td>/home/labuser/deeplearning/thesis/datasets/int...</td>\n",
       "      <td>dharma</td>\n",
       "      <td>384</td>\n",
       "      <td>283</td>\n",
       "      <td>221442</td>\n",
       "    </tr>\n",
       "    <tr>\n",
       "      <th>3</th>\n",
       "      <td>/home/labuser/deeplearning/thesis/datasets/int...</td>\n",
       "      <td>dharma</td>\n",
       "      <td>384</td>\n",
       "      <td>283</td>\n",
       "      <td>221441</td>\n",
       "    </tr>\n",
       "    <tr>\n",
       "      <th>4</th>\n",
       "      <td>/home/labuser/deeplearning/thesis/datasets/int...</td>\n",
       "      <td>dharma</td>\n",
       "      <td>384</td>\n",
       "      <td>283</td>\n",
       "      <td>221443</td>\n",
       "    </tr>\n",
       "    <tr>\n",
       "      <th>...</th>\n",
       "      <td>...</td>\n",
       "      <td>...</td>\n",
       "      <td>...</td>\n",
       "      <td>...</td>\n",
       "      <td>...</td>\n",
       "    </tr>\n",
       "    <tr>\n",
       "      <th>7321</th>\n",
       "      <td>/home/labuser/deeplearning/thesis/datasets/int...</td>\n",
       "      <td>petya</td>\n",
       "      <td>128</td>\n",
       "      <td>392</td>\n",
       "      <td>115002</td>\n",
       "    </tr>\n",
       "    <tr>\n",
       "      <th>7322</th>\n",
       "      <td>/home/labuser/deeplearning/thesis/datasets/int...</td>\n",
       "      <td>petya</td>\n",
       "      <td>128</td>\n",
       "      <td>392</td>\n",
       "      <td>115038</td>\n",
       "    </tr>\n",
       "    <tr>\n",
       "      <th>7323</th>\n",
       "      <td>/home/labuser/deeplearning/thesis/datasets/int...</td>\n",
       "      <td>petya</td>\n",
       "      <td>128</td>\n",
       "      <td>394</td>\n",
       "      <td>114981</td>\n",
       "    </tr>\n",
       "    <tr>\n",
       "      <th>7324</th>\n",
       "      <td>/home/labuser/deeplearning/thesis/datasets/int...</td>\n",
       "      <td>rackcrypt</td>\n",
       "      <td>1024</td>\n",
       "      <td>1260</td>\n",
       "      <td>3792011</td>\n",
       "    </tr>\n",
       "    <tr>\n",
       "      <th>7325</th>\n",
       "      <td>/home/labuser/deeplearning/thesis/datasets/int...</td>\n",
       "      <td>hydracrypt</td>\n",
       "      <td>384</td>\n",
       "      <td>297</td>\n",
       "      <td>335682</td>\n",
       "    </tr>\n",
       "  </tbody>\n",
       "</table>\n",
       "<p>6692 rows × 5 columns</p>\n",
       "</div>"
      ],
      "text/plain": [
       "                                                   path       label  \\\n",
       "0     /home/labuser/deeplearning/thesis/datasets/int...       nasan   \n",
       "1     /home/labuser/deeplearning/thesis/datasets/int...       nasan   \n",
       "2     /home/labuser/deeplearning/thesis/datasets/int...      dharma   \n",
       "3     /home/labuser/deeplearning/thesis/datasets/int...      dharma   \n",
       "4     /home/labuser/deeplearning/thesis/datasets/int...      dharma   \n",
       "...                                                 ...         ...   \n",
       "7321  /home/labuser/deeplearning/thesis/datasets/int...       petya   \n",
       "7322  /home/labuser/deeplearning/thesis/datasets/int...       petya   \n",
       "7323  /home/labuser/deeplearning/thesis/datasets/int...       petya   \n",
       "7324  /home/labuser/deeplearning/thesis/datasets/int...   rackcrypt   \n",
       "7325  /home/labuser/deeplearning/thesis/datasets/int...  hydracrypt   \n",
       "\n",
       "      imagesize_w  imagesize_h  filesize  \n",
       "0             128          360    107778  \n",
       "1             128          360    107760  \n",
       "2             384          283    221442  \n",
       "3             384          283    221441  \n",
       "4             384          283    221443  \n",
       "...           ...          ...       ...  \n",
       "7321          128          392    115002  \n",
       "7322          128          392    115038  \n",
       "7323          128          394    114981  \n",
       "7324         1024         1260   3792011  \n",
       "7325          384          297    335682  \n",
       "\n",
       "[6692 rows x 5 columns]"
      ]
     },
     "execution_count": 13,
     "metadata": {},
     "output_type": "execute_result"
    }
   ],
   "source": [
    "#Selection on minimum images size 64 x 64 x 3  Results in no Benign samples in the dataset == 7018\n",
    "print('Features {}'.format(64*64*3))\n",
    "ransomware[(ransomware ['imagesize_w'] > 64) & (ransomware['imagesize_h'] > 64)]"
   ]
  },
  {
   "cell_type": "code",
   "execution_count": 14,
   "metadata": {},
   "outputs": [
    {
     "name": "stdout",
     "output_type": "stream",
     "text": [
      "Features 3072\n"
     ]
    }
   ],
   "source": [
    "#Selection on minimum images size 32 x 32 x 3  Results in no Benign samples in the dataset == 7018\n",
    "print('Features {}'.format(32*32*3))\n",
    "ransomware[(ransomware ['imagesize_w'] > 32) & (ransomware ['imagesize_w'] > 32)]\n",
    "ransomware['ratio'] = ransomware ['imagesize_w'] / ransomware ['imagesize_w']"
   ]
  },
  {
   "cell_type": "markdown",
   "metadata": {},
   "source": [
    "### Effects of reshaping and resizing - image Distortion"
   ]
  },
  {
   "cell_type": "markdown",
   "metadata": {},
   "source": [
    "Show the effects of reshaping a image from ( m x n) into (m x m)"
   ]
  },
  {
   "cell_type": "code",
   "execution_count": 25,
   "metadata": {},
   "outputs": [],
   "source": []
  },
  {
   "cell_type": "code",
   "execution_count": 26,
   "metadata": {},
   "outputs": [],
   "source": [
    "showdistortion = ransomware[(ransomware ['imagesize_w'] == 32) & (ransomware ['imagesize_w'] <112)].head(1)"
   ]
  },
  {
   "cell_type": "code",
   "execution_count": 32,
   "metadata": {},
   "outputs": [
    {
     "data": {
      "text/plain": [
       "'/home/labuser/deeplearning/thesis/datasets/interim/genasom/92559310933618d709811373a1447d938cc300189a700999001458696cfc38d9.png'"
      ]
     },
     "execution_count": 32,
     "metadata": {},
     "output_type": "execute_result"
    }
   ],
   "source": [
    "path = showdistortion['path'].values[0]\n",
    "path"
   ]
  },
  {
   "cell_type": "code",
   "execution_count": 11,
   "metadata": {},
   "outputs": [
    {
     "ename": "NameError",
     "evalue": "name 'path' is not defined",
     "output_type": "error",
     "traceback": [
      "\u001b[0;31m---------------------------------------------------------------------------\u001b[0m",
      "\u001b[0;31mNameError\u001b[0m                                 Traceback (most recent call last)",
      "\u001b[0;32m<ipython-input-11-f1ef0d7566bc>\u001b[0m in \u001b[0;36m<module>\u001b[0;34m\u001b[0m\n\u001b[0;32m----> 1\u001b[0;31m \u001b[0mImage\u001b[0m\u001b[0;34m(\u001b[0m\u001b[0mfilename\u001b[0m\u001b[0;34m=\u001b[0m\u001b[0mpath\u001b[0m\u001b[0;34m)\u001b[0m\u001b[0;34m\u001b[0m\u001b[0;34m\u001b[0m\u001b[0m\n\u001b[0m",
      "\u001b[0;31mNameError\u001b[0m: name 'path' is not defined"
     ]
    }
   ],
   "source": [
    "Image(filename=path)"
   ]
  },
  {
   "cell_type": "code",
   "execution_count": 179,
   "metadata": {},
   "outputs": [
    {
     "ename": "KeyError",
     "evalue": "0",
     "output_type": "error",
     "traceback": [
      "\u001b[0;31m---------------------------------------------------------------------------\u001b[0m",
      "\u001b[0;31mKeyError\u001b[0m                                  Traceback (most recent call last)",
      "\u001b[0;32m~/.local/share/virtualenvs/dataman-vjwH9nfk/lib/python3.6/site-packages/pandas/core/indexes/base.py\u001b[0m in \u001b[0;36mget_loc\u001b[0;34m(self, key, method, tolerance)\u001b[0m\n\u001b[1;32m   2888\u001b[0m             \u001b[0;32mtry\u001b[0m\u001b[0;34m:\u001b[0m\u001b[0;34m\u001b[0m\u001b[0;34m\u001b[0m\u001b[0m\n\u001b[0;32m-> 2889\u001b[0;31m                 \u001b[0;32mreturn\u001b[0m \u001b[0mself\u001b[0m\u001b[0;34m.\u001b[0m\u001b[0m_engine\u001b[0m\u001b[0;34m.\u001b[0m\u001b[0mget_loc\u001b[0m\u001b[0;34m(\u001b[0m\u001b[0mcasted_key\u001b[0m\u001b[0;34m)\u001b[0m\u001b[0;34m\u001b[0m\u001b[0;34m\u001b[0m\u001b[0m\n\u001b[0m\u001b[1;32m   2890\u001b[0m             \u001b[0;32mexcept\u001b[0m \u001b[0mKeyError\u001b[0m \u001b[0;32mas\u001b[0m \u001b[0merr\u001b[0m\u001b[0;34m:\u001b[0m\u001b[0;34m\u001b[0m\u001b[0;34m\u001b[0m\u001b[0m\n",
      "\u001b[0;32mpandas/_libs/index.pyx\u001b[0m in \u001b[0;36mpandas._libs.index.IndexEngine.get_loc\u001b[0;34m()\u001b[0m\n",
      "\u001b[0;32mpandas/_libs/index.pyx\u001b[0m in \u001b[0;36mpandas._libs.index.IndexEngine.get_loc\u001b[0;34m()\u001b[0m\n",
      "\u001b[0;32mpandas/_libs/hashtable_class_helper.pxi\u001b[0m in \u001b[0;36mpandas._libs.hashtable.Int64HashTable.get_item\u001b[0;34m()\u001b[0m\n",
      "\u001b[0;32mpandas/_libs/hashtable_class_helper.pxi\u001b[0m in \u001b[0;36mpandas._libs.hashtable.Int64HashTable.get_item\u001b[0;34m()\u001b[0m\n",
      "\u001b[0;31mKeyError\u001b[0m: 0",
      "\nThe above exception was the direct cause of the following exception:\n",
      "\u001b[0;31mKeyError\u001b[0m                                  Traceback (most recent call last)",
      "\u001b[0;32m<ipython-input-179-e528d71da5e8>\u001b[0m in \u001b[0;36m<module>\u001b[0;34m\u001b[0m\n\u001b[0;32m----> 1\u001b[0;31m \u001b[0mimg\u001b[0m \u001b[0;34m=\u001b[0m \u001b[0mImage\u001b[0m\u001b[0;34m.\u001b[0m\u001b[0mopen\u001b[0m\u001b[0;34m(\u001b[0m\u001b[0mshowdistortion\u001b[0m\u001b[0;34m.\u001b[0m\u001b[0mpath\u001b[0m\u001b[0;34m[\u001b[0m\u001b[0;36m0\u001b[0m\u001b[0;34m]\u001b[0m\u001b[0;34m)\u001b[0m\u001b[0;34m\u001b[0m\u001b[0;34m\u001b[0m\u001b[0m\n\u001b[0m\u001b[1;32m      2\u001b[0m \u001b[0mimg\u001b[0m\u001b[0;34m.\u001b[0m\u001b[0msave\u001b[0m\u001b[0;34m(\u001b[0m\u001b[0;34m'undistorted.png'\u001b[0m\u001b[0;34m)\u001b[0m\u001b[0;34m\u001b[0m\u001b[0;34m\u001b[0m\u001b[0m\n\u001b[1;32m      3\u001b[0m \u001b[0;34m\u001b[0m\u001b[0m\n\u001b[1;32m      4\u001b[0m \u001b[0mimg\u001b[0m \u001b[0;34m=\u001b[0m \u001b[0mImage\u001b[0m\u001b[0;34m.\u001b[0m\u001b[0mopen\u001b[0m\u001b[0;34m(\u001b[0m\u001b[0mshowdistortion\u001b[0m\u001b[0;34m.\u001b[0m\u001b[0mpath\u001b[0m\u001b[0;34m[\u001b[0m\u001b[0;36m0\u001b[0m\u001b[0;34m]\u001b[0m\u001b[0;34m)\u001b[0m\u001b[0;34m\u001b[0m\u001b[0;34m\u001b[0m\u001b[0m\n\u001b[1;32m      5\u001b[0m \u001b[0mnew_width\u001b[0m  \u001b[0;34m=\u001b[0m \u001b[0;36m244\u001b[0m\u001b[0;34m\u001b[0m\u001b[0;34m\u001b[0m\u001b[0m\n",
      "\u001b[0;32m~/.local/share/virtualenvs/dataman-vjwH9nfk/lib/python3.6/site-packages/pandas/core/series.py\u001b[0m in \u001b[0;36m__getitem__\u001b[0;34m(self, key)\u001b[0m\n\u001b[1;32m    880\u001b[0m \u001b[0;34m\u001b[0m\u001b[0m\n\u001b[1;32m    881\u001b[0m         \u001b[0;32melif\u001b[0m \u001b[0mkey_is_scalar\u001b[0m\u001b[0;34m:\u001b[0m\u001b[0;34m\u001b[0m\u001b[0;34m\u001b[0m\u001b[0m\n\u001b[0;32m--> 882\u001b[0;31m             \u001b[0;32mreturn\u001b[0m \u001b[0mself\u001b[0m\u001b[0;34m.\u001b[0m\u001b[0m_get_value\u001b[0m\u001b[0;34m(\u001b[0m\u001b[0mkey\u001b[0m\u001b[0;34m)\u001b[0m\u001b[0;34m\u001b[0m\u001b[0;34m\u001b[0m\u001b[0m\n\u001b[0m\u001b[1;32m    883\u001b[0m \u001b[0;34m\u001b[0m\u001b[0m\n\u001b[1;32m    884\u001b[0m         if (\n",
      "\u001b[0;32m~/.local/share/virtualenvs/dataman-vjwH9nfk/lib/python3.6/site-packages/pandas/core/series.py\u001b[0m in \u001b[0;36m_get_value\u001b[0;34m(self, label, takeable)\u001b[0m\n\u001b[1;32m    989\u001b[0m \u001b[0;34m\u001b[0m\u001b[0m\n\u001b[1;32m    990\u001b[0m         \u001b[0;31m# Similar to Index.get_value, but we do not fall back to positional\u001b[0m\u001b[0;34m\u001b[0m\u001b[0;34m\u001b[0m\u001b[0;34m\u001b[0m\u001b[0m\n\u001b[0;32m--> 991\u001b[0;31m         \u001b[0mloc\u001b[0m \u001b[0;34m=\u001b[0m \u001b[0mself\u001b[0m\u001b[0;34m.\u001b[0m\u001b[0mindex\u001b[0m\u001b[0;34m.\u001b[0m\u001b[0mget_loc\u001b[0m\u001b[0;34m(\u001b[0m\u001b[0mlabel\u001b[0m\u001b[0;34m)\u001b[0m\u001b[0;34m\u001b[0m\u001b[0;34m\u001b[0m\u001b[0m\n\u001b[0m\u001b[1;32m    992\u001b[0m         \u001b[0;32mreturn\u001b[0m \u001b[0mself\u001b[0m\u001b[0;34m.\u001b[0m\u001b[0mindex\u001b[0m\u001b[0;34m.\u001b[0m\u001b[0m_get_values_for_loc\u001b[0m\u001b[0;34m(\u001b[0m\u001b[0mself\u001b[0m\u001b[0;34m,\u001b[0m \u001b[0mloc\u001b[0m\u001b[0;34m,\u001b[0m \u001b[0mlabel\u001b[0m\u001b[0;34m)\u001b[0m\u001b[0;34m\u001b[0m\u001b[0;34m\u001b[0m\u001b[0m\n\u001b[1;32m    993\u001b[0m \u001b[0;34m\u001b[0m\u001b[0m\n",
      "\u001b[0;32m~/.local/share/virtualenvs/dataman-vjwH9nfk/lib/python3.6/site-packages/pandas/core/indexes/base.py\u001b[0m in \u001b[0;36mget_loc\u001b[0;34m(self, key, method, tolerance)\u001b[0m\n\u001b[1;32m   2889\u001b[0m                 \u001b[0;32mreturn\u001b[0m \u001b[0mself\u001b[0m\u001b[0;34m.\u001b[0m\u001b[0m_engine\u001b[0m\u001b[0;34m.\u001b[0m\u001b[0mget_loc\u001b[0m\u001b[0;34m(\u001b[0m\u001b[0mcasted_key\u001b[0m\u001b[0;34m)\u001b[0m\u001b[0;34m\u001b[0m\u001b[0;34m\u001b[0m\u001b[0m\n\u001b[1;32m   2890\u001b[0m             \u001b[0;32mexcept\u001b[0m \u001b[0mKeyError\u001b[0m \u001b[0;32mas\u001b[0m \u001b[0merr\u001b[0m\u001b[0;34m:\u001b[0m\u001b[0;34m\u001b[0m\u001b[0;34m\u001b[0m\u001b[0m\n\u001b[0;32m-> 2891\u001b[0;31m                 \u001b[0;32mraise\u001b[0m \u001b[0mKeyError\u001b[0m\u001b[0;34m(\u001b[0m\u001b[0mkey\u001b[0m\u001b[0;34m)\u001b[0m \u001b[0;32mfrom\u001b[0m \u001b[0merr\u001b[0m\u001b[0;34m\u001b[0m\u001b[0;34m\u001b[0m\u001b[0m\n\u001b[0m\u001b[1;32m   2892\u001b[0m \u001b[0;34m\u001b[0m\u001b[0m\n\u001b[1;32m   2893\u001b[0m         \u001b[0;32mif\u001b[0m \u001b[0mtolerance\u001b[0m \u001b[0;32mis\u001b[0m \u001b[0;32mnot\u001b[0m \u001b[0;32mNone\u001b[0m\u001b[0;34m:\u001b[0m\u001b[0;34m\u001b[0m\u001b[0;34m\u001b[0m\u001b[0m\n",
      "\u001b[0;31mKeyError\u001b[0m: 0"
     ]
    }
   ],
   "source": [
    "img = Image.open(showdistortion.path[0])\n",
    "img.save('undistorted.png')\n",
    "\n",
    "img = Image.open(showdistortion.path[0])\n",
    "new_width  = 244\n",
    "new_height = 244\n",
    "img = img.resize((new_width, new_height), Image.ANTIALIAS)\n",
    "img.save('distorted_image.png')\n"
   ]
  },
  {
   "cell_type": "code",
   "execution_count": 180,
   "metadata": {},
   "outputs": [
    {
     "ename": "TypeError",
     "evalue": "'module' object is not callable",
     "output_type": "error",
     "traceback": [
      "\u001b[0;31m---------------------------------------------------------------------------\u001b[0m",
      "\u001b[0;31mTypeError\u001b[0m                                 Traceback (most recent call last)",
      "\u001b[0;32m<ipython-input-180-ebb774aa4102>\u001b[0m in \u001b[0;36m<module>\u001b[0;34m\u001b[0m\n\u001b[0;32m----> 1\u001b[0;31m \u001b[0mImage\u001b[0m\u001b[0;34m(\u001b[0m\u001b[0mfilename\u001b[0m\u001b[0;34m=\u001b[0m\u001b[0;34m'distorted_image.png'\u001b[0m\u001b[0;34m)\u001b[0m\u001b[0;34m\u001b[0m\u001b[0;34m\u001b[0m\u001b[0m\n\u001b[0m",
      "\u001b[0;31mTypeError\u001b[0m: 'module' object is not callable"
     ]
    }
   ],
   "source": [
    "Image(filename='distorted_image.png')"
   ]
  },
  {
   "cell_type": "code",
   "execution_count": 33,
   "metadata": {},
   "outputs": [],
   "source": [
    "nodistortion = ransomware[(ransomware ['imagesize_w'] >= 112) & (ransomware ['imagesize_w'] >=112)].head(1)"
   ]
  },
  {
   "cell_type": "code",
   "execution_count": 34,
   "metadata": {},
   "outputs": [
    {
     "data": {
      "text/html": [
       "<div>\n",
       "<style scoped>\n",
       "    .dataframe tbody tr th:only-of-type {\n",
       "        vertical-align: middle;\n",
       "    }\n",
       "\n",
       "    .dataframe tbody tr th {\n",
       "        vertical-align: top;\n",
       "    }\n",
       "\n",
       "    .dataframe thead th {\n",
       "        text-align: right;\n",
       "    }\n",
       "</style>\n",
       "<table border=\"1\" class=\"dataframe\">\n",
       "  <thead>\n",
       "    <tr style=\"text-align: right;\">\n",
       "      <th></th>\n",
       "      <th>path</th>\n",
       "      <th>label</th>\n",
       "      <th>imagesize_w</th>\n",
       "      <th>imagesize_h</th>\n",
       "      <th>filesize</th>\n",
       "      <th>ratio</th>\n",
       "    </tr>\n",
       "  </thead>\n",
       "  <tbody>\n",
       "    <tr>\n",
       "      <th>0</th>\n",
       "      <td>/home/labuser/deeplearning/thesis/datasets/int...</td>\n",
       "      <td>nasan</td>\n",
       "      <td>128</td>\n",
       "      <td>360</td>\n",
       "      <td>107778</td>\n",
       "      <td>1.0</td>\n",
       "    </tr>\n",
       "  </tbody>\n",
       "</table>\n",
       "</div>"
      ],
      "text/plain": [
       "                                                path  label  imagesize_w  \\\n",
       "0  /home/labuser/deeplearning/thesis/datasets/int...  nasan          128   \n",
       "\n",
       "   imagesize_h  filesize  ratio  \n",
       "0          360    107778    1.0  "
      ]
     },
     "execution_count": 34,
     "metadata": {},
     "output_type": "execute_result"
    }
   ],
   "source": [
    "nodistortion"
   ]
  },
  {
   "cell_type": "code",
   "execution_count": 36,
   "metadata": {},
   "outputs": [],
   "source": [
    "img = Image.open(nodistortion.path[0])\n",
    "img.save('undistorted_112.png')\n",
    "\n",
    "img = Image.open(nodistortion.path[0])\n",
    "new_width  = 299\n",
    "new_height = 299\n",
    "img = img.resize((new_width, new_height), Image.ANTIALIAS)\n",
    "img.save('distorted_112_299.png')\n",
    "\n",
    "img = Image.open(nodistortion.path[0])\n",
    "new_width  = 244\n",
    "new_height = 244\n",
    "img = img.resize((new_width, new_height), Image.ANTIALIAS)\n",
    "img.save('distorted_112_244.png')"
   ]
  },
  {
   "cell_type": "markdown",
   "metadata": {},
   "source": [
    "# Part 4 - Final selection"
   ]
  },
  {
   "cell_type": "markdown",
   "metadata": {},
   "source": [
    "We selected images with a minimum size of 112 x 112 "
   ]
  },
  {
   "cell_type": "code",
   "execution_count": 159,
   "metadata": {},
   "outputs": [
    {
     "data": {
      "text/plain": [
       "tescrypt        3071\n",
       "gandcrab         994\n",
       "crowti           556\n",
       "locky            538\n",
       "cerber           488\n",
       "benign           358\n",
       "genasom          201\n",
       "wannacrypt       104\n",
       "enestaller        88\n",
       "milicry           51\n",
       "haperlock         44\n",
       "enestedel         33\n",
       "teerac            28\n",
       "filecryptor       20\n",
       "wyhymyz           14\n",
       "rantest           13\n",
       "wadhrama          11\n",
       "sagecrypt          9\n",
       "troldesh           8\n",
       "petya              8\n",
       "tobfy              6\n",
       "dharma             4\n",
       "nemreq             4\n",
       "somhoveran         4\n",
       "dotranos           3\n",
       "molock             3\n",
       "higuniel           3\n",
       "pottieq            3\n",
       "spora              2\n",
       "nasan              2\n",
       "stampado           2\n",
       "urausy             1\n",
       "rackcrypt          1\n",
       "hydracrypt         1\n",
       "critoni            1\n",
       "tovicrypt          1\n",
       "shade              1\n",
       "bisquitache        1\n",
       "cryak              1\n",
       "sodinokibi         1\n",
       "ergop              1\n",
       "crysis             1\n",
       "weenloc            1\n",
       "dmalocker          1\n",
       "cryptolempiz       1\n",
       "bosloki            1\n",
       "jaffrans           1\n",
       "kisucrypt          1\n",
       "dircrypt           1\n",
       "bucbi              1\n",
       "Name: label, dtype: int64"
      ]
     },
     "execution_count": 159,
     "metadata": {},
     "output_type": "execute_result"
    }
   ],
   "source": [
    "preselection = ransomware[(ransomware ['imagesize_w'] >= 112) & (ransomware['imagesize_h'] >= 112)]# CNN input 112x112x3 == 6692\n",
    "preselection['label'].value_counts()"
   ]
  },
  {
   "cell_type": "markdown",
   "metadata": {},
   "source": [
    "we selected only sample classes of a minum of 100 samples per class."
   ]
  },
  {
   "cell_type": "code",
   "execution_count": 160,
   "metadata": {},
   "outputs": [
    {
     "data": {
      "text/html": [
       "<div>\n",
       "<style scoped>\n",
       "    .dataframe tbody tr th:only-of-type {\n",
       "        vertical-align: middle;\n",
       "    }\n",
       "\n",
       "    .dataframe tbody tr th {\n",
       "        vertical-align: top;\n",
       "    }\n",
       "\n",
       "    .dataframe thead th {\n",
       "        text-align: right;\n",
       "    }\n",
       "</style>\n",
       "<table border=\"1\" class=\"dataframe\">\n",
       "  <thead>\n",
       "    <tr style=\"text-align: right;\">\n",
       "      <th></th>\n",
       "      <th>path</th>\n",
       "      <th>label</th>\n",
       "      <th>imagesize_w</th>\n",
       "      <th>imagesize_h</th>\n",
       "      <th>filesize</th>\n",
       "    </tr>\n",
       "  </thead>\n",
       "  <tbody>\n",
       "    <tr>\n",
       "      <th>12</th>\n",
       "      <td>/home/labuser/deeplearning/thesis/datasets/int...</td>\n",
       "      <td>genasom</td>\n",
       "      <td>512</td>\n",
       "      <td>921</td>\n",
       "      <td>1110074</td>\n",
       "    </tr>\n",
       "    <tr>\n",
       "      <th>13</th>\n",
       "      <td>/home/labuser/deeplearning/thesis/datasets/int...</td>\n",
       "      <td>genasom</td>\n",
       "      <td>512</td>\n",
       "      <td>917</td>\n",
       "      <td>1061066</td>\n",
       "    </tr>\n",
       "    <tr>\n",
       "      <th>14</th>\n",
       "      <td>/home/labuser/deeplearning/thesis/datasets/int...</td>\n",
       "      <td>genasom</td>\n",
       "      <td>1024</td>\n",
       "      <td>1592</td>\n",
       "      <td>4624646</td>\n",
       "    </tr>\n",
       "    <tr>\n",
       "      <th>15</th>\n",
       "      <td>/home/labuser/deeplearning/thesis/datasets/int...</td>\n",
       "      <td>genasom</td>\n",
       "      <td>512</td>\n",
       "      <td>939</td>\n",
       "      <td>1057168</td>\n",
       "    </tr>\n",
       "    <tr>\n",
       "      <th>16</th>\n",
       "      <td>/home/labuser/deeplearning/thesis/datasets/int...</td>\n",
       "      <td>genasom</td>\n",
       "      <td>512</td>\n",
       "      <td>923</td>\n",
       "      <td>1078239</td>\n",
       "    </tr>\n",
       "    <tr>\n",
       "      <th>...</th>\n",
       "      <td>...</td>\n",
       "      <td>...</td>\n",
       "      <td>...</td>\n",
       "      <td>...</td>\n",
       "      <td>...</td>\n",
       "    </tr>\n",
       "    <tr>\n",
       "      <th>7289</th>\n",
       "      <td>/home/labuser/deeplearning/thesis/datasets/int...</td>\n",
       "      <td>cerber</td>\n",
       "      <td>384</td>\n",
       "      <td>270</td>\n",
       "      <td>231489</td>\n",
       "    </tr>\n",
       "    <tr>\n",
       "      <th>7290</th>\n",
       "      <td>/home/labuser/deeplearning/thesis/datasets/int...</td>\n",
       "      <td>cerber</td>\n",
       "      <td>256</td>\n",
       "      <td>313</td>\n",
       "      <td>194357</td>\n",
       "    </tr>\n",
       "    <tr>\n",
       "      <th>7291</th>\n",
       "      <td>/home/labuser/deeplearning/thesis/datasets/int...</td>\n",
       "      <td>cerber</td>\n",
       "      <td>256</td>\n",
       "      <td>350</td>\n",
       "      <td>199573</td>\n",
       "    </tr>\n",
       "    <tr>\n",
       "      <th>7292</th>\n",
       "      <td>/home/labuser/deeplearning/thesis/datasets/int...</td>\n",
       "      <td>cerber</td>\n",
       "      <td>512</td>\n",
       "      <td>435</td>\n",
       "      <td>248026</td>\n",
       "    </tr>\n",
       "    <tr>\n",
       "      <th>7293</th>\n",
       "      <td>/home/labuser/deeplearning/thesis/datasets/int...</td>\n",
       "      <td>cerber</td>\n",
       "      <td>384</td>\n",
       "      <td>364</td>\n",
       "      <td>226396</td>\n",
       "    </tr>\n",
       "  </tbody>\n",
       "</table>\n",
       "<p>6310 rows × 5 columns</p>\n",
       "</div>"
      ],
      "text/plain": [
       "                                                   path    label  imagesize_w  \\\n",
       "12    /home/labuser/deeplearning/thesis/datasets/int...  genasom          512   \n",
       "13    /home/labuser/deeplearning/thesis/datasets/int...  genasom          512   \n",
       "14    /home/labuser/deeplearning/thesis/datasets/int...  genasom         1024   \n",
       "15    /home/labuser/deeplearning/thesis/datasets/int...  genasom          512   \n",
       "16    /home/labuser/deeplearning/thesis/datasets/int...  genasom          512   \n",
       "...                                                 ...      ...          ...   \n",
       "7289  /home/labuser/deeplearning/thesis/datasets/int...   cerber          384   \n",
       "7290  /home/labuser/deeplearning/thesis/datasets/int...   cerber          256   \n",
       "7291  /home/labuser/deeplearning/thesis/datasets/int...   cerber          256   \n",
       "7292  /home/labuser/deeplearning/thesis/datasets/int...   cerber          512   \n",
       "7293  /home/labuser/deeplearning/thesis/datasets/int...   cerber          384   \n",
       "\n",
       "      imagesize_h  filesize  \n",
       "12            921   1110074  \n",
       "13            917   1061066  \n",
       "14           1592   4624646  \n",
       "15            939   1057168  \n",
       "16            923   1078239  \n",
       "...           ...       ...  \n",
       "7289          270    231489  \n",
       "7290          313    194357  \n",
       "7291          350    199573  \n",
       "7292          435    248026  \n",
       "7293          364    226396  \n",
       "\n",
       "[6310 rows x 5 columns]"
      ]
     },
     "execution_count": 160,
     "metadata": {},
     "output_type": "execute_result"
    }
   ],
   "source": [
    "# Selection of Minimum of 100 samples per family #100 samples = 80 samples (80% train) 20 samples (20% validation) 10 samples (10% test)\n",
    "preselection.groupby('label').filter(lambda x: len(x) >= 100)"
   ]
  },
  {
   "cell_type": "code",
   "execution_count": 51,
   "metadata": {},
   "outputs": [
    {
     "data": {
      "text/html": [
       "<div>\n",
       "<style scoped>\n",
       "    .dataframe tbody tr th:only-of-type {\n",
       "        vertical-align: middle;\n",
       "    }\n",
       "\n",
       "    .dataframe tbody tr th {\n",
       "        vertical-align: top;\n",
       "    }\n",
       "\n",
       "    .dataframe thead th {\n",
       "        text-align: right;\n",
       "    }\n",
       "</style>\n",
       "<table border=\"1\" class=\"dataframe\">\n",
       "  <thead>\n",
       "    <tr style=\"text-align: right;\">\n",
       "      <th></th>\n",
       "      <th>path</th>\n",
       "      <th>label</th>\n",
       "      <th>imagesize_w</th>\n",
       "      <th>imagesize_h</th>\n",
       "      <th>filesize</th>\n",
       "      <th>ratio</th>\n",
       "    </tr>\n",
       "  </thead>\n",
       "  <tbody>\n",
       "    <tr>\n",
       "      <th>12</th>\n",
       "      <td>/home/labuser/deeplearning/thesis/datasets/int...</td>\n",
       "      <td>genasom</td>\n",
       "      <td>512</td>\n",
       "      <td>921</td>\n",
       "      <td>1110074</td>\n",
       "      <td>1.0</td>\n",
       "    </tr>\n",
       "    <tr>\n",
       "      <th>13</th>\n",
       "      <td>/home/labuser/deeplearning/thesis/datasets/int...</td>\n",
       "      <td>genasom</td>\n",
       "      <td>512</td>\n",
       "      <td>917</td>\n",
       "      <td>1061066</td>\n",
       "      <td>1.0</td>\n",
       "    </tr>\n",
       "    <tr>\n",
       "      <th>14</th>\n",
       "      <td>/home/labuser/deeplearning/thesis/datasets/int...</td>\n",
       "      <td>genasom</td>\n",
       "      <td>1024</td>\n",
       "      <td>1592</td>\n",
       "      <td>4624646</td>\n",
       "      <td>1.0</td>\n",
       "    </tr>\n",
       "    <tr>\n",
       "      <th>15</th>\n",
       "      <td>/home/labuser/deeplearning/thesis/datasets/int...</td>\n",
       "      <td>genasom</td>\n",
       "      <td>512</td>\n",
       "      <td>939</td>\n",
       "      <td>1057168</td>\n",
       "      <td>1.0</td>\n",
       "    </tr>\n",
       "    <tr>\n",
       "      <th>16</th>\n",
       "      <td>/home/labuser/deeplearning/thesis/datasets/int...</td>\n",
       "      <td>genasom</td>\n",
       "      <td>512</td>\n",
       "      <td>923</td>\n",
       "      <td>1078239</td>\n",
       "      <td>1.0</td>\n",
       "    </tr>\n",
       "    <tr>\n",
       "      <th>...</th>\n",
       "      <td>...</td>\n",
       "      <td>...</td>\n",
       "      <td>...</td>\n",
       "      <td>...</td>\n",
       "      <td>...</td>\n",
       "      <td>...</td>\n",
       "    </tr>\n",
       "    <tr>\n",
       "      <th>7289</th>\n",
       "      <td>/home/labuser/deeplearning/thesis/datasets/int...</td>\n",
       "      <td>cerber</td>\n",
       "      <td>384</td>\n",
       "      <td>270</td>\n",
       "      <td>231489</td>\n",
       "      <td>1.0</td>\n",
       "    </tr>\n",
       "    <tr>\n",
       "      <th>7290</th>\n",
       "      <td>/home/labuser/deeplearning/thesis/datasets/int...</td>\n",
       "      <td>cerber</td>\n",
       "      <td>256</td>\n",
       "      <td>313</td>\n",
       "      <td>194357</td>\n",
       "      <td>1.0</td>\n",
       "    </tr>\n",
       "    <tr>\n",
       "      <th>7291</th>\n",
       "      <td>/home/labuser/deeplearning/thesis/datasets/int...</td>\n",
       "      <td>cerber</td>\n",
       "      <td>256</td>\n",
       "      <td>350</td>\n",
       "      <td>199573</td>\n",
       "      <td>1.0</td>\n",
       "    </tr>\n",
       "    <tr>\n",
       "      <th>7292</th>\n",
       "      <td>/home/labuser/deeplearning/thesis/datasets/int...</td>\n",
       "      <td>cerber</td>\n",
       "      <td>512</td>\n",
       "      <td>435</td>\n",
       "      <td>248026</td>\n",
       "      <td>1.0</td>\n",
       "    </tr>\n",
       "    <tr>\n",
       "      <th>7293</th>\n",
       "      <td>/home/labuser/deeplearning/thesis/datasets/int...</td>\n",
       "      <td>cerber</td>\n",
       "      <td>384</td>\n",
       "      <td>364</td>\n",
       "      <td>226396</td>\n",
       "      <td>1.0</td>\n",
       "    </tr>\n",
       "  </tbody>\n",
       "</table>\n",
       "<p>6449 rows × 6 columns</p>\n",
       "</div>"
      ],
      "text/plain": [
       "                                                   path    label  imagesize_w  \\\n",
       "12    /home/labuser/deeplearning/thesis/datasets/int...  genasom          512   \n",
       "13    /home/labuser/deeplearning/thesis/datasets/int...  genasom          512   \n",
       "14    /home/labuser/deeplearning/thesis/datasets/int...  genasom         1024   \n",
       "15    /home/labuser/deeplearning/thesis/datasets/int...  genasom          512   \n",
       "16    /home/labuser/deeplearning/thesis/datasets/int...  genasom          512   \n",
       "...                                                 ...      ...          ...   \n",
       "7289  /home/labuser/deeplearning/thesis/datasets/int...   cerber          384   \n",
       "7290  /home/labuser/deeplearning/thesis/datasets/int...   cerber          256   \n",
       "7291  /home/labuser/deeplearning/thesis/datasets/int...   cerber          256   \n",
       "7292  /home/labuser/deeplearning/thesis/datasets/int...   cerber          512   \n",
       "7293  /home/labuser/deeplearning/thesis/datasets/int...   cerber          384   \n",
       "\n",
       "      imagesize_h  filesize  ratio  \n",
       "12            921   1110074    1.0  \n",
       "13            917   1061066    1.0  \n",
       "14           1592   4624646    1.0  \n",
       "15            939   1057168    1.0  \n",
       "16            923   1078239    1.0  \n",
       "...           ...       ...    ...  \n",
       "7289          270    231489    1.0  \n",
       "7290          313    194357    1.0  \n",
       "7291          350    199573    1.0  \n",
       "7292          435    248026    1.0  \n",
       "7293          364    226396    1.0  \n",
       "\n",
       "[6449 rows x 6 columns]"
      ]
     },
     "execution_count": 51,
     "metadata": {},
     "output_type": "execute_result"
    }
   ],
   "source": [
    "# Selection of Minimum of 50 samples per family #50 samples = 35 samples (80% train) 15 samples (20% validation) 5 samples (10% test)\n",
    "preselection.groupby('label').filter(lambda x: len(x) >= 50)"
   ]
  },
  {
   "cell_type": "markdown",
   "metadata": {},
   "source": [
    "We selected a minimum of 100 samples per class."
   ]
  },
  {
   "cell_type": "code",
   "execution_count": 161,
   "metadata": {},
   "outputs": [
    {
     "data": {
      "text/plain": [
       "6310"
      ]
     },
     "execution_count": 161,
     "metadata": {},
     "output_type": "execute_result"
    }
   ],
   "source": [
    "#total samples in dataset - 100 per class\n",
    "preselection = preselection.groupby('label').filter(lambda x: len(x) >= 100)\n",
    "preselection['path'].count()"
   ]
  },
  {
   "cell_type": "code",
   "execution_count": 53,
   "metadata": {},
   "outputs": [
    {
     "data": {
      "text/html": [
       "<div>\n",
       "<style scoped>\n",
       "    .dataframe tbody tr th:only-of-type {\n",
       "        vertical-align: middle;\n",
       "    }\n",
       "\n",
       "    .dataframe tbody tr th {\n",
       "        vertical-align: top;\n",
       "    }\n",
       "\n",
       "    .dataframe thead th {\n",
       "        text-align: right;\n",
       "    }\n",
       "</style>\n",
       "<table border=\"1\" class=\"dataframe\">\n",
       "  <thead>\n",
       "    <tr style=\"text-align: right;\">\n",
       "      <th></th>\n",
       "      <th>imagesize_w</th>\n",
       "      <th>imagesize_h</th>\n",
       "      <th>filesize</th>\n",
       "      <th>ratio</th>\n",
       "    </tr>\n",
       "  </thead>\n",
       "  <tbody>\n",
       "    <tr>\n",
       "      <th>count</th>\n",
       "      <td>6310.000000</td>\n",
       "      <td>6310.000000</td>\n",
       "      <td>6.310000e+03</td>\n",
       "      <td>6310.0</td>\n",
       "    </tr>\n",
       "    <tr>\n",
       "      <th>mean</th>\n",
       "      <td>348.358796</td>\n",
       "      <td>387.814422</td>\n",
       "      <td>3.451934e+05</td>\n",
       "      <td>1.0</td>\n",
       "    </tr>\n",
       "    <tr>\n",
       "      <th>std</th>\n",
       "      <td>137.910400</td>\n",
       "      <td>247.860900</td>\n",
       "      <td>5.585619e+05</td>\n",
       "      <td>0.0</td>\n",
       "    </tr>\n",
       "    <tr>\n",
       "      <th>min</th>\n",
       "      <td>128.000000</td>\n",
       "      <td>241.000000</td>\n",
       "      <td>2.136600e+04</td>\n",
       "      <td>1.0</td>\n",
       "    </tr>\n",
       "    <tr>\n",
       "      <th>25%</th>\n",
       "      <td>256.000000</td>\n",
       "      <td>303.000000</td>\n",
       "      <td>1.991542e+05</td>\n",
       "      <td>1.0</td>\n",
       "    </tr>\n",
       "    <tr>\n",
       "      <th>50%</th>\n",
       "      <td>384.000000</td>\n",
       "      <td>339.000000</td>\n",
       "      <td>2.516885e+05</td>\n",
       "      <td>1.0</td>\n",
       "    </tr>\n",
       "    <tr>\n",
       "      <th>75%</th>\n",
       "      <td>384.000000</td>\n",
       "      <td>395.000000</td>\n",
       "      <td>3.288070e+05</td>\n",
       "      <td>1.0</td>\n",
       "    </tr>\n",
       "    <tr>\n",
       "      <th>max</th>\n",
       "      <td>1024.000000</td>\n",
       "      <td>10049.000000</td>\n",
       "      <td>2.919445e+07</td>\n",
       "      <td>1.0</td>\n",
       "    </tr>\n",
       "  </tbody>\n",
       "</table>\n",
       "</div>"
      ],
      "text/plain": [
       "       imagesize_w   imagesize_h      filesize   ratio\n",
       "count  6310.000000   6310.000000  6.310000e+03  6310.0\n",
       "mean    348.358796    387.814422  3.451934e+05     1.0\n",
       "std     137.910400    247.860900  5.585619e+05     0.0\n",
       "min     128.000000    241.000000  2.136600e+04     1.0\n",
       "25%     256.000000    303.000000  1.991542e+05     1.0\n",
       "50%     384.000000    339.000000  2.516885e+05     1.0\n",
       "75%     384.000000    395.000000  3.288070e+05     1.0\n",
       "max    1024.000000  10049.000000  2.919445e+07     1.0"
      ]
     },
     "execution_count": 53,
     "metadata": {},
     "output_type": "execute_result"
    }
   ],
   "source": [
    "preselection.describe()"
   ]
  },
  {
   "cell_type": "code",
   "execution_count": 166,
   "metadata": {},
   "outputs": [
    {
     "data": {
      "image/png": "[encoded data removed]",
      "text/plain": [
       "<Figure size 720x360 with 1 Axes>"
      ]
     },
     "metadata": {
      "needs_background": "light"
     },
     "output_type": "display_data"
    }
   ],
   "source": [
    "#final plot Ransomware families + benign\n",
    "plt.figure(figsize=(10,5))\n",
    "chart = sns.countplot(x='label', data=preselection, order = preselection['label'].value_counts().index, palette='Set1')\n",
    "chart.set_title(\"Ransomware research dataset - Selected Ransomware families combined with benign samples\")\n",
    "chart.set_xticklabels(chart.get_xticklabels(),rotation=45,horizontalalignment='right')\n",
    "plt.xlabel('Familiy name')\n",
    "plt.ylabel('Number of samples')\n",
    "plt.tight_layout()\n",
    "plt.savefig('Ransomware_Researchset_final.png')\n",
    "plt.show()\n"
   ]
  },
  {
   "cell_type": "code",
   "execution_count": 167,
   "metadata": {},
   "outputs": [
    {
     "data": {
      "text/plain": [
       "29.528846153846153"
      ]
     },
     "execution_count": 167,
     "metadata": {},
     "output_type": "execute_result"
    }
   ],
   "source": [
    "preselection['label'].value_counts()\n",
    "#Ratio smalles vs largest\n",
    "3071/104"
   ]
  },
  {
   "cell_type": "markdown",
   "metadata": {},
   "source": [
    "# Part 5 - Training and Test split - 10% hold-out"
   ]
  },
  {
   "cell_type": "markdown",
   "metadata": {},
   "source": [
    "Using the 10% hold-out method for testing the tained models https://medium.com/@eijaz/holdout-vs-cross-validation-in-machine-learning-7637112d3f8f"
   ]
  },
  {
   "cell_type": "markdown",
   "metadata": {},
   "source": [
    "### TODO wich scripts are used? for the test training split?"
   ]
  },
  {
   "cell_type": "code",
   "execution_count": 170,
   "metadata": {},
   "outputs": [],
   "source": [
    "ransomware_train = pd.read_pickle('/home/labuser/deeplearning/thesis/datamanagement/dataman/trainset.pkl')"
   ]
  },
  {
   "cell_type": "code",
   "execution_count": 171,
   "metadata": {},
   "outputs": [
    {
     "data": {
      "text/html": [
       "<div>\n",
       "<style scoped>\n",
       "    .dataframe tbody tr th:only-of-type {\n",
       "        vertical-align: middle;\n",
       "    }\n",
       "\n",
       "    .dataframe tbody tr th {\n",
       "        vertical-align: top;\n",
       "    }\n",
       "\n",
       "    .dataframe thead th {\n",
       "        text-align: right;\n",
       "    }\n",
       "</style>\n",
       "<table border=\"1\" class=\"dataframe\">\n",
       "  <thead>\n",
       "    <tr style=\"text-align: right;\">\n",
       "      <th></th>\n",
       "      <th>imagesize_w</th>\n",
       "      <th>imagesize_h</th>\n",
       "      <th>filesize</th>\n",
       "    </tr>\n",
       "  </thead>\n",
       "  <tbody>\n",
       "    <tr>\n",
       "      <th>count</th>\n",
       "      <td>5679.000000</td>\n",
       "      <td>5679.000000</td>\n",
       "      <td>5.679000e+03</td>\n",
       "    </tr>\n",
       "    <tr>\n",
       "      <th>mean</th>\n",
       "      <td>348.771263</td>\n",
       "      <td>388.552386</td>\n",
       "      <td>3.462106e+05</td>\n",
       "    </tr>\n",
       "    <tr>\n",
       "      <th>std</th>\n",
       "      <td>137.989344</td>\n",
       "      <td>255.396522</td>\n",
       "      <td>5.743219e+05</td>\n",
       "    </tr>\n",
       "    <tr>\n",
       "      <th>min</th>\n",
       "      <td>128.000000</td>\n",
       "      <td>241.000000</td>\n",
       "      <td>2.136600e+04</td>\n",
       "    </tr>\n",
       "    <tr>\n",
       "      <th>25%</th>\n",
       "      <td>256.000000</td>\n",
       "      <td>303.000000</td>\n",
       "      <td>1.995515e+05</td>\n",
       "    </tr>\n",
       "    <tr>\n",
       "      <th>50%</th>\n",
       "      <td>384.000000</td>\n",
       "      <td>340.000000</td>\n",
       "      <td>2.533420e+05</td>\n",
       "    </tr>\n",
       "    <tr>\n",
       "      <th>75%</th>\n",
       "      <td>384.000000</td>\n",
       "      <td>395.000000</td>\n",
       "      <td>3.302450e+05</td>\n",
       "    </tr>\n",
       "    <tr>\n",
       "      <th>max</th>\n",
       "      <td>1024.000000</td>\n",
       "      <td>10049.000000</td>\n",
       "      <td>2.919445e+07</td>\n",
       "    </tr>\n",
       "  </tbody>\n",
       "</table>\n",
       "</div>"
      ],
      "text/plain": [
       "       imagesize_w   imagesize_h      filesize\n",
       "count  5679.000000   5679.000000  5.679000e+03\n",
       "mean    348.771263    388.552386  3.462106e+05\n",
       "std     137.989344    255.396522  5.743219e+05\n",
       "min     128.000000    241.000000  2.136600e+04\n",
       "25%     256.000000    303.000000  1.995515e+05\n",
       "50%     384.000000    340.000000  2.533420e+05\n",
       "75%     384.000000    395.000000  3.302450e+05\n",
       "max    1024.000000  10049.000000  2.919445e+07"
      ]
     },
     "execution_count": 171,
     "metadata": {},
     "output_type": "execute_result"
    }
   ],
   "source": [
    "ransomware_train.describe()"
   ]
  },
  {
   "cell_type": "code",
   "execution_count": 172,
   "metadata": {},
   "outputs": [
    {
     "data": {
      "image/png": "[encoded data removed]",
      "text/plain": [
       "<Figure size 432x288 with 1 Axes>"
      ]
     },
     "metadata": {
      "needs_background": "light"
     },
     "output_type": "display_data"
    }
   ],
   "source": [
    "#final plot Ransomware families + benign - Train\n",
    "chart = sns.countplot(x='label', data=ransomware_train, order = ransomware_train['label'].value_counts().index, palette='Set1')\n",
    "chart.set_title(\"Ransomware Research Dataset - Trainingset Ransomware families combined with benign samples\")\n",
    "chart.set_xticklabels(chart.get_xticklabels(),rotation=45,horizontalalignment='right')\n",
    "plt.xlabel('Familiy name')\n",
    "plt.ylabel('Number of samples')\n",
    "plt.tight_layout()\n",
    "plt.savefig('train_selected_ransomware_in_VTdataset.png')\n",
    "plt.show()"
   ]
  },
  {
   "cell_type": "code",
   "execution_count": 173,
   "metadata": {},
   "outputs": [],
   "source": [
    "ransomware_test = pd.read_pickle('/home/labuser/deeplearning/thesis/datamanagement/dataman/testset.pkl')"
   ]
  },
  {
   "cell_type": "code",
   "execution_count": 174,
   "metadata": {},
   "outputs": [
    {
     "data": {
      "image/png": "[encoded data removed]",
      "text/plain": [
       "<Figure size 432x288 with 1 Axes>"
      ]
     },
     "metadata": {
      "needs_background": "light"
     },
     "output_type": "display_data"
    }
   ],
   "source": [
    "#final plot Ransomware families + benign - Test\n",
    "chart = sns.countplot(x='label', data=ransomware_test, order = ransomware_test['label'].value_counts().index, palette='Set1')\n",
    "chart.set_title(\"Ransomware research dataset -  Tesset Ransomware families combined with benign samples\")\n",
    "chart.set_xticklabels(chart.get_xticklabels(),rotation=45,horizontalalignment='right')\n",
    "plt.xlabel('Familiy name')\n",
    "plt.ylabel('Number of samples')\n",
    "plt.tight_layout()\n",
    "plt.savefig('test_selected_ransomware_in_VTdataset.png')\n",
    "plt.show()"
   ]
  },
  {
   "cell_type": "code",
   "execution_count": null,
   "metadata": {},
   "outputs": [],
   "source": []
  }
 ],
 "metadata": {
  "kernelspec": {
   "display_name": "Python 3",
   "language": "python",
   "name": "python3"
  },
  "language_info": {
   "codemirror_mode": {
    "name": "ipython",
    "version": 3
   },
   "file_extension": ".py",
   "mimetype": "text/x-python",
   "name": "python",
   "nbconvert_exporter": "python",
   "pygments_lexer": "ipython3",
   "version": "3.6.9"
  }
 },
 "nbformat": 4,
 "nbformat_minor": 4
}
