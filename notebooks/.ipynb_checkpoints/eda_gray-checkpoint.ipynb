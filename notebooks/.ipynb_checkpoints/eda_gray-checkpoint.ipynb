{
 "cells": [
  {
   "cell_type": "markdown",
   "metadata": {},
   "source": [
    "# EDA on VT dataset - grayscale\n",
    "19-08-2020 Dit notebook beschrijft de stappen die zijn genomenom de data geschikt te maken voor classificatie mbv een CNN https://www.drawingfromdata.com/setting-figure-size-using-seaborn-and-matplotlib\n",
    "\n",
    "masterdata location: /home/labuser/deeplearning/thesis/datasets/masterdata \\\n",
    "Onderzoeken:\n",
    "https://towardsdatascience.com/boost-your-cnn-image-classifier-performance-with-progressive-resizing-in-keras-a7d96da06e20\n"
   ]
  },
  {
   "cell_type": "code",
   "execution_count": 1,
   "metadata": {},
   "outputs": [],
   "source": [
    "import pandas as pd\n",
    "\n",
    "import seaborn as sns\n",
    "\n",
    "import os\n",
    "\n",
    "from matplotlib import pyplot as plt\n",
    "\n",
    "%matplotlib inline\n",
    "\n",
    "import numpy as np\n",
    "\n",
    "# fuzz is used to compare TWO strings https://towardsdatascience.com/how-to-do-fuzzy-matching-in-python-pandas-dataframe-6ce3025834a6\n",
    "from fuzzywuzzy import fuzz\n",
    "\n",
    "# process is used to compare a string to MULTIPLE other strings\n",
    "from fuzzywuzzy import process"
   ]
  },
  {
   "cell_type": "markdown",
   "metadata": {},
   "source": [
    "# Part 1 - Parsing and preprocessing "
   ]
  },
  {
   "cell_type": "code",
   "execution_count": 2,
   "metadata": {},
   "outputs": [],
   "source": [
    "# Raw data from masterdataset\n",
    "df = pd.read_pickle('/home/labuser/deeplearning/thesis/datamanagement/dataman/parsed.pkl')"
   ]
  },
  {
   "cell_type": "code",
   "execution_count": 3,
   "metadata": {},
   "outputs": [
    {
     "data": {
      "text/plain": [
       "path    347307\n",
       "dtype: int64"
      ]
     },
     "execution_count": 3,
     "metadata": {},
     "output_type": "execute_result"
    }
   ],
   "source": [
    "# total samples recieved from VT = 347307\n",
    "df.count()"
   ]
  },
  {
   "cell_type": "code",
   "execution_count": 4,
   "metadata": {},
   "outputs": [
    {
     "data": {
      "text/html": [
       "<div>\n",
       "<style scoped>\n",
       "    .dataframe tbody tr th:only-of-type {\n",
       "        vertical-align: middle;\n",
       "    }\n",
       "\n",
       "    .dataframe tbody tr th {\n",
       "        vertical-align: top;\n",
       "    }\n",
       "\n",
       "    .dataframe thead th {\n",
       "        text-align: right;\n",
       "    }\n",
       "</style>\n",
       "<table border=\"1\" class=\"dataframe\">\n",
       "  <thead>\n",
       "    <tr style=\"text-align: right;\">\n",
       "      <th></th>\n",
       "      <th>path</th>\n",
       "    </tr>\n",
       "  </thead>\n",
       "  <tbody>\n",
       "    <tr>\n",
       "      <th>0</th>\n",
       "      <td>/home/labuser/deeplearning/thesis/datasets/mas...</td>\n",
       "    </tr>\n",
       "    <tr>\n",
       "      <th>1</th>\n",
       "      <td>/home/labuser/deeplearning/thesis/datasets/mas...</td>\n",
       "    </tr>\n",
       "    <tr>\n",
       "      <th>2</th>\n",
       "      <td>/home/labuser/deeplearning/thesis/datasets/mas...</td>\n",
       "    </tr>\n",
       "    <tr>\n",
       "      <th>3</th>\n",
       "      <td>/home/labuser/deeplearning/thesis/datasets/mas...</td>\n",
       "    </tr>\n",
       "    <tr>\n",
       "      <th>4</th>\n",
       "      <td>/home/labuser/deeplearning/thesis/datasets/mas...</td>\n",
       "    </tr>\n",
       "    <tr>\n",
       "      <th>...</th>\n",
       "      <td>...</td>\n",
       "    </tr>\n",
       "    <tr>\n",
       "      <th>347302</th>\n",
       "      <td>/home/labuser/deeplearning/thesis/datasets/mas...</td>\n",
       "    </tr>\n",
       "    <tr>\n",
       "      <th>347303</th>\n",
       "      <td>/home/labuser/deeplearning/thesis/datasets/mas...</td>\n",
       "    </tr>\n",
       "    <tr>\n",
       "      <th>347304</th>\n",
       "      <td>/home/labuser/deeplearning/thesis/datasets/mas...</td>\n",
       "    </tr>\n",
       "    <tr>\n",
       "      <th>347305</th>\n",
       "      <td>/home/labuser/deeplearning/thesis/datasets/mas...</td>\n",
       "    </tr>\n",
       "    <tr>\n",
       "      <th>347306</th>\n",
       "      <td>/home/labuser/deeplearning/thesis/datasets/mas...</td>\n",
       "    </tr>\n",
       "  </tbody>\n",
       "</table>\n",
       "<p>347307 rows × 1 columns</p>\n",
       "</div>"
      ],
      "text/plain": [
       "                                                     path\n",
       "0       /home/labuser/deeplearning/thesis/datasets/mas...\n",
       "1       /home/labuser/deeplearning/thesis/datasets/mas...\n",
       "2       /home/labuser/deeplearning/thesis/datasets/mas...\n",
       "3       /home/labuser/deeplearning/thesis/datasets/mas...\n",
       "4       /home/labuser/deeplearning/thesis/datasets/mas...\n",
       "...                                                   ...\n",
       "347302  /home/labuser/deeplearning/thesis/datasets/mas...\n",
       "347303  /home/labuser/deeplearning/thesis/datasets/mas...\n",
       "347304  /home/labuser/deeplearning/thesis/datasets/mas...\n",
       "347305  /home/labuser/deeplearning/thesis/datasets/mas...\n",
       "347306  /home/labuser/deeplearning/thesis/datasets/mas...\n",
       "\n",
       "[347307 rows x 1 columns]"
      ]
     },
     "execution_count": 4,
     "metadata": {},
     "output_type": "execute_result"
    }
   ],
   "source": [
    "df"
   ]
  },
  {
   "cell_type": "markdown",
   "metadata": {},
   "source": [
    "## Pre-processed data \n",
    "We selected samples that where detected by the Microsoft scanner as ground truth - 282650\\\n",
    "Fixed typos in labels\n",
    "'grandcrab', 'gandcrab'\n",
    "'firecerb', 'cerber'\n",
    "'critroni','critoni'\n"
   ]
  },
  {
   "cell_type": "code",
   "execution_count": 5,
   "metadata": {},
   "outputs": [
    {
     "data": {
      "text/plain": [
       "0         /home/labuser/deeplearning/thesis/datasets/mas...\n",
       "1         /home/labuser/deeplearning/thesis/datasets/mas...\n",
       "2         /home/labuser/deeplearning/thesis/datasets/mas...\n",
       "3         /home/labuser/deeplearning/thesis/datasets/mas...\n",
       "4         /home/labuser/deeplearning/thesis/datasets/mas...\n",
       "                                ...                        \n",
       "347302    /home/labuser/deeplearning/thesis/datasets/mas...\n",
       "347303    /home/labuser/deeplearning/thesis/datasets/mas...\n",
       "347304    /home/labuser/deeplearning/thesis/datasets/mas...\n",
       "347305    /home/labuser/deeplearning/thesis/datasets/mas...\n",
       "347306    /home/labuser/deeplearning/thesis/datasets/mas...\n",
       "Name: path, Length: 347307, dtype: object"
      ]
     },
     "execution_count": 5,
     "metadata": {},
     "output_type": "execute_result"
    }
   ],
   "source": [
    "df['path']"
   ]
  },
  {
   "cell_type": "code",
   "execution_count": 6,
   "metadata": {},
   "outputs": [],
   "source": [
    "df = pd.read_pickle('/home/labuser/deeplearning/thesis/datamanagement/dataman/preprocessed.pkl')"
   ]
  },
  {
   "cell_type": "code",
   "execution_count": 7,
   "metadata": {},
   "outputs": [
    {
     "data": {
      "text/plain": [
       "0         Microsoft\n",
       "1         Microsoft\n",
       "2         Microsoft\n",
       "3         Microsoft\n",
       "4         Microsoft\n",
       "            ...    \n",
       "282645    Microsoft\n",
       "282646    Microsoft\n",
       "282647    Microsoft\n",
       "282648    Microsoft\n",
       "282649    Microsoft\n",
       "Name: scanner, Length: 282650, dtype: object"
      ]
     },
     "execution_count": 7,
     "metadata": {},
     "output_type": "execute_result"
    }
   ],
   "source": [
    "df['scanner']"
   ]
  },
  {
   "cell_type": "code",
   "execution_count": 8,
   "metadata": {},
   "outputs": [
    {
     "data": {
      "text/plain": [
       "0                         worm:win32/agent\n",
       "1          trojandownloader:win32/upatre.a\n",
       "2                      worm:win32/mira!rfn\n",
       "3                trojan:win32/wacatac.b!ml\n",
       "4                         worm:win32/agent\n",
       "                        ...               \n",
       "282645               trojan:win32/occamy.c\n",
       "282646             pua:win32/downloadguide\n",
       "282647                virus:win32/neshta.a\n",
       "282648          trojan:win32/fuerboos.e!cl\n",
       "282649    trojandropper:win32/miniduke!rfn\n",
       "Name: result, Length: 282650, dtype: object"
      ]
     },
     "execution_count": 8,
     "metadata": {},
     "output_type": "execute_result"
    }
   ],
   "source": [
    "df.result"
   ]
  },
  {
   "cell_type": "markdown",
   "metadata": {},
   "source": [
    "### Check for data entry errors - "
   ]
  },
  {
   "cell_type": "code",
   "execution_count": 9,
   "metadata": {},
   "outputs": [
    {
     "data": {
      "text/plain": [
       "['adware:win32/addlyrics',\n",
       " 'adware:win32/adpeak',\n",
       " 'adware:win32/adposhel',\n",
       " 'adware:win32/adposhel.a',\n",
       " 'adware:win32/adposhel.s!mtb',\n",
       " 'adware:win32/adrotator',\n",
       " 'adware:win32/bettersurf',\n",
       " 'adware:win32/clariagain',\n",
       " 'adware:win32/clickpotato',\n",
       " 'adware:win32/eorezo',\n",
       " 'adware:win32/hebogo',\n",
       " 'adware:win32/hotbar',\n",
       " 'adware:win32/kuaiba.a',\n",
       " 'adware:win32/lollipop',\n",
       " 'adware:win32/newdotnet',\n",
       " 'adware:win32/oxypump.a',\n",
       " 'adware:win32/oxypumper.sb',\n",
       " 'adware:win32/qjwmonkey.a!msr',\n",
       " 'adware:win32/ubar',\n",
       " 'adware:win32/webcake']"
      ]
     },
     "execution_count": 9,
     "metadata": {},
     "output_type": "execute_result"
    }
   ],
   "source": [
    "unique_label = df.result.unique().tolist()\n",
    "sorted(unique_label)[:20]"
   ]
  },
  {
   "cell_type": "code",
   "execution_count": 10,
   "metadata": {},
   "outputs": [],
   "source": [
    "#Create tuples of label names, matched label names, and the score\n",
    "score_sort = [(x,) + i\n",
    "             for x in unique_label \n",
    "             for i in process.extract(x, unique_label, scorer=fuzz.token_sort_ratio)]"
   ]
  },
  {
   "cell_type": "code",
   "execution_count": 11,
   "metadata": {},
   "outputs": [
    {
     "data": {
      "text/html": [
       "<div>\n",
       "<style scoped>\n",
       "    .dataframe tbody tr th:only-of-type {\n",
       "        vertical-align: middle;\n",
       "    }\n",
       "\n",
       "    .dataframe tbody tr th {\n",
       "        vertical-align: top;\n",
       "    }\n",
       "\n",
       "    .dataframe thead th {\n",
       "        text-align: right;\n",
       "    }\n",
       "</style>\n",
       "<table border=\"1\" class=\"dataframe\">\n",
       "  <thead>\n",
       "    <tr style=\"text-align: right;\">\n",
       "      <th></th>\n",
       "      <th>label_sort</th>\n",
       "      <th>match_sort</th>\n",
       "      <th>score_sort</th>\n",
       "    </tr>\n",
       "  </thead>\n",
       "  <tbody>\n",
       "    <tr>\n",
       "      <th>0</th>\n",
       "      <td>worm:win32/agent</td>\n",
       "      <td>worm:win32/agent</td>\n",
       "      <td>100</td>\n",
       "    </tr>\n",
       "    <tr>\n",
       "      <th>1</th>\n",
       "      <td>worm:win32/agent</td>\n",
       "      <td>worm:win32/bagle</td>\n",
       "      <td>88</td>\n",
       "    </tr>\n",
       "    <tr>\n",
       "      <th>2</th>\n",
       "      <td>worm:win32/agent</td>\n",
       "      <td>worm:win32/agentp!rfn</td>\n",
       "      <td>86</td>\n",
       "    </tr>\n",
       "    <tr>\n",
       "      <th>3</th>\n",
       "      <td>worm:win32/agent</td>\n",
       "      <td>worm:win32/gate.a</td>\n",
       "      <td>85</td>\n",
       "    </tr>\n",
       "    <tr>\n",
       "      <th>4</th>\n",
       "      <td>worm:win32/agent</td>\n",
       "      <td>worm:win32/ainslot</td>\n",
       "      <td>82</td>\n",
       "    </tr>\n",
       "  </tbody>\n",
       "</table>\n",
       "</div>"
      ],
      "text/plain": [
       "         label_sort             match_sort  score_sort\n",
       "0  worm:win32/agent       worm:win32/agent         100\n",
       "1  worm:win32/agent       worm:win32/bagle          88\n",
       "2  worm:win32/agent  worm:win32/agentp!rfn          86\n",
       "3  worm:win32/agent      worm:win32/gate.a          85\n",
       "4  worm:win32/agent     worm:win32/ainslot          82"
      ]
     },
     "execution_count": 11,
     "metadata": {},
     "output_type": "execute_result"
    }
   ],
   "source": [
    "similarity_sort = pd.DataFrame(score_sort, columns=['label_sort','match_sort','score_sort'])\n",
    "similarity_sort.head()"
   ]
  },
  {
   "cell_type": "code",
   "execution_count": 12,
   "metadata": {},
   "outputs": [],
   "source": [
    "#removed duplicates\n",
    "df = pd.read_pickle('/home/labuser/deeplearning/thesis/datamanagement/dataman/preprocessed_1.pkl')"
   ]
  },
  {
   "cell_type": "code",
   "execution_count": 13,
   "metadata": {},
   "outputs": [
    {
     "data": {
      "text/plain": [
       "192282"
      ]
     },
     "execution_count": 13,
     "metadata": {},
     "output_type": "execute_result"
    }
   ],
   "source": [
    "df['filehash'].count()"
   ]
  },
  {
   "cell_type": "code",
   "execution_count": 16,
   "metadata": {},
   "outputs": [
    {
     "data": {
      "text/plain": [
       "label                    result                     \n",
       "adware:win32/adposhel    adware:win32/adposhel          312\n",
       "                         adware:win32/adposhel.a         20\n",
       "                         adware:win32/adposhel.s!mtb      5\n",
       "adware:win32/adrotator   adware:win32/adrotator           1\n",
       "adware:win32/bettersurf  adware:win32/bettersurf          4\n",
       "                                                       ... \n",
       "worm:win32/ypaul         worm:win32/ypaul                 1\n",
       "worm:win32/yuner         worm:win32/yuner.a              66\n",
       "                         worm:win32/yuner!rfn             1\n",
       "worm:win64/boychi        worm:win64/boychi.a!sys          1\n",
       "worm:winnt/lurka         worm:winnt/lurka.a               3\n",
       "Name: result, Length: 3255, dtype: int64"
      ]
     },
     "execution_count": 16,
     "metadata": {},
     "output_type": "execute_result"
    }
   ],
   "source": [
    "df['result'].groupby(df['label']).value_counts()"
   ]
  },
  {
   "cell_type": "code",
   "execution_count": 17,
   "metadata": {},
   "outputs": [],
   "source": [
    "#split label in type and variant\n",
    "df[['type','variant']] = df.label.str.split(\"/\",expand=True,)"
   ]
  },
  {
   "cell_type": "code",
   "execution_count": 18,
   "metadata": {},
   "outputs": [
    {
     "data": {
      "text/plain": [
       "virus:win32               54344\n",
       "trojan:win32              44551\n",
       "worm:win32                21353\n",
       "trojandropper:win32       14915\n",
       "backdoor:win32            11446\n",
       "trojandownloader:win32    10259\n",
       "ransom:win32               7446\n",
       "pua:win32                  6221\n",
       "softwarebundler:win32      5288\n",
       "backdoor:msil              4151\n",
       "Name: type, dtype: int64"
      ]
     },
     "execution_count": 18,
     "metadata": {},
     "output_type": "execute_result"
    }
   ],
   "source": [
    "df['type'].value_counts().head(10)"
   ]
  },
  {
   "cell_type": "markdown",
   "metadata": {},
   "source": [
    "### Malware in dataset"
   ]
  },
  {
   "cell_type": "markdown",
   "metadata": {},
   "source": [
    "Show malware types in our dataset"
   ]
  },
  {
   "cell_type": "code",
   "execution_count": 19,
   "metadata": {},
   "outputs": [
    {
     "data": {
      "image/png": "[encoded data removed]",
      "text/plain": [
       "<Figure size 720x360 with 1 Axes>"
      ]
     },
     "metadata": {
      "needs_background": "light"
     },
     "output_type": "display_data"
    }
   ],
   "source": [
    "#Frequency plot \n",
    "plt.figure(figsize=(10,5))\n",
    "chart = sns.countplot(x='type', data=df, order = df['type'].value_counts().head(10).index, palette='Set1')\n",
    "chart.set_title(\"Ransomware research dataset - Top 10 malware types\")\n",
    "chart.set_xticklabels(chart.get_xticklabels(),rotation=45,horizontalalignment='right')\n",
    "#plt.savefig('Malware_in_VTdataset.png')\n",
    "plt.show()\n"
   ]
  },
  {
   "cell_type": "code",
   "execution_count": 20,
   "metadata": {},
   "outputs": [
    {
     "data": {
      "text/plain": [
       "virus:win32/nabucur              26275\n",
       "trojandropper:win32/gepys         7584\n",
       "trojandownloader:win32/upatre     7488\n",
       "trojan:win32/wacatac              6186\n",
       "virus:win32/hematite              5385\n",
       "                                 ...  \n",
       "pua:win32/competeinstaller           1\n",
       "worm:win32/mevon                     1\n",
       "pua:win32/casinoonline               1\n",
       "trojandownloader:msil/kivat          1\n",
       "backdoor:win32/padmer                1\n",
       "Name: label, Length: 1803, dtype: int64"
      ]
     },
     "execution_count": 20,
     "metadata": {},
     "output_type": "execute_result"
    }
   ],
   "source": [
    "df['label'].value_counts()"
   ]
  },
  {
   "cell_type": "code",
   "execution_count": 21,
   "metadata": {},
   "outputs": [],
   "source": [
    "dfa = pd.read_pickle('/home/labuser/deeplearning/thesis/datamanagement/dataman/preprocessed_1.pkl') #192.282\n",
    "# Added FIX Remove not found samples poor data quality\n"
   ]
  },
  {
   "cell_type": "code",
   "execution_count": 22,
   "metadata": {},
   "outputs": [
    {
     "name": "stdout",
     "output_type": "stream",
     "text": [
      "After clean up 174830 samples left\n"
     ]
    }
   ],
   "source": [
    "df = pd.read_pickle('/home/labuser/deeplearning/thesis/datamanagement/dataman/preprocessed_2.pkl') \n",
    "print(\"After clean up {0} samples left\".format(df.filehash.count()))"
   ]
  },
  {
   "cell_type": "markdown",
   "metadata": {},
   "source": [
    "# PART 2 - Select Ransomware samples"
   ]
  },
  {
   "cell_type": "code",
   "execution_count": 23,
   "metadata": {},
   "outputs": [],
   "source": [
    "df = pd.read_pickle('/home/labuser/deeplearning/thesis/datamanagement/dataman/preprocessed_2.pkl') \n"
   ]
  },
  {
   "cell_type": "code",
   "execution_count": 31,
   "metadata": {},
   "outputs": [],
   "source": [
    "# Select only ransomware samples - 7266\n",
    "ransomware = df[df[\"result\"].str.contains(\"Ransom:Win32\",case=False,regex=False)]\n"
   ]
  },
  {
   "cell_type": "code",
   "execution_count": 33,
   "metadata": {
    "scrolled": true
   },
   "outputs": [],
   "source": [
    "#Sanity check duplicate filehashes need to be removed should be zero!!\n",
    "assert ransomware['filehash'][ransomware.duplicated('filehash')].count() == 0"
   ]
  },
  {
   "cell_type": "markdown",
   "metadata": {},
   "source": [
    "## 2.1 - Unique ransomware families in dataset"
   ]
  },
  {
   "cell_type": "code",
   "execution_count": 26,
   "metadata": {},
   "outputs": [],
   "source": [
    "# else remove duplicates filehashes\n",
    "#ransomware.drop_duplicates(subset =\"filehash\",keep = False, inplace = True) "
   ]
  },
  {
   "cell_type": "code",
   "execution_count": 34,
   "metadata": {},
   "outputs": [
    {
     "data": {
      "text/plain": [
       "array(['ransom:win32/tescrypt', 'ransom:win32/gandcrab',\n",
       "       'ransom:win32/locky', 'ransom:win32/crowti',\n",
       "       'ransom:win32/wannacrypt', 'ransom:win32/milicry',\n",
       "       'ransom:win32/teerac', 'ransom:win32/sagecrypt',\n",
       "       'ransom:win32/cerber', 'ransom:win32/genasom',\n",
       "       'ransom:win32/dotranos', 'ransom:win32/molock',\n",
       "       'ransom:win32/wyhymyz', 'ransom:win32/enestaller',\n",
       "       'ransom:win32/dharma', 'ransom:win32/cryakl',\n",
       "       'ransom:win32/troldesh', 'ransom:win32/rantest',\n",
       "       'ransom:win32/haperlock', 'ransom:win32/tovicrypt',\n",
       "       'ransom:win32/petya', 'ransom:win32/spora',\n",
       "       'ransom:win32/enestedel', 'ransom:win32/filecryptor',\n",
       "       'ransom:win32/sodinokibi', 'ransom:win32/dmalocker',\n",
       "       'ransom:win32/tobfy', 'ransom:win32/somhoveran',\n",
       "       'ransom:win32/higuniel', 'ransom:win32/wadhrama',\n",
       "       'ransom:win32/rackcrypt', 'ransom:win32/crysis',\n",
       "       'ransom:win32/jaffrans', 'ransom:win32/cryptomole',\n",
       "       'ransom:win32/nemreq', 'ransom:win32/bosloki',\n",
       "       'ransom:win32/pottieq', 'ransom:win32/stampado',\n",
       "       'ransom:win32/cryak', 'ransom:win32/shade',\n",
       "       'ransom:win32/hydracrypt', 'ransom:win32/dircrypt',\n",
       "       'ransom:win32/bucbi', 'ransom:win32/natasa', 'ransom:win32/ergop',\n",
       "       'ransom:win32/weenloc', 'ransom:win32/loktrom',\n",
       "       'ransom:win32/urausy', 'ransom:win32/bisquitache',\n",
       "       'ransom:win32/nasan', 'ransom:win32/cryptolempiz',\n",
       "       'ransom:win32/kisucrypt', 'ransom:win32/critoni'], dtype=object)"
      ]
     },
     "execution_count": 34,
     "metadata": {},
     "output_type": "execute_result"
    }
   ],
   "source": [
    "ransomware['label'].unique()"
   ]
  },
  {
   "cell_type": "code",
   "execution_count": 36,
   "metadata": {},
   "outputs": [
    {
     "name": "stdout",
     "output_type": "stream",
     "text": [
      "There are 53 families present in the dataset\n"
     ]
    }
   ],
   "source": [
    "a = ransomware['label'].unique() #should contain 53 ransomware families!!\n",
    "print('There are {0} families present in the dataset'.format(str(len(a))))"
   ]
  },
  {
   "cell_type": "code",
   "execution_count": 37,
   "metadata": {},
   "outputs": [
    {
     "data": {
      "text/plain": [
       "<pandas.core.groupby.generic.SeriesGroupBy object at 0x7fc606341780>"
      ]
     },
     "execution_count": 37,
     "metadata": {},
     "output_type": "execute_result"
    }
   ],
   "source": [
    "ransomware['label'].groupby(ransomware['filesizeKB'])"
   ]
  },
  {
   "cell_type": "code",
   "execution_count": 40,
   "metadata": {},
   "outputs": [
    {
     "name": "stdout",
     "output_type": "stream",
     "text": [
      "There are 6190 samples in the top 10 based on sample count\n"
     ]
    }
   ],
   "source": [
    "#Sanity check should have  6190 ransomware samples in top 10\n",
    "print('There are {0} samples in the top 10 based on sample count'.format(sum(ransomware['label'].value_counts().sort_values(ascending=False).head(10))))\n"
   ]
  },
  {
   "cell_type": "code",
   "execution_count": 41,
   "metadata": {},
   "outputs": [
    {
     "data": {
      "image/png": "[encoded data removed]",
      "text/plain": [
       "<Figure size 432x288 with 1 Axes>"
      ]
     },
     "metadata": {
      "needs_background": "light"
     },
     "output_type": "display_data"
    }
   ],
   "source": [
    "#final freqnuency plot top 10 Ransomware families - log scale\n",
    "chart = sns.countplot(x='label', data=ransomware, order = ransomware['label'].value_counts().index, palette='Set1')\n",
    "chart.set_title(\"Ransomware research dataset - Ransomware families\")\n",
    "chart.set_xticklabels(chart.get_xticklabels(),rotation=45,horizontalalignment='right')\n",
    "chart.set(yscale=\"log\")\n",
    "plt.show()"
   ]
  },
  {
   "cell_type": "markdown",
   "metadata": {},
   "source": [
    "# Part 3 -  Processing - binary2image - grayscale\n",
    "Eerst binary2image script uitvoeren op de /home/labuser/deeplearning/thesis/dataset/interim folder\n",
    "vervolgens imagesize.py uitvoeren\n"
   ]
  },
  {
   "cell_type": "code",
   "execution_count": 43,
   "metadata": {},
   "outputs": [],
   "source": [
    "# /home/labuser/deeplearning/thesis/solutions/binary-to-image/python3 binary2image.py\n",
    "# /home/labuser/deeplearning/thesis/datamanagement/dataman/python3 imagesize.py\n",
    "# add benign data"
   ]
  },
  {
   "cell_type": "code",
   "execution_count": 44,
   "metadata": {},
   "outputs": [
    {
     "data": {
      "text/plain": [
       "7326"
      ]
     },
     "execution_count": 44,
     "metadata": {},
     "output_type": "execute_result"
    }
   ],
   "source": [
    "ransomware = pd.read_pickle('/home/labuser/deeplearning/thesis/datamanagement/dataman/images_size_grayscale.pkl')\n",
    "ransomware['path'].count()"
   ]
  },
  {
   "cell_type": "markdown",
   "metadata": {},
   "source": [
    "# Part 4 - Select images "
   ]
  },
  {
   "cell_type": "markdown",
   "metadata": {},
   "source": [
    "Select images based on size to get maximum features for the CNN and optimum number of samples by family \\\n",
    "\n",
    "TODO: Progressive scalling 2nx2n \n",
    "https://towardsdatascience.com/boost-your-cnn-image-classifier-performance-with-progressive-resizing-in-keras-a7d96da06e20"
   ]
  },
  {
   "cell_type": "code",
   "execution_count": 45,
   "metadata": {},
   "outputs": [],
   "source": [
    "ransomware = pd.read_pickle('/home/labuser/deeplearning/thesis/datamanagement/dataman/images_size_grayscale.pkl')"
   ]
  },
  {
   "cell_type": "code",
   "execution_count": 46,
   "metadata": {},
   "outputs": [
    {
     "data": {
      "text/html": [
       "<div>\n",
       "<style scoped>\n",
       "    .dataframe tbody tr th:only-of-type {\n",
       "        vertical-align: middle;\n",
       "    }\n",
       "\n",
       "    .dataframe tbody tr th {\n",
       "        vertical-align: top;\n",
       "    }\n",
       "\n",
       "    .dataframe thead th {\n",
       "        text-align: right;\n",
       "    }\n",
       "</style>\n",
       "<table border=\"1\" class=\"dataframe\">\n",
       "  <thead>\n",
       "    <tr style=\"text-align: right;\">\n",
       "      <th></th>\n",
       "      <th>path</th>\n",
       "      <th>label</th>\n",
       "      <th>imagesize_w</th>\n",
       "      <th>imagesize_h</th>\n",
       "      <th>filesize</th>\n",
       "    </tr>\n",
       "  </thead>\n",
       "  <tbody>\n",
       "  </tbody>\n",
       "</table>\n",
       "</div>"
      ],
      "text/plain": [
       "Empty DataFrame\n",
       "Columns: [path, label, imagesize_w, imagesize_h, filesize]\n",
       "Index: []"
      ]
     },
     "execution_count": 46,
     "metadata": {},
     "output_type": "execute_result"
    }
   ],
   "source": [
    "ransomware ['imagesize_h'].min()\n",
    "ransomware[ransomware['imagesize_h'] == 2] # 2 benign samples"
   ]
  },
  {
   "cell_type": "code",
   "execution_count": 47,
   "metadata": {},
   "outputs": [
    {
     "data": {
      "text/plain": [
       "32"
      ]
     },
     "execution_count": 47,
     "metadata": {},
     "output_type": "execute_result"
    }
   ],
   "source": [
    "#smallest width\n",
    "ransomware ['imagesize_w'].min()"
   ]
  },
  {
   "cell_type": "code",
   "execution_count": 48,
   "metadata": {},
   "outputs": [
    {
     "ename": "SyntaxError",
     "evalue": "unexpected EOF while parsing (<ipython-input-48-3432570d593a>, line 8)",
     "output_type": "error",
     "traceback": [
      "\u001b[0;36m  File \u001b[0;32m\"<ipython-input-48-3432570d593a>\"\u001b[0;36m, line \u001b[0;32m8\u001b[0m\n\u001b[0;31m    #features.std()\u001b[0m\n\u001b[0m                   ^\u001b[0m\n\u001b[0;31mSyntaxError\u001b[0m\u001b[0;31m:\u001b[0m unexpected EOF while parsing\n"
     ]
    }
   ],
   "source": [
    "#calulate dimensions - features size\n",
    "ransomware['features'] = ransomware ['imagesize_w'] * ransomware ['imagesize_h'] * 3\n",
    "ransomware['ratio'] = ransomware ['imagesize_w'] / int(ransomware ['imagesize_w']\n",
    "#features.min()\n",
    "#features.max()\n",
    "#features.mean()\n",
    "#features.mode()\n",
    "#features.std()\n"
   ]
  },
  {
   "cell_type": "code",
   "execution_count": 49,
   "metadata": {},
   "outputs": [
    {
     "data": {
      "image/png": "[encoded data removed]",
      "text/plain": [
       "<Figure size 432x288 with 2 Axes>"
      ]
     },
     "metadata": {
      "needs_background": "light"
     },
     "output_type": "display_data"
    }
   ],
   "source": [
    "#Images size \n",
    "sns.heatmap(ransomware.corr(), annot=True, cmap=\"YlGnBu\")\n",
    "plt.show()"
   ]
  },
  {
   "cell_type": "code",
   "execution_count": 50,
   "metadata": {},
   "outputs": [
    {
     "name": "stdout",
     "output_type": "stream",
     "text": [
      "Features 150528\n"
     ]
    },
    {
     "data": {
      "text/html": [
       "<div>\n",
       "<style scoped>\n",
       "    .dataframe tbody tr th:only-of-type {\n",
       "        vertical-align: middle;\n",
       "    }\n",
       "\n",
       "    .dataframe tbody tr th {\n",
       "        vertical-align: top;\n",
       "    }\n",
       "\n",
       "    .dataframe thead th {\n",
       "        text-align: right;\n",
       "    }\n",
       "</style>\n",
       "<table border=\"1\" class=\"dataframe\">\n",
       "  <thead>\n",
       "    <tr style=\"text-align: right;\">\n",
       "      <th></th>\n",
       "      <th>path</th>\n",
       "      <th>label</th>\n",
       "      <th>imagesize_w</th>\n",
       "      <th>imagesize_h</th>\n",
       "      <th>filesize</th>\n",
       "    </tr>\n",
       "  </thead>\n",
       "  <tbody>\n",
       "    <tr>\n",
       "      <th>0</th>\n",
       "      <td>/home/labuser/deeplearning/thesis/datasets/int...</td>\n",
       "      <td>nasan</td>\n",
       "      <td>384</td>\n",
       "      <td>360</td>\n",
       "      <td>108256</td>\n",
       "    </tr>\n",
       "    <tr>\n",
       "      <th>1</th>\n",
       "      <td>/home/labuser/deeplearning/thesis/datasets/int...</td>\n",
       "      <td>nasan</td>\n",
       "      <td>384</td>\n",
       "      <td>360</td>\n",
       "      <td>108237</td>\n",
       "    </tr>\n",
       "    <tr>\n",
       "      <th>2</th>\n",
       "      <td>/home/labuser/deeplearning/thesis/datasets/int...</td>\n",
       "      <td>dharma</td>\n",
       "      <td>512</td>\n",
       "      <td>636</td>\n",
       "      <td>222040</td>\n",
       "    </tr>\n",
       "    <tr>\n",
       "      <th>3</th>\n",
       "      <td>/home/labuser/deeplearning/thesis/datasets/int...</td>\n",
       "      <td>dharma</td>\n",
       "      <td>512</td>\n",
       "      <td>636</td>\n",
       "      <td>222041</td>\n",
       "    </tr>\n",
       "    <tr>\n",
       "      <th>4</th>\n",
       "      <td>/home/labuser/deeplearning/thesis/datasets/int...</td>\n",
       "      <td>dharma</td>\n",
       "      <td>512</td>\n",
       "      <td>636</td>\n",
       "      <td>222041</td>\n",
       "    </tr>\n",
       "    <tr>\n",
       "      <th>...</th>\n",
       "      <td>...</td>\n",
       "      <td>...</td>\n",
       "      <td>...</td>\n",
       "      <td>...</td>\n",
       "      <td>...</td>\n",
       "    </tr>\n",
       "    <tr>\n",
       "      <th>7321</th>\n",
       "      <td>/home/labuser/deeplearning/thesis/datasets/int...</td>\n",
       "      <td>petya</td>\n",
       "      <td>512</td>\n",
       "      <td>513</td>\n",
       "      <td>187994</td>\n",
       "    </tr>\n",
       "    <tr>\n",
       "      <th>7322</th>\n",
       "      <td>/home/labuser/deeplearning/thesis/datasets/int...</td>\n",
       "      <td>petya</td>\n",
       "      <td>384</td>\n",
       "      <td>393</td>\n",
       "      <td>115481</td>\n",
       "    </tr>\n",
       "    <tr>\n",
       "      <th>7323</th>\n",
       "      <td>/home/labuser/deeplearning/thesis/datasets/int...</td>\n",
       "      <td>petya</td>\n",
       "      <td>384</td>\n",
       "      <td>393</td>\n",
       "      <td>109377</td>\n",
       "    </tr>\n",
       "    <tr>\n",
       "      <th>7324</th>\n",
       "      <td>/home/labuser/deeplearning/thesis/datasets/int...</td>\n",
       "      <td>rackcrypt</td>\n",
       "      <td>1024</td>\n",
       "      <td>3779</td>\n",
       "      <td>3800409</td>\n",
       "    </tr>\n",
       "    <tr>\n",
       "      <th>7325</th>\n",
       "      <td>/home/labuser/deeplearning/thesis/datasets/int...</td>\n",
       "      <td>hydracrypt</td>\n",
       "      <td>512</td>\n",
       "      <td>656</td>\n",
       "      <td>336678</td>\n",
       "    </tr>\n",
       "  </tbody>\n",
       "</table>\n",
       "<p>6781 rows × 5 columns</p>\n",
       "</div>"
      ],
      "text/plain": [
       "                                                   path       label  \\\n",
       "0     /home/labuser/deeplearning/thesis/datasets/int...       nasan   \n",
       "1     /home/labuser/deeplearning/thesis/datasets/int...       nasan   \n",
       "2     /home/labuser/deeplearning/thesis/datasets/int...      dharma   \n",
       "3     /home/labuser/deeplearning/thesis/datasets/int...      dharma   \n",
       "4     /home/labuser/deeplearning/thesis/datasets/int...      dharma   \n",
       "...                                                 ...         ...   \n",
       "7321  /home/labuser/deeplearning/thesis/datasets/int...       petya   \n",
       "7322  /home/labuser/deeplearning/thesis/datasets/int...       petya   \n",
       "7323  /home/labuser/deeplearning/thesis/datasets/int...       petya   \n",
       "7324  /home/labuser/deeplearning/thesis/datasets/int...   rackcrypt   \n",
       "7325  /home/labuser/deeplearning/thesis/datasets/int...  hydracrypt   \n",
       "\n",
       "      imagesize_w  imagesize_h  filesize  \n",
       "0             384          360    108256  \n",
       "1             384          360    108237  \n",
       "2             512          636    222040  \n",
       "3             512          636    222041  \n",
       "4             512          636    222041  \n",
       "...           ...          ...       ...  \n",
       "7321          512          513    187994  \n",
       "7322          384          393    115481  \n",
       "7323          384          393    109377  \n",
       "7324         1024         3779   3800409  \n",
       "7325          512          656    336678  \n",
       "\n",
       "[6781 rows x 5 columns]"
      ]
     },
     "execution_count": 50,
     "metadata": {},
     "output_type": "execute_result"
    }
   ],
   "source": [
    "print('Features {}'.format(224*224*3)) # maximum features\n",
    "ransomware[(ransomware ['imagesize_w'] >= 224) & (ransomware['imagesize_h'] >= 224)]# Default CNN input 224x224x3 = 6133 \n"
   ]
  },
  {
   "cell_type": "code",
   "execution_count": 52,
   "metadata": {},
   "outputs": [
    {
     "name": "stdout",
     "output_type": "stream",
     "text": [
      "Features 13664\n"
     ]
    },
    {
     "data": {
      "text/html": [
       "<div>\n",
       "<style scoped>\n",
       "    .dataframe tbody tr th:only-of-type {\n",
       "        vertical-align: middle;\n",
       "    }\n",
       "\n",
       "    .dataframe tbody tr th {\n",
       "        vertical-align: top;\n",
       "    }\n",
       "\n",
       "    .dataframe thead th {\n",
       "        text-align: right;\n",
       "    }\n",
       "</style>\n",
       "<table border=\"1\" class=\"dataframe\">\n",
       "  <thead>\n",
       "    <tr style=\"text-align: right;\">\n",
       "      <th></th>\n",
       "      <th>path</th>\n",
       "      <th>label</th>\n",
       "      <th>imagesize_w</th>\n",
       "      <th>imagesize_h</th>\n",
       "      <th>filesize</th>\n",
       "    </tr>\n",
       "  </thead>\n",
       "  <tbody>\n",
       "    <tr>\n",
       "      <th>0</th>\n",
       "      <td>/home/labuser/deeplearning/thesis/datasets/int...</td>\n",
       "      <td>nasan</td>\n",
       "      <td>384</td>\n",
       "      <td>360</td>\n",
       "      <td>108256</td>\n",
       "    </tr>\n",
       "    <tr>\n",
       "      <th>1</th>\n",
       "      <td>/home/labuser/deeplearning/thesis/datasets/int...</td>\n",
       "      <td>nasan</td>\n",
       "      <td>384</td>\n",
       "      <td>360</td>\n",
       "      <td>108237</td>\n",
       "    </tr>\n",
       "    <tr>\n",
       "      <th>2</th>\n",
       "      <td>/home/labuser/deeplearning/thesis/datasets/int...</td>\n",
       "      <td>dharma</td>\n",
       "      <td>512</td>\n",
       "      <td>636</td>\n",
       "      <td>222040</td>\n",
       "    </tr>\n",
       "    <tr>\n",
       "      <th>3</th>\n",
       "      <td>/home/labuser/deeplearning/thesis/datasets/int...</td>\n",
       "      <td>dharma</td>\n",
       "      <td>512</td>\n",
       "      <td>636</td>\n",
       "      <td>222041</td>\n",
       "    </tr>\n",
       "    <tr>\n",
       "      <th>4</th>\n",
       "      <td>/home/labuser/deeplearning/thesis/datasets/int...</td>\n",
       "      <td>dharma</td>\n",
       "      <td>512</td>\n",
       "      <td>636</td>\n",
       "      <td>222041</td>\n",
       "    </tr>\n",
       "    <tr>\n",
       "      <th>...</th>\n",
       "      <td>...</td>\n",
       "      <td>...</td>\n",
       "      <td>...</td>\n",
       "      <td>...</td>\n",
       "      <td>...</td>\n",
       "    </tr>\n",
       "    <tr>\n",
       "      <th>7321</th>\n",
       "      <td>/home/labuser/deeplearning/thesis/datasets/int...</td>\n",
       "      <td>petya</td>\n",
       "      <td>512</td>\n",
       "      <td>513</td>\n",
       "      <td>187994</td>\n",
       "    </tr>\n",
       "    <tr>\n",
       "      <th>7322</th>\n",
       "      <td>/home/labuser/deeplearning/thesis/datasets/int...</td>\n",
       "      <td>petya</td>\n",
       "      <td>384</td>\n",
       "      <td>393</td>\n",
       "      <td>115481</td>\n",
       "    </tr>\n",
       "    <tr>\n",
       "      <th>7323</th>\n",
       "      <td>/home/labuser/deeplearning/thesis/datasets/int...</td>\n",
       "      <td>petya</td>\n",
       "      <td>384</td>\n",
       "      <td>393</td>\n",
       "      <td>109377</td>\n",
       "    </tr>\n",
       "    <tr>\n",
       "      <th>7324</th>\n",
       "      <td>/home/labuser/deeplearning/thesis/datasets/int...</td>\n",
       "      <td>rackcrypt</td>\n",
       "      <td>1024</td>\n",
       "      <td>3779</td>\n",
       "      <td>3800409</td>\n",
       "    </tr>\n",
       "    <tr>\n",
       "      <th>7325</th>\n",
       "      <td>/home/labuser/deeplearning/thesis/datasets/int...</td>\n",
       "      <td>hydracrypt</td>\n",
       "      <td>512</td>\n",
       "      <td>656</td>\n",
       "      <td>336678</td>\n",
       "    </tr>\n",
       "  </tbody>\n",
       "</table>\n",
       "<p>6967 rows × 5 columns</p>\n",
       "</div>"
      ],
      "text/plain": [
       "                                                   path       label  \\\n",
       "0     /home/labuser/deeplearning/thesis/datasets/int...       nasan   \n",
       "1     /home/labuser/deeplearning/thesis/datasets/int...       nasan   \n",
       "2     /home/labuser/deeplearning/thesis/datasets/int...      dharma   \n",
       "3     /home/labuser/deeplearning/thesis/datasets/int...      dharma   \n",
       "4     /home/labuser/deeplearning/thesis/datasets/int...      dharma   \n",
       "...                                                 ...         ...   \n",
       "7321  /home/labuser/deeplearning/thesis/datasets/int...       petya   \n",
       "7322  /home/labuser/deeplearning/thesis/datasets/int...       petya   \n",
       "7323  /home/labuser/deeplearning/thesis/datasets/int...       petya   \n",
       "7324  /home/labuser/deeplearning/thesis/datasets/int...   rackcrypt   \n",
       "7325  /home/labuser/deeplearning/thesis/datasets/int...  hydracrypt   \n",
       "\n",
       "      imagesize_w  imagesize_h  filesize  \n",
       "0             384          360    108256  \n",
       "1             384          360    108237  \n",
       "2             512          636    222040  \n",
       "3             512          636    222041  \n",
       "4             512          636    222041  \n",
       "...           ...          ...       ...  \n",
       "7321          512          513    187994  \n",
       "7322          384          393    115481  \n",
       "7323          384          393    109377  \n",
       "7324         1024         3779   3800409  \n",
       "7325          512          656    336678  \n",
       "\n",
       "[6967 rows x 5 columns]"
      ]
     },
     "execution_count": 52,
     "metadata": {},
     "output_type": "execute_result"
    }
   ],
   "source": [
    "print('Features {}'.format(112*122*1)) # features 224/2\n",
    "ransomware[(ransomware ['imagesize_w'] >= 112) & (ransomware['imagesize_h'] >= 112)]# CNN input 112x112x1 == 6692"
   ]
  },
  {
   "cell_type": "code",
   "execution_count": null,
   "metadata": {},
   "outputs": [],
   "source": []
  },
  {
   "cell_type": "code",
   "execution_count": 158,
   "metadata": {},
   "outputs": [
    {
     "name": "stdout",
     "output_type": "stream",
     "text": [
      "Features 49152\n"
     ]
    },
    {
     "data": {
      "text/html": [
       "<div>\n",
       "<style scoped>\n",
       "    .dataframe tbody tr th:only-of-type {\n",
       "        vertical-align: middle;\n",
       "    }\n",
       "\n",
       "    .dataframe tbody tr th {\n",
       "        vertical-align: top;\n",
       "    }\n",
       "\n",
       "    .dataframe thead th {\n",
       "        text-align: right;\n",
       "    }\n",
       "</style>\n",
       "<table border=\"1\" class=\"dataframe\">\n",
       "  <thead>\n",
       "    <tr style=\"text-align: right;\">\n",
       "      <th></th>\n",
       "      <th>path</th>\n",
       "      <th>label</th>\n",
       "      <th>imagesize_w</th>\n",
       "      <th>imagesize_h</th>\n",
       "      <th>filesize</th>\n",
       "    </tr>\n",
       "  </thead>\n",
       "  <tbody>\n",
       "    <tr>\n",
       "      <th>2</th>\n",
       "      <td>/home/labuser/deeplearning/thesis/datasets/int...</td>\n",
       "      <td>dharma</td>\n",
       "      <td>384</td>\n",
       "      <td>283</td>\n",
       "      <td>221442</td>\n",
       "    </tr>\n",
       "    <tr>\n",
       "      <th>3</th>\n",
       "      <td>/home/labuser/deeplearning/thesis/datasets/int...</td>\n",
       "      <td>dharma</td>\n",
       "      <td>384</td>\n",
       "      <td>283</td>\n",
       "      <td>221441</td>\n",
       "    </tr>\n",
       "    <tr>\n",
       "      <th>4</th>\n",
       "      <td>/home/labuser/deeplearning/thesis/datasets/int...</td>\n",
       "      <td>dharma</td>\n",
       "      <td>384</td>\n",
       "      <td>283</td>\n",
       "      <td>221443</td>\n",
       "    </tr>\n",
       "    <tr>\n",
       "      <th>5</th>\n",
       "      <td>/home/labuser/deeplearning/thesis/datasets/int...</td>\n",
       "      <td>dharma</td>\n",
       "      <td>384</td>\n",
       "      <td>283</td>\n",
       "      <td>221442</td>\n",
       "    </tr>\n",
       "    <tr>\n",
       "      <th>6</th>\n",
       "      <td>/home/labuser/deeplearning/thesis/datasets/int...</td>\n",
       "      <td>shade</td>\n",
       "      <td>512</td>\n",
       "      <td>635</td>\n",
       "      <td>968182</td>\n",
       "    </tr>\n",
       "    <tr>\n",
       "      <th>...</th>\n",
       "      <td>...</td>\n",
       "      <td>...</td>\n",
       "      <td>...</td>\n",
       "      <td>...</td>\n",
       "      <td>...</td>\n",
       "    </tr>\n",
       "    <tr>\n",
       "      <th>7312</th>\n",
       "      <td>/home/labuser/deeplearning/thesis/datasets/int...</td>\n",
       "      <td>spora</td>\n",
       "      <td>256</td>\n",
       "      <td>274</td>\n",
       "      <td>163539</td>\n",
       "    </tr>\n",
       "    <tr>\n",
       "      <th>7315</th>\n",
       "      <td>/home/labuser/deeplearning/thesis/datasets/int...</td>\n",
       "      <td>petya</td>\n",
       "      <td>256</td>\n",
       "      <td>342</td>\n",
       "      <td>195683</td>\n",
       "    </tr>\n",
       "    <tr>\n",
       "      <th>7320</th>\n",
       "      <td>/home/labuser/deeplearning/thesis/datasets/int...</td>\n",
       "      <td>petya</td>\n",
       "      <td>384</td>\n",
       "      <td>356</td>\n",
       "      <td>266019</td>\n",
       "    </tr>\n",
       "    <tr>\n",
       "      <th>7324</th>\n",
       "      <td>/home/labuser/deeplearning/thesis/datasets/int...</td>\n",
       "      <td>rackcrypt</td>\n",
       "      <td>1024</td>\n",
       "      <td>1260</td>\n",
       "      <td>3792011</td>\n",
       "    </tr>\n",
       "    <tr>\n",
       "      <th>7325</th>\n",
       "      <td>/home/labuser/deeplearning/thesis/datasets/int...</td>\n",
       "      <td>hydracrypt</td>\n",
       "      <td>384</td>\n",
       "      <td>297</td>\n",
       "      <td>335682</td>\n",
       "    </tr>\n",
       "  </tbody>\n",
       "</table>\n",
       "<p>6133 rows × 5 columns</p>\n",
       "</div>"
      ],
      "text/plain": [
       "                                                   path       label  \\\n",
       "2     /home/labuser/deeplearning/thesis/datasets/int...      dharma   \n",
       "3     /home/labuser/deeplearning/thesis/datasets/int...      dharma   \n",
       "4     /home/labuser/deeplearning/thesis/datasets/int...      dharma   \n",
       "5     /home/labuser/deeplearning/thesis/datasets/int...      dharma   \n",
       "6     /home/labuser/deeplearning/thesis/datasets/int...       shade   \n",
       "...                                                 ...         ...   \n",
       "7312  /home/labuser/deeplearning/thesis/datasets/int...       spora   \n",
       "7315  /home/labuser/deeplearning/thesis/datasets/int...       petya   \n",
       "7320  /home/labuser/deeplearning/thesis/datasets/int...       petya   \n",
       "7324  /home/labuser/deeplearning/thesis/datasets/int...   rackcrypt   \n",
       "7325  /home/labuser/deeplearning/thesis/datasets/int...  hydracrypt   \n",
       "\n",
       "      imagesize_w  imagesize_h  filesize  \n",
       "2             384          283    221442  \n",
       "3             384          283    221441  \n",
       "4             384          283    221443  \n",
       "5             384          283    221442  \n",
       "6             512          635    968182  \n",
       "...           ...          ...       ...  \n",
       "7312          256          274    163539  \n",
       "7315          256          342    195683  \n",
       "7320          384          356    266019  \n",
       "7324         1024         1260   3792011  \n",
       "7325          384          297    335682  \n",
       "\n",
       "[6133 rows x 5 columns]"
      ]
     },
     "execution_count": 158,
     "metadata": {},
     "output_type": "execute_result"
    }
   ],
   "source": [
    "#Selection on minimum images size 128 x 128 x 3 Results in no Benign samples in the dataset == 7018\n",
    "print('Features {}'.format(128*128*3))\n",
    "ransomware[(ransomware ['imagesize_w'] > 128) & (ransomware['imagesize_h'] > 128)]"
   ]
  },
  {
   "cell_type": "code",
   "execution_count": 55,
   "metadata": {},
   "outputs": [
    {
     "name": "stdout",
     "output_type": "stream",
     "text": [
      "Features 4096\n"
     ]
    },
    {
     "data": {
      "text/html": [
       "<div>\n",
       "<style scoped>\n",
       "    .dataframe tbody tr th:only-of-type {\n",
       "        vertical-align: middle;\n",
       "    }\n",
       "\n",
       "    .dataframe tbody tr th {\n",
       "        vertical-align: top;\n",
       "    }\n",
       "\n",
       "    .dataframe thead th {\n",
       "        text-align: right;\n",
       "    }\n",
       "</style>\n",
       "<table border=\"1\" class=\"dataframe\">\n",
       "  <thead>\n",
       "    <tr style=\"text-align: right;\">\n",
       "      <th></th>\n",
       "      <th>path</th>\n",
       "      <th>label</th>\n",
       "      <th>imagesize_w</th>\n",
       "      <th>imagesize_h</th>\n",
       "      <th>filesize</th>\n",
       "    </tr>\n",
       "  </thead>\n",
       "  <tbody>\n",
       "    <tr>\n",
       "      <th>0</th>\n",
       "      <td>/home/labuser/deeplearning/thesis/datasets/int...</td>\n",
       "      <td>nasan</td>\n",
       "      <td>384</td>\n",
       "      <td>360</td>\n",
       "      <td>108256</td>\n",
       "    </tr>\n",
       "    <tr>\n",
       "      <th>1</th>\n",
       "      <td>/home/labuser/deeplearning/thesis/datasets/int...</td>\n",
       "      <td>nasan</td>\n",
       "      <td>384</td>\n",
       "      <td>360</td>\n",
       "      <td>108237</td>\n",
       "    </tr>\n",
       "    <tr>\n",
       "      <th>2</th>\n",
       "      <td>/home/labuser/deeplearning/thesis/datasets/int...</td>\n",
       "      <td>dharma</td>\n",
       "      <td>512</td>\n",
       "      <td>636</td>\n",
       "      <td>222040</td>\n",
       "    </tr>\n",
       "    <tr>\n",
       "      <th>3</th>\n",
       "      <td>/home/labuser/deeplearning/thesis/datasets/int...</td>\n",
       "      <td>dharma</td>\n",
       "      <td>512</td>\n",
       "      <td>636</td>\n",
       "      <td>222041</td>\n",
       "    </tr>\n",
       "    <tr>\n",
       "      <th>4</th>\n",
       "      <td>/home/labuser/deeplearning/thesis/datasets/int...</td>\n",
       "      <td>dharma</td>\n",
       "      <td>512</td>\n",
       "      <td>636</td>\n",
       "      <td>222041</td>\n",
       "    </tr>\n",
       "    <tr>\n",
       "      <th>...</th>\n",
       "      <td>...</td>\n",
       "      <td>...</td>\n",
       "      <td>...</td>\n",
       "      <td>...</td>\n",
       "      <td>...</td>\n",
       "    </tr>\n",
       "    <tr>\n",
       "      <th>7321</th>\n",
       "      <td>/home/labuser/deeplearning/thesis/datasets/int...</td>\n",
       "      <td>petya</td>\n",
       "      <td>512</td>\n",
       "      <td>513</td>\n",
       "      <td>187994</td>\n",
       "    </tr>\n",
       "    <tr>\n",
       "      <th>7322</th>\n",
       "      <td>/home/labuser/deeplearning/thesis/datasets/int...</td>\n",
       "      <td>petya</td>\n",
       "      <td>384</td>\n",
       "      <td>393</td>\n",
       "      <td>115481</td>\n",
       "    </tr>\n",
       "    <tr>\n",
       "      <th>7323</th>\n",
       "      <td>/home/labuser/deeplearning/thesis/datasets/int...</td>\n",
       "      <td>petya</td>\n",
       "      <td>384</td>\n",
       "      <td>393</td>\n",
       "      <td>109377</td>\n",
       "    </tr>\n",
       "    <tr>\n",
       "      <th>7324</th>\n",
       "      <td>/home/labuser/deeplearning/thesis/datasets/int...</td>\n",
       "      <td>rackcrypt</td>\n",
       "      <td>1024</td>\n",
       "      <td>3779</td>\n",
       "      <td>3800409</td>\n",
       "    </tr>\n",
       "    <tr>\n",
       "      <th>7325</th>\n",
       "      <td>/home/labuser/deeplearning/thesis/datasets/int...</td>\n",
       "      <td>hydracrypt</td>\n",
       "      <td>512</td>\n",
       "      <td>656</td>\n",
       "      <td>336678</td>\n",
       "    </tr>\n",
       "  </tbody>\n",
       "</table>\n",
       "<p>6967 rows × 5 columns</p>\n",
       "</div>"
      ],
      "text/plain": [
       "                                                   path       label  \\\n",
       "0     /home/labuser/deeplearning/thesis/datasets/int...       nasan   \n",
       "1     /home/labuser/deeplearning/thesis/datasets/int...       nasan   \n",
       "2     /home/labuser/deeplearning/thesis/datasets/int...      dharma   \n",
       "3     /home/labuser/deeplearning/thesis/datasets/int...      dharma   \n",
       "4     /home/labuser/deeplearning/thesis/datasets/int...      dharma   \n",
       "...                                                 ...         ...   \n",
       "7321  /home/labuser/deeplearning/thesis/datasets/int...       petya   \n",
       "7322  /home/labuser/deeplearning/thesis/datasets/int...       petya   \n",
       "7323  /home/labuser/deeplearning/thesis/datasets/int...       petya   \n",
       "7324  /home/labuser/deeplearning/thesis/datasets/int...   rackcrypt   \n",
       "7325  /home/labuser/deeplearning/thesis/datasets/int...  hydracrypt   \n",
       "\n",
       "      imagesize_w  imagesize_h  filesize  \n",
       "0             384          360    108256  \n",
       "1             384          360    108237  \n",
       "2             512          636    222040  \n",
       "3             512          636    222041  \n",
       "4             512          636    222041  \n",
       "...           ...          ...       ...  \n",
       "7321          512          513    187994  \n",
       "7322          384          393    115481  \n",
       "7323          384          393    109377  \n",
       "7324         1024         3779   3800409  \n",
       "7325          512          656    336678  \n",
       "\n",
       "[6967 rows x 5 columns]"
      ]
     },
     "execution_count": 55,
     "metadata": {},
     "output_type": "execute_result"
    }
   ],
   "source": [
    "#Selection on minimum images size 64 x 64 x 3  Results in no Benign samples in the dataset == 7018\n",
    "print('Features {}'.format(64*64*1))\n",
    "ransomware[(ransomware ['imagesize_w'] > 64) & (ransomware['imagesize_h'] > 64)]"
   ]
  },
  {
   "cell_type": "code",
   "execution_count": 56,
   "metadata": {},
   "outputs": [
    {
     "name": "stdout",
     "output_type": "stream",
     "text": [
      "Features 1024\n"
     ]
    }
   ],
   "source": [
    "#Selection on minimum images size 32 x 32 x 1  Results in no Benign samples in the dataset == 7018\n",
    "print('Features {}'.format(32*32*1))\n",
    "ransomware[(ransomware ['imagesize_w'] > 32) & (ransomware ['imagesize_w'] > 32)]\n",
    "ransomware['ratio'] = ransomware ['imagesize_w'] / ransomware ['imagesize_w']"
   ]
  },
  {
   "cell_type": "markdown",
   "metadata": {},
   "source": [
    "### Distortion"
   ]
  },
  {
   "cell_type": "markdown",
   "metadata": {},
   "source": [
    "Show the effects of an resized"
   ]
  },
  {
   "cell_type": "code",
   "execution_count": 61,
   "metadata": {},
   "outputs": [],
   "source": [
    "from IPython.display import Image\n",
    "from PIL import Image"
   ]
  },
  {
   "cell_type": "code",
   "execution_count": 62,
   "metadata": {},
   "outputs": [],
   "source": [
    "showdistortion = ransomware[(ransomware ['imagesize_w'] == 32) & (ransomware ['imagesize_w'] <112)].head(1)"
   ]
  },
  {
   "cell_type": "code",
   "execution_count": 63,
   "metadata": {},
   "outputs": [
    {
     "data": {
      "text/html": [
       "<div>\n",
       "<style scoped>\n",
       "    .dataframe tbody tr th:only-of-type {\n",
       "        vertical-align: middle;\n",
       "    }\n",
       "\n",
       "    .dataframe tbody tr th {\n",
       "        vertical-align: top;\n",
       "    }\n",
       "\n",
       "    .dataframe thead th {\n",
       "        text-align: right;\n",
       "    }\n",
       "</style>\n",
       "<table border=\"1\" class=\"dataframe\">\n",
       "  <thead>\n",
       "    <tr style=\"text-align: right;\">\n",
       "      <th></th>\n",
       "      <th>path</th>\n",
       "      <th>label</th>\n",
       "      <th>imagesize_w</th>\n",
       "      <th>imagesize_h</th>\n",
       "      <th>filesize</th>\n",
       "      <th>ratio</th>\n",
       "    </tr>\n",
       "  </thead>\n",
       "  <tbody>\n",
       "    <tr>\n",
       "      <th>47</th>\n",
       "      <td>/home/labuser/deeplearning/thesis/datasets/int...</td>\n",
       "      <td>genasom</td>\n",
       "      <td>32</td>\n",
       "      <td>298</td>\n",
       "      <td>9870</td>\n",
       "      <td>1.0</td>\n",
       "    </tr>\n",
       "  </tbody>\n",
       "</table>\n",
       "</div>"
      ],
      "text/plain": [
       "                                                 path    label  imagesize_w  \\\n",
       "47  /home/labuser/deeplearning/thesis/datasets/int...  genasom           32   \n",
       "\n",
       "    imagesize_h  filesize  ratio  \n",
       "47          298      9870    1.0  "
      ]
     },
     "execution_count": 63,
     "metadata": {},
     "output_type": "execute_result"
    }
   ],
   "source": [
    "showdistortion"
   ]
  },
  {
   "cell_type": "code",
   "execution_count": 73,
   "metadata": {},
   "outputs": [
    {
     "ename": "AttributeError",
     "evalue": "'DataFrame' object has no attribute 'pat'",
     "output_type": "error",
     "traceback": [
      "\u001b[0;31m---------------------------------------------------------------------------\u001b[0m",
      "\u001b[0;31mAttributeError\u001b[0m                            Traceback (most recent call last)",
      "\u001b[0;32m<ipython-input-73-544faeba661b>\u001b[0m in \u001b[0;36m<module>\u001b[0;34m\u001b[0m\n\u001b[0;32m----> 1\u001b[0;31m \u001b[0mshowdistortion\u001b[0m\u001b[0;34m.\u001b[0m\u001b[0mpat\u001b[0m\u001b[0;34m\u001b[0m\u001b[0;34m\u001b[0m\u001b[0m\n\u001b[0m",
      "\u001b[0;32m~/.local/share/virtualenvs/dataman-vjwH9nfk/lib/python3.6/site-packages/pandas/core/generic.py\u001b[0m in \u001b[0;36m__getattr__\u001b[0;34m(self, name)\u001b[0m\n\u001b[1;32m   5128\u001b[0m             \u001b[0;32mif\u001b[0m \u001b[0mself\u001b[0m\u001b[0;34m.\u001b[0m\u001b[0m_info_axis\u001b[0m\u001b[0;34m.\u001b[0m\u001b[0m_can_hold_identifiers_and_holds_name\u001b[0m\u001b[0;34m(\u001b[0m\u001b[0mname\u001b[0m\u001b[0;34m)\u001b[0m\u001b[0;34m:\u001b[0m\u001b[0;34m\u001b[0m\u001b[0;34m\u001b[0m\u001b[0m\n\u001b[1;32m   5129\u001b[0m                 \u001b[0;32mreturn\u001b[0m \u001b[0mself\u001b[0m\u001b[0;34m[\u001b[0m\u001b[0mname\u001b[0m\u001b[0;34m]\u001b[0m\u001b[0;34m\u001b[0m\u001b[0;34m\u001b[0m\u001b[0m\n\u001b[0;32m-> 5130\u001b[0;31m             \u001b[0;32mreturn\u001b[0m \u001b[0mobject\u001b[0m\u001b[0;34m.\u001b[0m\u001b[0m__getattribute__\u001b[0m\u001b[0;34m(\u001b[0m\u001b[0mself\u001b[0m\u001b[0;34m,\u001b[0m \u001b[0mname\u001b[0m\u001b[0;34m)\u001b[0m\u001b[0;34m\u001b[0m\u001b[0;34m\u001b[0m\u001b[0m\n\u001b[0m\u001b[1;32m   5131\u001b[0m \u001b[0;34m\u001b[0m\u001b[0m\n\u001b[1;32m   5132\u001b[0m     \u001b[0;32mdef\u001b[0m \u001b[0m__setattr__\u001b[0m\u001b[0;34m(\u001b[0m\u001b[0mself\u001b[0m\u001b[0;34m,\u001b[0m \u001b[0mname\u001b[0m\u001b[0;34m:\u001b[0m \u001b[0mstr\u001b[0m\u001b[0;34m,\u001b[0m \u001b[0mvalue\u001b[0m\u001b[0;34m)\u001b[0m \u001b[0;34m->\u001b[0m \u001b[0;32mNone\u001b[0m\u001b[0;34m:\u001b[0m\u001b[0;34m\u001b[0m\u001b[0;34m\u001b[0m\u001b[0m\n",
      "\u001b[0;31mAttributeError\u001b[0m: 'DataFrame' object has no attribute 'pat'"
     ]
    }
   ],
   "source": [
    "showdistortion.pat"
   ]
  },
  {
   "cell_type": "code",
   "execution_count": 67,
   "metadata": {},
   "outputs": [
    {
     "ename": "TypeError",
     "evalue": "'module' object is not callable",
     "output_type": "error",
     "traceback": [
      "\u001b[0;31m---------------------------------------------------------------------------\u001b[0m",
      "\u001b[0;31mTypeError\u001b[0m                                 Traceback (most recent call last)",
      "\u001b[0;32m<ipython-input-67-7a8c327f7de0>\u001b[0m in \u001b[0;36m<module>\u001b[0;34m\u001b[0m\n\u001b[0;32m----> 1\u001b[0;31m \u001b[0mImage\u001b[0m\u001b[0;34m(\u001b[0m\u001b[0mfilename\u001b[0m\u001b[0;34m=\u001b[0m\u001b[0mshowdistortion\u001b[0m\u001b[0;34m.\u001b[0m\u001b[0mpath\u001b[0m\u001b[0;34m)\u001b[0m\u001b[0;34m\u001b[0m\u001b[0;34m\u001b[0m\u001b[0m\n\u001b[0m",
      "\u001b[0;31mTypeError\u001b[0m: 'module' object is not callable"
     ]
    }
   ],
   "source": [
    "Image(filename=showdistortion.path)"
   ]
  },
  {
   "cell_type": "code",
   "execution_count": 74,
   "metadata": {},
   "outputs": [
    {
     "ename": "KeyError",
     "evalue": "0",
     "output_type": "error",
     "traceback": [
      "\u001b[0;31m---------------------------------------------------------------------------\u001b[0m",
      "\u001b[0;31mKeyError\u001b[0m                                  Traceback (most recent call last)",
      "\u001b[0;32m~/.local/share/virtualenvs/dataman-vjwH9nfk/lib/python3.6/site-packages/pandas/core/indexes/base.py\u001b[0m in \u001b[0;36mget_loc\u001b[0;34m(self, key, method, tolerance)\u001b[0m\n\u001b[1;32m   2888\u001b[0m             \u001b[0;32mtry\u001b[0m\u001b[0;34m:\u001b[0m\u001b[0;34m\u001b[0m\u001b[0;34m\u001b[0m\u001b[0m\n\u001b[0;32m-> 2889\u001b[0;31m                 \u001b[0;32mreturn\u001b[0m \u001b[0mself\u001b[0m\u001b[0;34m.\u001b[0m\u001b[0m_engine\u001b[0m\u001b[0;34m.\u001b[0m\u001b[0mget_loc\u001b[0m\u001b[0;34m(\u001b[0m\u001b[0mcasted_key\u001b[0m\u001b[0;34m)\u001b[0m\u001b[0;34m\u001b[0m\u001b[0;34m\u001b[0m\u001b[0m\n\u001b[0m\u001b[1;32m   2890\u001b[0m             \u001b[0;32mexcept\u001b[0m \u001b[0mKeyError\u001b[0m \u001b[0;32mas\u001b[0m \u001b[0merr\u001b[0m\u001b[0;34m:\u001b[0m\u001b[0;34m\u001b[0m\u001b[0;34m\u001b[0m\u001b[0m\n",
      "\u001b[0;32mpandas/_libs/index.pyx\u001b[0m in \u001b[0;36mpandas._libs.index.IndexEngine.get_loc\u001b[0;34m()\u001b[0m\n",
      "\u001b[0;32mpandas/_libs/index.pyx\u001b[0m in \u001b[0;36mpandas._libs.index.IndexEngine.get_loc\u001b[0;34m()\u001b[0m\n",
      "\u001b[0;32mpandas/_libs/hashtable_class_helper.pxi\u001b[0m in \u001b[0;36mpandas._libs.hashtable.Int64HashTable.get_item\u001b[0;34m()\u001b[0m\n",
      "\u001b[0;32mpandas/_libs/hashtable_class_helper.pxi\u001b[0m in \u001b[0;36mpandas._libs.hashtable.Int64HashTable.get_item\u001b[0;34m()\u001b[0m\n",
      "\u001b[0;31mKeyError\u001b[0m: 0",
      "\nThe above exception was the direct cause of the following exception:\n",
      "\u001b[0;31mKeyError\u001b[0m                                  Traceback (most recent call last)",
      "\u001b[0;32m<ipython-input-74-e528d71da5e8>\u001b[0m in \u001b[0;36m<module>\u001b[0;34m\u001b[0m\n\u001b[0;32m----> 1\u001b[0;31m \u001b[0mimg\u001b[0m \u001b[0;34m=\u001b[0m \u001b[0mImage\u001b[0m\u001b[0;34m.\u001b[0m\u001b[0mopen\u001b[0m\u001b[0;34m(\u001b[0m\u001b[0mshowdistortion\u001b[0m\u001b[0;34m.\u001b[0m\u001b[0mpath\u001b[0m\u001b[0;34m[\u001b[0m\u001b[0;36m0\u001b[0m\u001b[0;34m]\u001b[0m\u001b[0;34m)\u001b[0m\u001b[0;34m\u001b[0m\u001b[0;34m\u001b[0m\u001b[0m\n\u001b[0m\u001b[1;32m      2\u001b[0m \u001b[0mimg\u001b[0m\u001b[0;34m.\u001b[0m\u001b[0msave\u001b[0m\u001b[0;34m(\u001b[0m\u001b[0;34m'undistorted.png'\u001b[0m\u001b[0;34m)\u001b[0m\u001b[0;34m\u001b[0m\u001b[0;34m\u001b[0m\u001b[0m\n\u001b[1;32m      3\u001b[0m \u001b[0;34m\u001b[0m\u001b[0m\n\u001b[1;32m      4\u001b[0m \u001b[0mimg\u001b[0m \u001b[0;34m=\u001b[0m \u001b[0mImage\u001b[0m\u001b[0;34m.\u001b[0m\u001b[0mopen\u001b[0m\u001b[0;34m(\u001b[0m\u001b[0mshowdistortion\u001b[0m\u001b[0;34m.\u001b[0m\u001b[0mpath\u001b[0m\u001b[0;34m[\u001b[0m\u001b[0;36m0\u001b[0m\u001b[0;34m]\u001b[0m\u001b[0;34m)\u001b[0m\u001b[0;34m\u001b[0m\u001b[0;34m\u001b[0m\u001b[0m\n\u001b[1;32m      5\u001b[0m \u001b[0mnew_width\u001b[0m  \u001b[0;34m=\u001b[0m \u001b[0;36m244\u001b[0m\u001b[0;34m\u001b[0m\u001b[0;34m\u001b[0m\u001b[0m\n",
      "\u001b[0;32m~/.local/share/virtualenvs/dataman-vjwH9nfk/lib/python3.6/site-packages/pandas/core/series.py\u001b[0m in \u001b[0;36m__getitem__\u001b[0;34m(self, key)\u001b[0m\n\u001b[1;32m    880\u001b[0m \u001b[0;34m\u001b[0m\u001b[0m\n\u001b[1;32m    881\u001b[0m         \u001b[0;32melif\u001b[0m \u001b[0mkey_is_scalar\u001b[0m\u001b[0;34m:\u001b[0m\u001b[0;34m\u001b[0m\u001b[0;34m\u001b[0m\u001b[0m\n\u001b[0;32m--> 882\u001b[0;31m             \u001b[0;32mreturn\u001b[0m \u001b[0mself\u001b[0m\u001b[0;34m.\u001b[0m\u001b[0m_get_value\u001b[0m\u001b[0;34m(\u001b[0m\u001b[0mkey\u001b[0m\u001b[0;34m)\u001b[0m\u001b[0;34m\u001b[0m\u001b[0;34m\u001b[0m\u001b[0m\n\u001b[0m\u001b[1;32m    883\u001b[0m \u001b[0;34m\u001b[0m\u001b[0m\n\u001b[1;32m    884\u001b[0m         if (\n",
      "\u001b[0;32m~/.local/share/virtualenvs/dataman-vjwH9nfk/lib/python3.6/site-packages/pandas/core/series.py\u001b[0m in \u001b[0;36m_get_value\u001b[0;34m(self, label, takeable)\u001b[0m\n\u001b[1;32m    989\u001b[0m \u001b[0;34m\u001b[0m\u001b[0m\n\u001b[1;32m    990\u001b[0m         \u001b[0;31m# Similar to Index.get_value, but we do not fall back to positional\u001b[0m\u001b[0;34m\u001b[0m\u001b[0;34m\u001b[0m\u001b[0;34m\u001b[0m\u001b[0m\n\u001b[0;32m--> 991\u001b[0;31m         \u001b[0mloc\u001b[0m \u001b[0;34m=\u001b[0m \u001b[0mself\u001b[0m\u001b[0;34m.\u001b[0m\u001b[0mindex\u001b[0m\u001b[0;34m.\u001b[0m\u001b[0mget_loc\u001b[0m\u001b[0;34m(\u001b[0m\u001b[0mlabel\u001b[0m\u001b[0;34m)\u001b[0m\u001b[0;34m\u001b[0m\u001b[0;34m\u001b[0m\u001b[0m\n\u001b[0m\u001b[1;32m    992\u001b[0m         \u001b[0;32mreturn\u001b[0m \u001b[0mself\u001b[0m\u001b[0;34m.\u001b[0m\u001b[0mindex\u001b[0m\u001b[0;34m.\u001b[0m\u001b[0m_get_values_for_loc\u001b[0m\u001b[0;34m(\u001b[0m\u001b[0mself\u001b[0m\u001b[0;34m,\u001b[0m \u001b[0mloc\u001b[0m\u001b[0;34m,\u001b[0m \u001b[0mlabel\u001b[0m\u001b[0;34m)\u001b[0m\u001b[0;34m\u001b[0m\u001b[0;34m\u001b[0m\u001b[0m\n\u001b[1;32m    993\u001b[0m \u001b[0;34m\u001b[0m\u001b[0m\n",
      "\u001b[0;32m~/.local/share/virtualenvs/dataman-vjwH9nfk/lib/python3.6/site-packages/pandas/core/indexes/base.py\u001b[0m in \u001b[0;36mget_loc\u001b[0;34m(self, key, method, tolerance)\u001b[0m\n\u001b[1;32m   2889\u001b[0m                 \u001b[0;32mreturn\u001b[0m \u001b[0mself\u001b[0m\u001b[0;34m.\u001b[0m\u001b[0m_engine\u001b[0m\u001b[0;34m.\u001b[0m\u001b[0mget_loc\u001b[0m\u001b[0;34m(\u001b[0m\u001b[0mcasted_key\u001b[0m\u001b[0;34m)\u001b[0m\u001b[0;34m\u001b[0m\u001b[0;34m\u001b[0m\u001b[0m\n\u001b[1;32m   2890\u001b[0m             \u001b[0;32mexcept\u001b[0m \u001b[0mKeyError\u001b[0m \u001b[0;32mas\u001b[0m \u001b[0merr\u001b[0m\u001b[0;34m:\u001b[0m\u001b[0;34m\u001b[0m\u001b[0;34m\u001b[0m\u001b[0m\n\u001b[0;32m-> 2891\u001b[0;31m                 \u001b[0;32mraise\u001b[0m \u001b[0mKeyError\u001b[0m\u001b[0;34m(\u001b[0m\u001b[0mkey\u001b[0m\u001b[0;34m)\u001b[0m \u001b[0;32mfrom\u001b[0m \u001b[0merr\u001b[0m\u001b[0;34m\u001b[0m\u001b[0;34m\u001b[0m\u001b[0m\n\u001b[0m\u001b[1;32m   2892\u001b[0m \u001b[0;34m\u001b[0m\u001b[0m\n\u001b[1;32m   2893\u001b[0m         \u001b[0;32mif\u001b[0m \u001b[0mtolerance\u001b[0m \u001b[0;32mis\u001b[0m \u001b[0;32mnot\u001b[0m \u001b[0;32mNone\u001b[0m\u001b[0;34m:\u001b[0m\u001b[0;34m\u001b[0m\u001b[0;34m\u001b[0m\u001b[0m\n",
      "\u001b[0;31mKeyError\u001b[0m: 0"
     ]
    }
   ],
   "source": [
    "img = Image.open(showdistortion.path[0])\n",
    "img.save('undistorted.png')\n",
    "\n",
    "img = Image.open(showdistortion.path[0])\n",
    "new_width  = 244\n",
    "new_height = 244\n",
    "img = img.resize((new_width, new_height), Image.ANTIALIAS)\n",
    "img.save('distorted_image.png')\n"
   ]
  },
  {
   "cell_type": "code",
   "execution_count": 180,
   "metadata": {},
   "outputs": [
    {
     "ename": "TypeError",
     "evalue": "'module' object is not callable",
     "output_type": "error",
     "traceback": [
      "\u001b[0;31m---------------------------------------------------------------------------\u001b[0m",
      "\u001b[0;31mTypeError\u001b[0m                                 Traceback (most recent call last)",
      "\u001b[0;32m<ipython-input-180-ebb774aa4102>\u001b[0m in \u001b[0;36m<module>\u001b[0;34m\u001b[0m\n\u001b[0;32m----> 1\u001b[0;31m \u001b[0mImage\u001b[0m\u001b[0;34m(\u001b[0m\u001b[0mfilename\u001b[0m\u001b[0;34m=\u001b[0m\u001b[0;34m'distorted_image.png'\u001b[0m\u001b[0;34m)\u001b[0m\u001b[0;34m\u001b[0m\u001b[0;34m\u001b[0m\u001b[0m\n\u001b[0m",
      "\u001b[0;31mTypeError\u001b[0m: 'module' object is not callable"
     ]
    }
   ],
   "source": [
    "Image(filename='distorted_image.png')"
   ]
  },
  {
   "cell_type": "code",
   "execution_count": 160,
   "metadata": {},
   "outputs": [],
   "source": [
    "nodistortion = ransomware[(ransomware ['imagesize_w'] >= 112) & (ransomware ['imagesize_w'] >=112)].head(1)"
   ]
  },
  {
   "cell_type": "code",
   "execution_count": 161,
   "metadata": {},
   "outputs": [
    {
     "data": {
      "text/html": [
       "<div>\n",
       "<style scoped>\n",
       "    .dataframe tbody tr th:only-of-type {\n",
       "        vertical-align: middle;\n",
       "    }\n",
       "\n",
       "    .dataframe tbody tr th {\n",
       "        vertical-align: top;\n",
       "    }\n",
       "\n",
       "    .dataframe thead th {\n",
       "        text-align: right;\n",
       "    }\n",
       "</style>\n",
       "<table border=\"1\" class=\"dataframe\">\n",
       "  <thead>\n",
       "    <tr style=\"text-align: right;\">\n",
       "      <th></th>\n",
       "      <th>path</th>\n",
       "      <th>label</th>\n",
       "      <th>imagesize_w</th>\n",
       "      <th>imagesize_h</th>\n",
       "      <th>filesize</th>\n",
       "    </tr>\n",
       "  </thead>\n",
       "  <tbody>\n",
       "    <tr>\n",
       "      <th>0</th>\n",
       "      <td>/home/labuser/deeplearning/thesis/datasets/int...</td>\n",
       "      <td>nasan</td>\n",
       "      <td>128</td>\n",
       "      <td>360</td>\n",
       "      <td>107778</td>\n",
       "    </tr>\n",
       "  </tbody>\n",
       "</table>\n",
       "</div>"
      ],
      "text/plain": [
       "                                                path  label  imagesize_w  \\\n",
       "0  /home/labuser/deeplearning/thesis/datasets/int...  nasan          128   \n",
       "\n",
       "   imagesize_h  filesize  \n",
       "0          360    107778  "
      ]
     },
     "execution_count": 161,
     "metadata": {},
     "output_type": "execute_result"
    }
   ],
   "source": [
    "nodistortion"
   ]
  },
  {
   "cell_type": "code",
   "execution_count": 181,
   "metadata": {},
   "outputs": [],
   "source": [
    "img = Image.open(nodistortion.path[0])\n",
    "img.save('undistorted_112.png')\n",
    "\n",
    "img = Image.open(nodistortion.path[0])\n",
    "new_width  = 244\n",
    "new_height = 244\n",
    "img = img.resize((new_width, new_height), Image.ANTIALIAS)\n",
    "img.save('distorted_112.png')"
   ]
  },
  {
   "cell_type": "markdown",
   "metadata": {},
   "source": [
    "# Pre-selection -- applied minumum size of 112 x 112 as selection critertia"
   ]
  },
  {
   "cell_type": "code",
   "execution_count": 75,
   "metadata": {},
   "outputs": [
    {
     "data": {
      "text/plain": [
       "tescrypt        3071\n",
       "gandcrab        1028\n",
       "benign           575\n",
       "crowti           556\n",
       "locky            540\n",
       "cerber           489\n",
       "genasom          207\n",
       "wannacrypt       104\n",
       "enestaller        88\n",
       "milicry           51\n",
       "haperlock         44\n",
       "enestedel         33\n",
       "teerac            28\n",
       "filecryptor       23\n",
       "wyhymyz           14\n",
       "rantest           13\n",
       "wadhrama          11\n",
       "petya              9\n",
       "sagecrypt          9\n",
       "troldesh           8\n",
       "tobfy              6\n",
       "somhoveran         4\n",
       "spora              4\n",
       "dharma             4\n",
       "nemreq             4\n",
       "dotranos           3\n",
       "jaffrans           3\n",
       "pottieq            3\n",
       "higuniel           3\n",
       "molock             3\n",
       "tovicrypt          3\n",
       "stampado           2\n",
       "ergop              2\n",
       "nasan              2\n",
       "cryptomole         1\n",
       "cryptolempiz       1\n",
       "sodinokibi         1\n",
       "crysis             1\n",
       "loktrom            1\n",
       "bucbi              1\n",
       "bisquitache        1\n",
       "bosloki            1\n",
       "cryak              1\n",
       "urausy             1\n",
       "dircrypt           1\n",
       "weenloc            1\n",
       "natasa             1\n",
       "rackcrypt          1\n",
       "shade              1\n",
       "hydracrypt         1\n",
       "cryakl             1\n",
       "dmalocker          1\n",
       "kisucrypt          1\n",
       "critoni            1\n",
       "Name: label, dtype: int64"
      ]
     },
     "execution_count": 75,
     "metadata": {},
     "output_type": "execute_result"
    }
   ],
   "source": [
    "preselection = ransomware[(ransomware ['imagesize_w'] >= 112) & (ransomware['imagesize_h'] >= 112)]# CNN input 112x112x3 == 6692\n",
    "preselection['label'].value_counts()"
   ]
  },
  {
   "cell_type": "code",
   "execution_count": 78,
   "metadata": {},
   "outputs": [
    {
     "data": {
      "text/html": [
       "<div>\n",
       "<style scoped>\n",
       "    .dataframe tbody tr th:only-of-type {\n",
       "        vertical-align: middle;\n",
       "    }\n",
       "\n",
       "    .dataframe tbody tr th {\n",
       "        vertical-align: top;\n",
       "    }\n",
       "\n",
       "    .dataframe thead th {\n",
       "        text-align: right;\n",
       "    }\n",
       "</style>\n",
       "<table border=\"1\" class=\"dataframe\">\n",
       "  <thead>\n",
       "    <tr style=\"text-align: right;\">\n",
       "      <th></th>\n",
       "      <th>path</th>\n",
       "      <th>label</th>\n",
       "      <th>imagesize_w</th>\n",
       "      <th>imagesize_h</th>\n",
       "      <th>filesize</th>\n",
       "      <th>ratio</th>\n",
       "    </tr>\n",
       "  </thead>\n",
       "  <tbody>\n",
       "    <tr>\n",
       "      <th>12</th>\n",
       "      <td>/home/labuser/deeplearning/thesis/datasets/int...</td>\n",
       "      <td>genasom</td>\n",
       "      <td>1024</td>\n",
       "      <td>1169</td>\n",
       "      <td>1198112</td>\n",
       "      <td>1.0</td>\n",
       "    </tr>\n",
       "    <tr>\n",
       "      <th>13</th>\n",
       "      <td>/home/labuser/deeplearning/thesis/datasets/int...</td>\n",
       "      <td>genasom</td>\n",
       "      <td>1024</td>\n",
       "      <td>1321</td>\n",
       "      <td>1015584</td>\n",
       "      <td>1.0</td>\n",
       "    </tr>\n",
       "    <tr>\n",
       "      <th>14</th>\n",
       "      <td>/home/labuser/deeplearning/thesis/datasets/int...</td>\n",
       "      <td>genasom</td>\n",
       "      <td>256</td>\n",
       "      <td>339</td>\n",
       "      <td>87069</td>\n",
       "      <td>1.0</td>\n",
       "    </tr>\n",
       "    <tr>\n",
       "      <th>15</th>\n",
       "      <td>/home/labuser/deeplearning/thesis/datasets/int...</td>\n",
       "      <td>genasom</td>\n",
       "      <td>1024</td>\n",
       "      <td>1448</td>\n",
       "      <td>1164530</td>\n",
       "      <td>1.0</td>\n",
       "    </tr>\n",
       "    <tr>\n",
       "      <th>16</th>\n",
       "      <td>/home/labuser/deeplearning/thesis/datasets/int...</td>\n",
       "      <td>genasom</td>\n",
       "      <td>768</td>\n",
       "      <td>1309</td>\n",
       "      <td>1006074</td>\n",
       "      <td>1.0</td>\n",
       "    </tr>\n",
       "    <tr>\n",
       "      <th>...</th>\n",
       "      <td>...</td>\n",
       "      <td>...</td>\n",
       "      <td>...</td>\n",
       "      <td>...</td>\n",
       "      <td>...</td>\n",
       "      <td>...</td>\n",
       "    </tr>\n",
       "    <tr>\n",
       "      <th>7289</th>\n",
       "      <td>/home/labuser/deeplearning/thesis/datasets/int...</td>\n",
       "      <td>cerber</td>\n",
       "      <td>384</td>\n",
       "      <td>503</td>\n",
       "      <td>193611</td>\n",
       "      <td>1.0</td>\n",
       "    </tr>\n",
       "    <tr>\n",
       "      <th>7290</th>\n",
       "      <td>/home/labuser/deeplearning/thesis/datasets/int...</td>\n",
       "      <td>cerber</td>\n",
       "      <td>512</td>\n",
       "      <td>699</td>\n",
       "      <td>355640</td>\n",
       "      <td>1.0</td>\n",
       "    </tr>\n",
       "    <tr>\n",
       "      <th>7291</th>\n",
       "      <td>/home/labuser/deeplearning/thesis/datasets/int...</td>\n",
       "      <td>cerber</td>\n",
       "      <td>512</td>\n",
       "      <td>743</td>\n",
       "      <td>228161</td>\n",
       "      <td>1.0</td>\n",
       "    </tr>\n",
       "    <tr>\n",
       "      <th>7292</th>\n",
       "      <td>/home/labuser/deeplearning/thesis/datasets/int...</td>\n",
       "      <td>cerber</td>\n",
       "      <td>512</td>\n",
       "      <td>498</td>\n",
       "      <td>212815</td>\n",
       "      <td>1.0</td>\n",
       "    </tr>\n",
       "    <tr>\n",
       "      <th>7293</th>\n",
       "      <td>/home/labuser/deeplearning/thesis/datasets/int...</td>\n",
       "      <td>cerber</td>\n",
       "      <td>512</td>\n",
       "      <td>700</td>\n",
       "      <td>355679</td>\n",
       "      <td>1.0</td>\n",
       "    </tr>\n",
       "  </tbody>\n",
       "</table>\n",
       "<p>6570 rows × 6 columns</p>\n",
       "</div>"
      ],
      "text/plain": [
       "                                                   path    label  imagesize_w  \\\n",
       "12    /home/labuser/deeplearning/thesis/datasets/int...  genasom         1024   \n",
       "13    /home/labuser/deeplearning/thesis/datasets/int...  genasom         1024   \n",
       "14    /home/labuser/deeplearning/thesis/datasets/int...  genasom          256   \n",
       "15    /home/labuser/deeplearning/thesis/datasets/int...  genasom         1024   \n",
       "16    /home/labuser/deeplearning/thesis/datasets/int...  genasom          768   \n",
       "...                                                 ...      ...          ...   \n",
       "7289  /home/labuser/deeplearning/thesis/datasets/int...   cerber          384   \n",
       "7290  /home/labuser/deeplearning/thesis/datasets/int...   cerber          512   \n",
       "7291  /home/labuser/deeplearning/thesis/datasets/int...   cerber          512   \n",
       "7292  /home/labuser/deeplearning/thesis/datasets/int...   cerber          512   \n",
       "7293  /home/labuser/deeplearning/thesis/datasets/int...   cerber          512   \n",
       "\n",
       "      imagesize_h  filesize  ratio  \n",
       "12           1169   1198112    1.0  \n",
       "13           1321   1015584    1.0  \n",
       "14            339     87069    1.0  \n",
       "15           1448   1164530    1.0  \n",
       "16           1309   1006074    1.0  \n",
       "...           ...       ...    ...  \n",
       "7289          503    193611    1.0  \n",
       "7290          699    355640    1.0  \n",
       "7291          743    228161    1.0  \n",
       "7292          498    212815    1.0  \n",
       "7293          700    355679    1.0  \n",
       "\n",
       "[6570 rows x 6 columns]"
      ]
     },
     "execution_count": 78,
     "metadata": {},
     "output_type": "execute_result"
    }
   ],
   "source": [
    "# Selection of Minimum of 100 samples per family #100 samples = 100 samples (90% train) 10 samples (10% validation) 10 samples (10% test)\n",
    "preselection.groupby('label').filter(lambda x: len(x) >= 100)"
   ]
  },
  {
   "cell_type": "code",
   "execution_count": 79,
   "metadata": {},
   "outputs": [
    {
     "data": {
      "text/html": [
       "<div>\n",
       "<style scoped>\n",
       "    .dataframe tbody tr th:only-of-type {\n",
       "        vertical-align: middle;\n",
       "    }\n",
       "\n",
       "    .dataframe tbody tr th {\n",
       "        vertical-align: top;\n",
       "    }\n",
       "\n",
       "    .dataframe thead th {\n",
       "        text-align: right;\n",
       "    }\n",
       "</style>\n",
       "<table border=\"1\" class=\"dataframe\">\n",
       "  <thead>\n",
       "    <tr style=\"text-align: right;\">\n",
       "      <th></th>\n",
       "      <th>path</th>\n",
       "      <th>label</th>\n",
       "      <th>imagesize_w</th>\n",
       "      <th>imagesize_h</th>\n",
       "      <th>filesize</th>\n",
       "      <th>ratio</th>\n",
       "    </tr>\n",
       "  </thead>\n",
       "  <tbody>\n",
       "    <tr>\n",
       "      <th>12</th>\n",
       "      <td>/home/labuser/deeplearning/thesis/datasets/int...</td>\n",
       "      <td>genasom</td>\n",
       "      <td>1024</td>\n",
       "      <td>1169</td>\n",
       "      <td>1198112</td>\n",
       "      <td>1.0</td>\n",
       "    </tr>\n",
       "    <tr>\n",
       "      <th>13</th>\n",
       "      <td>/home/labuser/deeplearning/thesis/datasets/int...</td>\n",
       "      <td>genasom</td>\n",
       "      <td>1024</td>\n",
       "      <td>1321</td>\n",
       "      <td>1015584</td>\n",
       "      <td>1.0</td>\n",
       "    </tr>\n",
       "    <tr>\n",
       "      <th>14</th>\n",
       "      <td>/home/labuser/deeplearning/thesis/datasets/int...</td>\n",
       "      <td>genasom</td>\n",
       "      <td>256</td>\n",
       "      <td>339</td>\n",
       "      <td>87069</td>\n",
       "      <td>1.0</td>\n",
       "    </tr>\n",
       "    <tr>\n",
       "      <th>15</th>\n",
       "      <td>/home/labuser/deeplearning/thesis/datasets/int...</td>\n",
       "      <td>genasom</td>\n",
       "      <td>1024</td>\n",
       "      <td>1448</td>\n",
       "      <td>1164530</td>\n",
       "      <td>1.0</td>\n",
       "    </tr>\n",
       "    <tr>\n",
       "      <th>16</th>\n",
       "      <td>/home/labuser/deeplearning/thesis/datasets/int...</td>\n",
       "      <td>genasom</td>\n",
       "      <td>768</td>\n",
       "      <td>1309</td>\n",
       "      <td>1006074</td>\n",
       "      <td>1.0</td>\n",
       "    </tr>\n",
       "    <tr>\n",
       "      <th>...</th>\n",
       "      <td>...</td>\n",
       "      <td>...</td>\n",
       "      <td>...</td>\n",
       "      <td>...</td>\n",
       "      <td>...</td>\n",
       "      <td>...</td>\n",
       "    </tr>\n",
       "    <tr>\n",
       "      <th>7289</th>\n",
       "      <td>/home/labuser/deeplearning/thesis/datasets/int...</td>\n",
       "      <td>cerber</td>\n",
       "      <td>384</td>\n",
       "      <td>503</td>\n",
       "      <td>193611</td>\n",
       "      <td>1.0</td>\n",
       "    </tr>\n",
       "    <tr>\n",
       "      <th>7290</th>\n",
       "      <td>/home/labuser/deeplearning/thesis/datasets/int...</td>\n",
       "      <td>cerber</td>\n",
       "      <td>512</td>\n",
       "      <td>699</td>\n",
       "      <td>355640</td>\n",
       "      <td>1.0</td>\n",
       "    </tr>\n",
       "    <tr>\n",
       "      <th>7291</th>\n",
       "      <td>/home/labuser/deeplearning/thesis/datasets/int...</td>\n",
       "      <td>cerber</td>\n",
       "      <td>512</td>\n",
       "      <td>743</td>\n",
       "      <td>228161</td>\n",
       "      <td>1.0</td>\n",
       "    </tr>\n",
       "    <tr>\n",
       "      <th>7292</th>\n",
       "      <td>/home/labuser/deeplearning/thesis/datasets/int...</td>\n",
       "      <td>cerber</td>\n",
       "      <td>512</td>\n",
       "      <td>498</td>\n",
       "      <td>212815</td>\n",
       "      <td>1.0</td>\n",
       "    </tr>\n",
       "    <tr>\n",
       "      <th>7293</th>\n",
       "      <td>/home/labuser/deeplearning/thesis/datasets/int...</td>\n",
       "      <td>cerber</td>\n",
       "      <td>512</td>\n",
       "      <td>700</td>\n",
       "      <td>355679</td>\n",
       "      <td>1.0</td>\n",
       "    </tr>\n",
       "  </tbody>\n",
       "</table>\n",
       "<p>6709 rows × 6 columns</p>\n",
       "</div>"
      ],
      "text/plain": [
       "                                                   path    label  imagesize_w  \\\n",
       "12    /home/labuser/deeplearning/thesis/datasets/int...  genasom         1024   \n",
       "13    /home/labuser/deeplearning/thesis/datasets/int...  genasom         1024   \n",
       "14    /home/labuser/deeplearning/thesis/datasets/int...  genasom          256   \n",
       "15    /home/labuser/deeplearning/thesis/datasets/int...  genasom         1024   \n",
       "16    /home/labuser/deeplearning/thesis/datasets/int...  genasom          768   \n",
       "...                                                 ...      ...          ...   \n",
       "7289  /home/labuser/deeplearning/thesis/datasets/int...   cerber          384   \n",
       "7290  /home/labuser/deeplearning/thesis/datasets/int...   cerber          512   \n",
       "7291  /home/labuser/deeplearning/thesis/datasets/int...   cerber          512   \n",
       "7292  /home/labuser/deeplearning/thesis/datasets/int...   cerber          512   \n",
       "7293  /home/labuser/deeplearning/thesis/datasets/int...   cerber          512   \n",
       "\n",
       "      imagesize_h  filesize  ratio  \n",
       "12           1169   1198112    1.0  \n",
       "13           1321   1015584    1.0  \n",
       "14            339     87069    1.0  \n",
       "15           1448   1164530    1.0  \n",
       "16           1309   1006074    1.0  \n",
       "...           ...       ...    ...  \n",
       "7289          503    193611    1.0  \n",
       "7290          699    355640    1.0  \n",
       "7291          743    228161    1.0  \n",
       "7292          498    212815    1.0  \n",
       "7293          700    355679    1.0  \n",
       "\n",
       "[6709 rows x 6 columns]"
      ]
     },
     "execution_count": 79,
     "metadata": {},
     "output_type": "execute_result"
    }
   ],
   "source": [
    "# Selection of Minimum of 50 samples per family #50 samples = 35 samples (80% train) 15 samples (20% validation) 5 samples (10% test)\n",
    "preselection.groupby('label').filter(lambda x: len(x) >= 50)"
   ]
  },
  {
   "cell_type": "code",
   "execution_count": 80,
   "metadata": {},
   "outputs": [
    {
     "data": {
      "text/plain": [
       "6570"
      ]
     },
     "execution_count": 80,
     "metadata": {},
     "output_type": "execute_result"
    }
   ],
   "source": [
    "#total samples in dataset\n",
    "preselection = preselection.groupby('label').filter(lambda x: len(x) >= 100)\n",
    "preselection['path'].count()"
   ]
  },
  {
   "cell_type": "code",
   "execution_count": 81,
   "metadata": {},
   "outputs": [
    {
     "data": {
      "text/html": [
       "<div>\n",
       "<style scoped>\n",
       "    .dataframe tbody tr th:only-of-type {\n",
       "        vertical-align: middle;\n",
       "    }\n",
       "\n",
       "    .dataframe tbody tr th {\n",
       "        vertical-align: top;\n",
       "    }\n",
       "\n",
       "    .dataframe thead th {\n",
       "        text-align: right;\n",
       "    }\n",
       "</style>\n",
       "<table border=\"1\" class=\"dataframe\">\n",
       "  <thead>\n",
       "    <tr style=\"text-align: right;\">\n",
       "      <th></th>\n",
       "      <th>imagesize_w</th>\n",
       "      <th>imagesize_h</th>\n",
       "      <th>filesize</th>\n",
       "      <th>ratio</th>\n",
       "    </tr>\n",
       "  </thead>\n",
       "  <tbody>\n",
       "    <tr>\n",
       "      <th>count</th>\n",
       "      <td>6570.000000</td>\n",
       "      <td>6570.000000</td>\n",
       "      <td>6.570000e+03</td>\n",
       "      <td>6570.0</td>\n",
       "    </tr>\n",
       "    <tr>\n",
       "      <th>mean</th>\n",
       "      <td>515.428919</td>\n",
       "      <td>657.836682</td>\n",
       "      <td>3.330959e+05</td>\n",
       "      <td>1.0</td>\n",
       "    </tr>\n",
       "    <tr>\n",
       "      <th>std</th>\n",
       "      <td>160.833543</td>\n",
       "      <td>658.628330</td>\n",
       "      <td>5.501500e+05</td>\n",
       "      <td>0.0</td>\n",
       "    </tr>\n",
       "    <tr>\n",
       "      <th>min</th>\n",
       "      <td>128.000000</td>\n",
       "      <td>241.000000</td>\n",
       "      <td>1.891100e+04</td>\n",
       "      <td>1.0</td>\n",
       "    </tr>\n",
       "    <tr>\n",
       "      <th>25%</th>\n",
       "      <td>512.000000</td>\n",
       "      <td>464.000000</td>\n",
       "      <td>1.956930e+05</td>\n",
       "      <td>1.0</td>\n",
       "    </tr>\n",
       "    <tr>\n",
       "      <th>50%</th>\n",
       "      <td>512.000000</td>\n",
       "      <td>569.000000</td>\n",
       "      <td>2.492450e+05</td>\n",
       "      <td>1.0</td>\n",
       "    </tr>\n",
       "    <tr>\n",
       "      <th>75%</th>\n",
       "      <td>512.000000</td>\n",
       "      <td>706.750000</td>\n",
       "      <td>3.246740e+05</td>\n",
       "      <td>1.0</td>\n",
       "    </tr>\n",
       "    <tr>\n",
       "      <th>max</th>\n",
       "      <td>1024.000000</td>\n",
       "      <td>30147.000000</td>\n",
       "      <td>2.923262e+07</td>\n",
       "      <td>1.0</td>\n",
       "    </tr>\n",
       "  </tbody>\n",
       "</table>\n",
       "</div>"
      ],
      "text/plain": [
       "       imagesize_w   imagesize_h      filesize   ratio\n",
       "count  6570.000000   6570.000000  6.570000e+03  6570.0\n",
       "mean    515.428919    657.836682  3.330959e+05     1.0\n",
       "std     160.833543    658.628330  5.501500e+05     0.0\n",
       "min     128.000000    241.000000  1.891100e+04     1.0\n",
       "25%     512.000000    464.000000  1.956930e+05     1.0\n",
       "50%     512.000000    569.000000  2.492450e+05     1.0\n",
       "75%     512.000000    706.750000  3.246740e+05     1.0\n",
       "max    1024.000000  30147.000000  2.923262e+07     1.0"
      ]
     },
     "execution_count": 81,
     "metadata": {},
     "output_type": "execute_result"
    }
   ],
   "source": [
    "preselection.describe()"
   ]
  },
  {
   "cell_type": "code",
   "execution_count": 83,
   "metadata": {},
   "outputs": [
    {
     "data": {
      "image/png": "[encoded data removed]",
      "text/plain": [
       "<Figure size 432x288 with 1 Axes>"
      ]
     },
     "metadata": {
      "needs_background": "light"
     },
     "output_type": "display_data"
    }
   ],
   "source": [
    "#final plot Ransomware families + benign\n",
    "chart = sns.countplot(x='label', data=preselection, order = preselection['label'].value_counts().index, palette='Set1')\n",
    "chart.set_title(\"Ransomware research dataset - Selected Ransomware families + benign samples\")\n",
    "chart.set_xticklabels(chart.get_xticklabels(),rotation=45,horizontalalignment='right')\n",
    "plt.savefig('RansomwareResearchset.png')\n",
    "plt.show()\n"
   ]
  },
  {
   "cell_type": "code",
   "execution_count": 84,
   "metadata": {},
   "outputs": [
    {
     "data": {
      "text/plain": [
       "29.528846153846153"
      ]
     },
     "execution_count": 84,
     "metadata": {},
     "output_type": "execute_result"
    }
   ],
   "source": [
    "preselection['label'].value_counts()\n",
    "#Ratio smalles vs largest\n",
    "3071/104"
   ]
  },
  {
   "cell_type": "markdown",
   "metadata": {},
   "source": [
    "# Part 5 - Training and Test split"
   ]
  },
  {
   "cell_type": "code",
   "execution_count": 85,
   "metadata": {},
   "outputs": [],
   "source": [
    "ransomware_train = pd.read_pickle('/home/labuser/deeplearning/thesis/datamanagement/dataman/trainset_grayscale.pkl')"
   ]
  },
  {
   "cell_type": "code",
   "execution_count": 86,
   "metadata": {},
   "outputs": [
    {
     "data": {
      "text/html": [
       "<div>\n",
       "<style scoped>\n",
       "    .dataframe tbody tr th:only-of-type {\n",
       "        vertical-align: middle;\n",
       "    }\n",
       "\n",
       "    .dataframe tbody tr th {\n",
       "        vertical-align: top;\n",
       "    }\n",
       "\n",
       "    .dataframe thead th {\n",
       "        text-align: right;\n",
       "    }\n",
       "</style>\n",
       "<table border=\"1\" class=\"dataframe\">\n",
       "  <thead>\n",
       "    <tr style=\"text-align: right;\">\n",
       "      <th></th>\n",
       "      <th>imagesize_w</th>\n",
       "      <th>imagesize_h</th>\n",
       "      <th>filesize</th>\n",
       "    </tr>\n",
       "  </thead>\n",
       "  <tbody>\n",
       "    <tr>\n",
       "      <th>count</th>\n",
       "      <td>5913.000000</td>\n",
       "      <td>5913.000000</td>\n",
       "      <td>5.913000e+03</td>\n",
       "    </tr>\n",
       "    <tr>\n",
       "      <th>mean</th>\n",
       "      <td>515.939794</td>\n",
       "      <td>660.191612</td>\n",
       "      <td>3.346152e+05</td>\n",
       "    </tr>\n",
       "    <tr>\n",
       "      <th>std</th>\n",
       "      <td>161.404590</td>\n",
       "      <td>682.006434</td>\n",
       "      <td>5.661085e+05</td>\n",
       "    </tr>\n",
       "    <tr>\n",
       "      <th>min</th>\n",
       "      <td>128.000000</td>\n",
       "      <td>242.000000</td>\n",
       "      <td>1.891100e+04</td>\n",
       "    </tr>\n",
       "    <tr>\n",
       "      <th>25%</th>\n",
       "      <td>512.000000</td>\n",
       "      <td>465.000000</td>\n",
       "      <td>1.956930e+05</td>\n",
       "    </tr>\n",
       "    <tr>\n",
       "      <th>50%</th>\n",
       "      <td>512.000000</td>\n",
       "      <td>569.000000</td>\n",
       "      <td>2.495620e+05</td>\n",
       "    </tr>\n",
       "    <tr>\n",
       "      <th>75%</th>\n",
       "      <td>512.000000</td>\n",
       "      <td>706.000000</td>\n",
       "      <td>3.239720e+05</td>\n",
       "    </tr>\n",
       "    <tr>\n",
       "      <th>max</th>\n",
       "      <td>1024.000000</td>\n",
       "      <td>30147.000000</td>\n",
       "      <td>2.923262e+07</td>\n",
       "    </tr>\n",
       "  </tbody>\n",
       "</table>\n",
       "</div>"
      ],
      "text/plain": [
       "       imagesize_w   imagesize_h      filesize\n",
       "count  5913.000000   5913.000000  5.913000e+03\n",
       "mean    515.939794    660.191612  3.346152e+05\n",
       "std     161.404590    682.006434  5.661085e+05\n",
       "min     128.000000    242.000000  1.891100e+04\n",
       "25%     512.000000    465.000000  1.956930e+05\n",
       "50%     512.000000    569.000000  2.495620e+05\n",
       "75%     512.000000    706.000000  3.239720e+05\n",
       "max    1024.000000  30147.000000  2.923262e+07"
      ]
     },
     "execution_count": 86,
     "metadata": {},
     "output_type": "execute_result"
    }
   ],
   "source": [
    "ransomware_train.describe()"
   ]
  },
  {
   "cell_type": "code",
   "execution_count": 87,
   "metadata": {},
   "outputs": [
    {
     "data": {
      "image/png": "[encoded data removed]",
      "text/plain": [
       "<Figure size 432x288 with 1 Axes>"
      ]
     },
     "metadata": {
      "needs_background": "light"
     },
     "output_type": "display_data"
    }
   ],
   "source": [
    "#final plot Ransomware families + benign - Train\n",
    "chart = sns.countplot(x='label', data=ransomware_train, order = ransomware_train['label'].value_counts().index, palette='Set1')\n",
    "chart.set_title(\"Ransomware research dataset - Trainingset Ransomware families + benign samples\")\n",
    "chart.set_xticklabels(chart.get_xticklabels(),rotation=45,horizontalalignment='right')\n",
    "#plt.savefig('Selected ransomware_in_VTdataset.png')\n",
    "plt.show()"
   ]
  },
  {
   "cell_type": "code",
   "execution_count": 89,
   "metadata": {},
   "outputs": [],
   "source": [
    "ransomware_test = pd.read_pickle('/home/labuser/deeplearning/thesis/datamanagement/dataman/testset_grayscale.pkl')"
   ]
  },
  {
   "cell_type": "code",
   "execution_count": 90,
   "metadata": {},
   "outputs": [
    {
     "data": {
      "image/png": "[encoded data removed]",
      "text/plain": [
       "<Figure size 432x288 with 1 Axes>"
      ]
     },
     "metadata": {
      "needs_background": "light"
     },
     "output_type": "display_data"
    }
   ],
   "source": [
    "#final plot Ransomware families + benign - Test\n",
    "chart = sns.countplot(x='label', data=ransomware_test, order = ransomware_test['label'].value_counts().index, palette='Set1')\n",
    "chart.set_title(\"Ransomware research dataset - Testset Ransomware families + benign samples\")\n",
    "chart.set_xticklabels(chart.get_xticklabels(),rotation=45,horizontalalignment='right')\n",
    "#plt.savefig('Malware_in_VTdataset.png')\n",
    "plt.show()"
   ]
  },
  {
   "cell_type": "code",
   "execution_count": null,
   "metadata": {},
   "outputs": [],
   "source": []
  }
 ],
 "metadata": {
  "kernelspec": {
   "display_name": "Python 3",
   "language": "python",
   "name": "python3"
  },
  "language_info": {
   "codemirror_mode": {
    "name": "ipython",
    "version": 3
   },
   "file_extension": ".py",
   "mimetype": "text/x-python",
   "name": "python",
   "nbconvert_exporter": "python",
   "pygments_lexer": "ipython3",
   "version": "3.6.9"
  }
 },
 "nbformat": 4,
 "nbformat_minor": 4
}
