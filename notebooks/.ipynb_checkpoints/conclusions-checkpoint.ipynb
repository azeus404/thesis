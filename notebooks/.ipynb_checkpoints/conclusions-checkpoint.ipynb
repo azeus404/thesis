{
 "cells": [
  {
   "cell_type": "markdown",
   "metadata": {},
   "source": [
    "# Chapter 6 - Conclusions"
   ]
  },
  {
   "cell_type": "markdown",
   "metadata": {},
   "source": [
    "false postive FPR \n",
    "https://towardsdatascience.com/beyond-accuracy-precision-and-recall-3da06bea9f6c#:~:text=False%20positives%20are%20cases%20the,as%20terrorists%20that%20are%20not.\n",
    "    "
   ]
  },
  {
   "cell_type": "markdown",
   "metadata": {},
   "source": [
    "Did we meet the aims of the research?"
   ]
  },
  {
   "cell_type": "code",
   "execution_count": null,
   "metadata": {},
   "outputs": [],
   "source": [
    "Did we meet the aims of the research?"
   ]
  },
  {
   "cell_type": "markdown",
   "metadata": {},
   "source": [
    "Some of the models models seem to over fit and we added dropout layers to compensate:\n",
    "https://towardsdatascience.com/8-simple-techniques-to-prevent-overfitting-4d443da2ef7d\n",
    "    "
   ]
  },
  {
   "cell_type": "markdown",
   "metadata": {},
   "source": [
    "Our experimental results show that ransomware images can be detected and reliably identified, like other malware classifcations methods."
   ]
  },
  {
   "cell_type": "markdown",
   "metadata": {},
   "source": [
    "## Research questions"
   ]
  },
  {
   "cell_type": "markdown",
   "metadata": {},
   "source": [
    "MRQ How can Deep Learning be used to detect & identify ransomware for the Microsoft Windows platform?\n",
    "\n",
    "RQ1 What are the current methods for detecting & identifying ransomware?\n",
    "\n",
    "RQ2 What is Deep Learning & Deep Transfer Learning?\n",
    "\n",
    "RQ3 How can a pre-trained model be implemented for detecting & identifying ransomware?\n"
   ]
  },
  {
   "cell_type": "code",
   "execution_count": null,
   "metadata": {},
   "outputs": [],
   "source": []
  },
  {
   "cell_type": "markdown",
   "metadata": {},
   "source": [
    "MobileNetV2 and MobileNetV2 90%"
   ]
  }
 ],
 "metadata": {
  "kernelspec": {
   "display_name": "Python 3",
   "language": "python",
   "name": "python3"
  },
  "language_info": {
   "codemirror_mode": {
    "name": "ipython",
    "version": 3
   },
   "file_extension": ".py",
   "mimetype": "text/x-python",
   "name": "python",
   "nbconvert_exporter": "python",
   "pygments_lexer": "ipython3",
   "version": "3.6.9"
  }
 },
 "nbformat": 4,
 "nbformat_minor": 4
}
